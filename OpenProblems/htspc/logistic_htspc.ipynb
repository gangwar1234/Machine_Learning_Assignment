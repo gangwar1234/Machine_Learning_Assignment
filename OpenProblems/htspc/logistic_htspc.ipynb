{
  "nbformat": 4,
  "nbformat_minor": 0,
  "metadata": {
    "colab": {
      "name": "logistic_4.ipynb",
      "provenance": []
    },
    "kernelspec": {
      "name": "python3",
      "display_name": "Python 3"
    },
    "accelerator": "GPU"
  },
  "cells": [
    {
      "cell_type": "code",
      "metadata": {
        "id": "NW4ucJ_fnF1U",
        "colab_type": "code",
        "outputId": "3dfda4d0-116b-4128-b885-ac4d01cfbd07",
        "colab": {
          "base_uri": "https://localhost:8080/",
          "height": 558
        }
      },
      "source": [
        "!pip install demoji\n",
        "!pip install emoji\n",
        "!pip install Unidecode\n",
        "import pandas as pd\n",
        "import sys\n",
        "import string  \n",
        "from sklearn.model_selection import train_test_split\n",
        "from nltk.stem import PorterStemmer\n",
        "from sklearn.metrics import classification_report\n",
        "import numpy as np\n",
        "import nltk\n",
        "nltk.download('wordnet')\n",
        "import cv2\n",
        "from nltk.tokenize import RegexpTokenizer\n",
        "import matplotlib.pyplot as plt\n",
        "from sklearn.metrics import mean_squared_error\n",
        "import matplotlib.image as mpimg\n",
        "from sklearn.metrics import confusion_matrix, accuracy_score, f1_score\n",
        "from sklearn.metrics import precision_score, recall_score, r2_score\n",
        "from os import listdir\n",
        "from os.path import isfile, join\n",
        "from sklearn import datasets, svm, metrics\n",
        "from bs4 import BeautifulSoup\n",
        "import re\n",
        "from unidecode import unidecode\n",
        "from nltk.stem import PorterStemmer \n",
        "from nltk.tokenize import word_tokenize \n",
        "from keras.utils import to_categorical\n",
        "import demoji\n",
        "import emoji\n",
        "from keras.models import Sequential\n",
        "from keras.layers import Embedding,Bidirectional,Dense,Conv1D,Flatten,LSTM,GlobalMaxPooling1D,Dropout\n",
        "from keras.preprocessing.text import Tokenizer\n",
        "from sklearn.manifold import TSNE\n",
        "import matplotlib.pyplot as plt\n",
        "from keras.preprocessing.text import Tokenizer\n",
        "from keras.preprocessing.sequence import pad_sequences\n",
        "from keras.optimizers import Adam\n",
        "from sklearn.linear_model import LogisticRegression\n",
        "from nltk.tokenize import WordPunctTokenizer\n",
        "from nltk.stem import WordNetLemmatizer \n",
        "from sklearn.feature_extraction.text import TfidfVectorizer"
      ],
      "execution_count": 0,
      "outputs": [
        {
          "output_type": "stream",
          "text": [
            "Collecting demoji\n",
            "  Downloading https://files.pythonhosted.org/packages/da/0b/d008f26ebbfd86d21117267e627f2f7359c76e5ecbeba08d8f631f4092c4/demoji-0.2.1-py2.py3-none-any.whl\n",
            "Requirement already satisfied: setuptools in /usr/local/lib/python3.6/dist-packages (from demoji) (46.1.3)\n",
            "Collecting colorama\n",
            "  Downloading https://files.pythonhosted.org/packages/c9/dc/45cdef1b4d119eb96316b3117e6d5708a08029992b2fee2c143c7a0a5cc5/colorama-0.4.3-py2.py3-none-any.whl\n",
            "Requirement already satisfied: requests<3.0.0 in /usr/local/lib/python3.6/dist-packages (from demoji) (2.21.0)\n",
            "Requirement already satisfied: idna<2.9,>=2.5 in /usr/local/lib/python3.6/dist-packages (from requests<3.0.0->demoji) (2.8)\n",
            "Requirement already satisfied: certifi>=2017.4.17 in /usr/local/lib/python3.6/dist-packages (from requests<3.0.0->demoji) (2020.4.5.1)\n",
            "Requirement already satisfied: chardet<3.1.0,>=3.0.2 in /usr/local/lib/python3.6/dist-packages (from requests<3.0.0->demoji) (3.0.4)\n",
            "Requirement already satisfied: urllib3<1.25,>=1.21.1 in /usr/local/lib/python3.6/dist-packages (from requests<3.0.0->demoji) (1.24.3)\n",
            "Installing collected packages: colorama, demoji\n",
            "Successfully installed colorama-0.4.3 demoji-0.2.1\n",
            "Collecting emoji\n",
            "\u001b[?25l  Downloading https://files.pythonhosted.org/packages/40/8d/521be7f0091fe0f2ae690cc044faf43e3445e0ff33c574eae752dd7e39fa/emoji-0.5.4.tar.gz (43kB)\n",
            "\u001b[K     |████████████████████████████████| 51kB 3.1MB/s \n",
            "\u001b[?25hBuilding wheels for collected packages: emoji\n",
            "  Building wheel for emoji (setup.py) ... \u001b[?25l\u001b[?25hdone\n",
            "  Created wheel for emoji: filename=emoji-0.5.4-cp36-none-any.whl size=42176 sha256=bdfcdc7059a5b11266e80317e3249ea08188b1c8926c5875f4f3abcefc824fea\n",
            "  Stored in directory: /root/.cache/pip/wheels/2a/a9/0a/4f8e8cce8074232aba240caca3fade315bb49fac68808d1a9c\n",
            "Successfully built emoji\n",
            "Installing collected packages: emoji\n",
            "Successfully installed emoji-0.5.4\n",
            "Collecting Unidecode\n",
            "\u001b[?25l  Downloading https://files.pythonhosted.org/packages/d0/42/d9edfed04228bacea2d824904cae367ee9efd05e6cce7ceaaedd0b0ad964/Unidecode-1.1.1-py2.py3-none-any.whl (238kB)\n",
            "\u001b[K     |████████████████████████████████| 245kB 6.1MB/s \n",
            "\u001b[?25hInstalling collected packages: Unidecode\n",
            "Successfully installed Unidecode-1.1.1\n",
            "[nltk_data] Downloading package wordnet to /root/nltk_data...\n",
            "[nltk_data]   Unzipping corpora/wordnet.zip.\n"
          ],
          "name": "stdout"
        },
        {
          "output_type": "stream",
          "text": [
            "Using TensorFlow backend.\n"
          ],
          "name": "stderr"
        }
      ]
    },
    {
      "cell_type": "code",
      "metadata": {
        "id": "hxppAZ_27rnD",
        "colab_type": "code",
        "colab": {}
      },
      "source": [
        "import csv"
      ],
      "execution_count": 0,
      "outputs": []
    },
    {
      "cell_type": "code",
      "metadata": {
        "id": "0JoHMU-_nOmf",
        "colab_type": "code",
        "colab": {}
      },
      "source": [
        "class cleaning:\n",
        "  lemmatizer = WordNetLemmatizer()\n",
        "  tok = WordPunctTokenizer()\n",
        "  pat1 = r'@[A-Za-z0-9]+'\n",
        "  pat2 = r'https?://[A-Za-z0-9./]+'\n",
        "  combined_pat = r'|'.join((pat1, pat2))\n",
        "\n",
        "  def tweet_cleaner(self,text):\n",
        "      text = emoji.demojize(text)\n",
        "      soup = BeautifulSoup(text, 'lxml')\n",
        "      souped = soup.get_text()\n",
        "      stripped = re.sub(self.combined_pat, '', souped)\n",
        "      try:\n",
        "          clean = stripped.decode(\"utf-8-sig\").replace(u\"\\ufffd\", \"?\")\n",
        "      except:\n",
        "          clean = stripped\n",
        "      letters_only = re.sub(\"[^a-zA-Z]\", \" \", clean)\n",
        "      letters_only = re.sub('([A-Z][a-z]+)', r' \\1', re.sub('([A-Z]+)', r' \\1', letters_only))\n",
        "      lower_case = letters_only.lower()\n",
        "      words = self.tok.tokenize(lower_case)\n",
        "      wordss = []\n",
        "      for w in words: \n",
        "        wordss.append(self.lemmatizer.lemmatize(w)) \n",
        "      S = (\" \".join(wordss)).strip()\n",
        "      return S\n",
        "\n",
        "  def PreProcessing(self,Data):\n",
        "      for i in range(Data.shape[0]):\n",
        "          before = Data\n",
        "          feature = Data.iloc[i,:]\n",
        "          feature = ''.join(i for i in feature if not i.isdigit())\n",
        "          exc = set(string.punctuation)\n",
        "          feature = ''.join(ch for ch in feature if ch not in exc)\n",
        "          feature = unidecode(feature)\n",
        "          feature = feature.lower()\n",
        "          feature = feature.strip()\n",
        "          feature.encode('ascii', 'ignore').decode('ascii')\n",
        "          tokenizer = RegexpTokenizer(\"\\w+|\\d\\.]+|\\S+\")\n",
        "          tokens = tokenizer.tokenize(feature)\n",
        "          New_Data = tokens\n",
        "          Data.iloc[i,:] = ' '.join([str(w) for w in New_Data])\n",
        "      return Data\n",
        "\n",
        "  def All_clean(self,Data):\n",
        "    test_result = []\n",
        "    for t in Data.text:\n",
        "      test_result.append(self.tweet_cleaner(t))\n",
        "    test_result = pd.DataFrame(test_result, columns=['text'])\n",
        "    # test_result = self.PreProcessing(test_result)\n",
        "    return test_result\n"
      ],
      "execution_count": 0,
      "outputs": []
    },
    {
      "cell_type": "code",
      "metadata": {
        "id": "Y3f_L40snaxu",
        "colab_type": "code",
        "outputId": "ab00c32f-f7b4-47ad-a328-1bda4e9e3283",
        "colab": {
          "base_uri": "https://localhost:8080/",
          "height": 52
        }
      },
      "source": [
        "df = pd.read_csv('/content/drive/My Drive/Data_4/1fe720be-90e4-4e06-9b52-9de93e0ea937_train.csv')\n",
        "print(df[82:83])\n",
        "YY = df['labels']"
      ],
      "execution_count": 0,
      "outputs": [
        {
          "output_type": "stream",
          "text": [
            "                                                 text  labels\n",
            "82  😂Forget Parsees Save 😂 #CongBachaoRahulHatao #...       0\n"
          ],
          "name": "stdout"
        }
      ]
    },
    {
      "cell_type": "code",
      "metadata": {
        "id": "UwS2pGtf2O93",
        "colab_type": "code",
        "colab": {}
      },
      "source": [
        "cln = cleaning()\n",
        "clean_data = cln.All_clean(df)"
      ],
      "execution_count": 0,
      "outputs": []
    },
    {
      "cell_type": "code",
      "metadata": {
        "id": "pmUmwvfYnba_",
        "colab_type": "code",
        "colab": {}
      },
      "source": [
        "\n",
        "class logistic_classifier:\n",
        "  vectorizer = TfidfVectorizer()\n",
        "  cls = cleaning()\n",
        "  clf = LogisticRegression()\n",
        "  c = None\n",
        "  def __init__(self,C = 1.0):\n",
        "    self.c = C;\n",
        "  def train(self,df,Y):\n",
        "    clean_data = self.cls.All_clean(df)\n",
        "    print(clean_data.shape)\n",
        "    X  = self.vectorizer.fit_transform(clean_data['text'])\n",
        "    X_train,X_test,Y_train1,Y_test1 = train_test_split(X,Y ,train_size = 0.80)\n",
        "    print(X_train.shape,' ',Y_train1.shape,' ',X_test.shape,' ',Y_test1.shape)\n",
        "    self.clf = LogisticRegression(C = self.c,random_state=0).fit(X_train, Y_train1)\n",
        "    y_pred = self.clf.predict(X_test)\n",
        "    print(y_pred)\n",
        "    y_true = Y_test1.values\n",
        "    print(y_true)\n",
        "    acc = accuracy_score(y_true, y_pred)\n",
        "    f1 = f1_score(y_true, y_pred, average='macro')\n",
        "    cls_rep = classification_report(y_true, y_pred, labels=[0,1])\n",
        "    print(acc)\n",
        "    print(f1)\n",
        "    return f1,acc, cls_rep\n",
        "  def test(self,test_data1):\n",
        "    test_data1 = self.cls.All_clean(test_data1)\n",
        "    X = self.vectorizer.transform(test_data['text'])\n",
        "    Y_data = pd.read_csv('/content/drive/My Drive/Data_4/3c41266b-1527-4f61-b489-1357bb886bb2_sample_submission.csv')\n",
        "    y_true_test = Y_data['labels'].values\n",
        "    y_pred_test = self.clf.predict(X)\n",
        "    y = pd.DataFrame(y_pred_test, columns=['labels'])\n",
        "    y.to_csv('submission.csv', header=True, index=False) \n",
        "    print(pd.Series(y_true_test).value_counts()) \n",
        "    print(pd.Series(y_pred_test).value_counts())\n",
        "    acc = accuracy_score(y_true_test, y_pred_test)    \n",
        "    f1 = f1_score(y_true_test, y_pred_test)\n",
        "    return [acc,f1]\n",
        "\n",
        "\n"
      ],
      "execution_count": 0,
      "outputs": []
    },
    {
      "cell_type": "code",
      "metadata": {
        "id": "NjH4B4BO8o2U",
        "colab_type": "code",
        "outputId": "3dc786a6-ce8f-4f9a-f284-062fb0fcc904",
        "colab": {
          "base_uri": "https://localhost:8080/",
          "height": 173
        }
      },
      "source": [
        "print(cls_rep)"
      ],
      "execution_count": 0,
      "outputs": [
        {
          "output_type": "stream",
          "text": [
            "              precision    recall  f1-score   support\n",
            "\n",
            "           0       0.56      0.38      0.45       382\n",
            "           1       0.70      0.83      0.76       672\n",
            "\n",
            "    accuracy                           0.67      1054\n",
            "   macro avg       0.63      0.61      0.61      1054\n",
            "weighted avg       0.65      0.67      0.65      1054\n",
            "\n"
          ],
          "name": "stdout"
        }
      ]
    },
    {
      "cell_type": "code",
      "metadata": {
        "id": "6Htj1n6s4vVq",
        "colab_type": "code",
        "outputId": "be130925-7b3f-45ac-fa4b-4ee91aeb45f8",
        "colab": {
          "base_uri": "https://localhost:8080/",
          "height": 279
        }
      },
      "source": [
        "plt.plot( C,FF) \n",
        "plt.ylabel('F1 score') \n",
        "plt.xlabel('C Parameter') \n",
        "plt.savefig('foo.png')"
      ],
      "execution_count": 0,
      "outputs": [
        {
          "output_type": "display_data",
          "data": {
            "image/png": "[encoded data removed]",
            "text/plain": [
              "<Figure size 432x288 with 1 Axes>"
            ]
          },
          "metadata": {
            "tags": [],
            "needs_background": "light"
          }
        }
      ]
    },
    {
      "cell_type": "code",
      "metadata": {
        "id": "Lu2-wAp-n1s8",
        "colab_type": "code",
        "outputId": "e4de6cfd-9ff8-4ac0-ab52-e31cc0db2092",
        "colab": {
          "base_uri": "https://localhost:8080/",
          "height": 139
        }
      },
      "source": [
        "classifier.test(test_data)"
      ],
      "execution_count": 0,
      "outputs": [
        {
          "output_type": "stream",
          "text": [
            "0    568\n",
            "1     18\n",
            "dtype: int64\n",
            "1    424\n",
            "0    162\n",
            "dtype: int64\n"
          ],
          "name": "stdout"
        },
        {
          "output_type": "execute_result",
          "data": {
            "text/plain": [
              "[0.3003412969283277, 0.07239819004524886]"
            ]
          },
          "metadata": {
            "tags": []
          },
          "execution_count": 20
        }
      ]
    },
    {
      "cell_type": "code",
      "metadata": {
        "id": "IaiDoqGFohuN",
        "colab_type": "code",
        "colab": {}
      },
      "source": [
        "A = pd.read_csv('/content/submission.csv')"
      ],
      "execution_count": 0,
      "outputs": []
    },
    {
      "cell_type": "code",
      "metadata": {
        "id": "hAZBB47tziBp",
        "colab_type": "code",
        "outputId": "60c267a5-1a4e-4475-951f-62b2285122e3",
        "colab": {
          "base_uri": "https://localhost:8080/",
          "height": 52
        }
      },
      "source": [
        "print(A[82:83])"
      ],
      "execution_count": 0,
      "outputs": [
        {
          "output_type": "stream",
          "text": [
            "    labels\n",
            "82       0\n"
          ],
          "name": "stdout"
        }
      ]
    },
    {
      "cell_type": "code",
      "metadata": {
        "id": "FXmX8SXaQW_v",
        "colab_type": "code",
        "colab": {}
      },
      "source": [
        "cla = cleaning()\n",
        "clean_data = cla.All_clean(df)"
      ],
      "execution_count": 0,
      "outputs": []
    },
    {
      "cell_type": "code",
      "metadata": {
        "id": "deR4EIt1pzSR",
        "colab_type": "code",
        "outputId": "9168e229-7481-4d5c-bd5e-521f676c98ac",
        "colab": {
          "base_uri": "https://localhost:8080/",
          "height": 72
        }
      },
      "source": [
        "clean_data[82:83].values"
      ],
      "execution_count": 0,
      "outputs": [
        {
          "output_type": "execute_result",
          "data": {
            "text/plain": [
              "array([['face with tear of joy forget parsee save face with tear of joy cong bachao rahul hatao congressneveragain congress mukt maharashtra congress party congresschorhai rajivviraatvacation rajivgandhichorhai rahulscorpenelink rahul now liability congratulation mheshimiwa abki baar paar ab hoga nyay congress mukt bharat']],\n",
              "      dtype=object)"
            ]
          },
          "metadata": {
            "tags": []
          },
          "execution_count": 12
        }
      ]
    },
    {
      "cell_type": "code",
      "metadata": {
        "id": "eRriF0Lep4xQ",
        "colab_type": "code",
        "colab": {}
      },
      "source": [
        "from sklearn.svm import SVC\n",
        "class svm_classifier:\n",
        "  vectorizer = TfidfVectorizer()\n",
        "  clf = None\n",
        "\n",
        "  def __init__(self,c=1):\n",
        "    self.clf = SVC(C=c, kernel='rbf')\n",
        "\n",
        "  def train(self,X,Y):\n",
        "    X=self.vectorizer.fit_transform(X['text'])\n",
        "    X_train,X_test,Y_train,Y_test = train_test_split(X,Y ,train_size = 0.80)\n",
        "    print(X_train.shape,' ',Y_train.shape,' ',X_test.shape,' ',Y_test.shape)\n",
        "    # X_train = X\n",
        "    # Y_train  = Y\n",
        "    hist=self.clf.fit(X_train,Y_train)\n",
        "    y_pred=self.clf.predict(X_test)\n",
        "    print(y_pred)\n",
        "    y_true = Y_test.values\n",
        "    print(y_true)\n",
        "    acc = accuracy_score(y_true, y_pred)\n",
        "    print(acc)\n",
        "    print(f1_score(y_true, y_pred, average='macro'))\n",
        "    cls_rep = classification_report(y_true, y_pred, labels=[0,1])\n",
        "    print(cls_rep)\n",
        "  \n",
        "  def test(self,test_data):\n",
        "    X_p = self.vectorizer.transform(test_data['text'])\n",
        "    y_pred_test = self.clf.predict(X_p)\n",
        "    y = pd.DataFrame(y_pred_test, columns=['labels'])\n",
        "    y.to_csv('submission_1_svm.csv', header=True, index=False) "
      ],
      "execution_count": 0,
      "outputs": []
    },
    {
      "cell_type": "code",
      "metadata": {
        "id": "yjEdKy7f-g72",
        "colab_type": "code",
        "outputId": "17a85999-8520-458f-884d-776983c0831e",
        "colab": {
          "base_uri": "https://localhost:8080/",
          "height": 260
        }
      },
      "source": [
        "cls_clf =  svm_classifier(20)\n",
        "cls_clf.train(df,YY)\n",
        "Acc=[0.6641366223908919,0.674573055028463,0.644212523719165, 0.6584440227703985,0.6698292220113852]\n",
        "F1 =[0.5743891588529191,0.6113882645322808,0.5894321230799915,0.602963335007534,0.6082085726004922]\n",
        "c = [1,2,3,5,10]"
      ],
      "execution_count": 0,
      "outputs": [
        {
          "output_type": "stream",
          "text": [
            "(4212, 18729)   (4212,)   (1054, 18729)   (1054,)\n",
            "[1 0 1 ... 1 0 1]\n",
            "[0 0 1 ... 1 1 1]\n",
            "0.6470588235294118\n",
            "0.6044309927360775\n",
            "              precision    recall  f1-score   support\n",
            "\n",
            "           0       0.61      0.39      0.47       432\n",
            "           1       0.66      0.83      0.73       622\n",
            "\n",
            "    accuracy                           0.65      1054\n",
            "   macro avg       0.63      0.61      0.60      1054\n",
            "weighted avg       0.64      0.65      0.63      1054\n",
            "\n"
          ],
          "name": "stdout"
        }
      ]
    },
    {
      "cell_type": "code",
      "metadata": {
        "id": "sb_o2lwHFbOx",
        "colab_type": "code",
        "outputId": "84394c4f-d6b9-4d00-a9fd-7100e51832a1",
        "colab": {
          "base_uri": "https://localhost:8080/",
          "height": 260
        }
      },
      "source": [
        "cls_clf =  svm_classifier(18)\n",
        "cls_clf.train(df,YY)"
      ],
      "execution_count": 0,
      "outputs": [
        {
          "output_type": "stream",
          "text": [
            "(4212, 18729)   (4212,)   (1054, 18729)   (1054,)\n",
            "[0 1 1 ... 0 0 1]\n",
            "[0 0 1 ... 0 0 0]\n",
            "0.6935483870967742\n",
            "0.6434755380457037\n",
            "              precision    recall  f1-score   support\n",
            "\n",
            "           0       0.64      0.43      0.51       395\n",
            "           1       0.71      0.85      0.78       659\n",
            "\n",
            "    accuracy                           0.69      1054\n",
            "   macro avg       0.67      0.64      0.64      1054\n",
            "weighted avg       0.68      0.69      0.68      1054\n",
            "\n"
          ],
          "name": "stdout"
        }
      ]
    },
    {
      "cell_type": "code",
      "metadata": {
        "id": "ikhZ3oOHDwnk",
        "colab_type": "code",
        "colab": {}
      },
      "source": [
        "Acc=[0.6641366223908919,0.674573055028463,0.644212523719165, 0.6584440227703985,0.6698292220113852, 0.6631878557874763,0.6935483870967742,0.6527514231499051\n",
        "]\n",
        "F1 =[0.5743891588529191,0.6113882645322808,0.5894321230799915,0.602963335007534,0.6082085726004922, 0.6161394401670163,0.6457961165149555,0.5864592981372851]\n",
        "c = [1,2,3,5,10,15,20,22]"
      ],
      "execution_count": 0,
      "outputs": []
    },
    {
      "cell_type": "code",
      "metadata": {
        "id": "-JT0m5X2Eo3T",
        "colab_type": "code",
        "outputId": "2f6b2613-2ed9-4dea-9a1d-ab5f2ee1d25c",
        "colab": {
          "base_uri": "https://localhost:8080/",
          "height": 279
        }
      },
      "source": [
        "plt.plot(c,F1) \n",
        "plt.ylabel('F1_score') \n",
        "plt.xlabel('C Parameter') \n",
        "plt.savefig('foo.png')"
      ],
      "execution_count": 0,
      "outputs": [
        {
          "output_type": "display_data",
          "data": {
            "image/png": "[encoded data removed]",
            "text/plain": [
              "<Figure size 432x288 with 1 Axes>"
            ]
          },
          "metadata": {
            "tags": [],
            "needs_background": "light"
          }
        }
      ]
    },
    {
      "cell_type": "code",
      "metadata": {
        "id": "eGtncpoUGHxE",
        "colab_type": "code",
        "colab": {}
      },
      "source": [
        ""
      ],
      "execution_count": 0,
      "outputs": []
    }
  ]
}