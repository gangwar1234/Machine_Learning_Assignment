{
  "nbformat": 4,
  "nbformat_minor": 0,
  "metadata": {
    "colab": {
      "name": "Untitled",
      "provenance": [],
      "collapsed_sections": [],
      "machine_shape": "hm"
    },
    "kernelspec": {
      "name": "python3",
      "display_name": "Python 3"
    },
    "accelerator": "GPU"
  },
  "cells": [
    {
      "cell_type": "code",
      "metadata": {
        "id": "DhLaT_qMfeX7",
        "colab_type": "code",
        "outputId": "879c0f6a-9b5b-4aa2-b740-a24d893d6aac",
        "colab": {
          "base_uri": "https://localhost:8080/",
          "height": 558
        }
      },
      "source": [
        "!pip install demoji\n",
        "!pip install emoji\n",
        "!pip install Unidecode\n",
        "import pandas as pd\n",
        "import sys\n",
        "import string  \n",
        "from sklearn.model_selection import train_test_split\n",
        "from nltk.stem import PorterStemmer\n",
        "from sklearn.metrics import classification_report\n",
        "import numpy as np\n",
        "import nltk\n",
        "nltk.download('wordnet')\n",
        "import cv2\n",
        "from nltk.tokenize import RegexpTokenizer\n",
        "import matplotlib.pyplot as plt\n",
        "from sklearn.metrics import mean_squared_error\n",
        "import matplotlib.image as mpimg\n",
        "from sklearn.metrics import confusion_matrix, accuracy_score, f1_score\n",
        "from sklearn.metrics import precision_score, recall_score, r2_score\n",
        "from os import listdir\n",
        "from os.path import isfile, join\n",
        "from sklearn import datasets, svm, metrics\n",
        "from bs4 import BeautifulSoup\n",
        "import re\n",
        "from unidecode import unidecode\n",
        "from nltk.stem import PorterStemmer \n",
        "from nltk.tokenize import word_tokenize \n",
        "from keras.utils import to_categorical\n",
        "import demoji\n",
        "import emoji\n",
        "from keras.models import Sequential\n",
        "from keras.layers import Embedding,Bidirectional,Dense,Conv1D,Flatten,LSTM,GlobalMaxPooling1D,Dropout\n",
        "from keras.preprocessing.text import Tokenizer\n",
        "from sklearn.manifold import TSNE\n",
        "import matplotlib.pyplot as plt\n",
        "from keras.preprocessing.text import Tokenizer\n",
        "from keras.preprocessing.sequence import pad_sequences\n",
        "from keras.optimizers import Adam\n"
      ],
      "execution_count": 0,
      "outputs": [
        {
          "output_type": "stream",
          "text": [
            "Collecting demoji\n",
            "  Downloading https://files.pythonhosted.org/packages/da/0b/d008f26ebbfd86d21117267e627f2f7359c76e5ecbeba08d8f631f4092c4/demoji-0.2.1-py2.py3-none-any.whl\n",
            "Requirement already satisfied: requests<3.0.0 in /usr/local/lib/python3.6/dist-packages (from demoji) (2.21.0)\n",
            "Collecting colorama\n",
            "  Downloading https://files.pythonhosted.org/packages/c9/dc/45cdef1b4d119eb96316b3117e6d5708a08029992b2fee2c143c7a0a5cc5/colorama-0.4.3-py2.py3-none-any.whl\n",
            "Requirement already satisfied: setuptools in /usr/local/lib/python3.6/dist-packages (from demoji) (46.1.3)\n",
            "Requirement already satisfied: chardet<3.1.0,>=3.0.2 in /usr/local/lib/python3.6/dist-packages (from requests<3.0.0->demoji) (3.0.4)\n",
            "Requirement already satisfied: idna<2.9,>=2.5 in /usr/local/lib/python3.6/dist-packages (from requests<3.0.0->demoji) (2.8)\n",
            "Requirement already satisfied: certifi>=2017.4.17 in /usr/local/lib/python3.6/dist-packages (from requests<3.0.0->demoji) (2020.4.5.1)\n",
            "Requirement already satisfied: urllib3<1.25,>=1.21.1 in /usr/local/lib/python3.6/dist-packages (from requests<3.0.0->demoji) (1.24.3)\n",
            "Installing collected packages: colorama, demoji\n",
            "Successfully installed colorama-0.4.3 demoji-0.2.1\n",
            "Collecting emoji\n",
            "\u001b[?25l  Downloading https://files.pythonhosted.org/packages/40/8d/521be7f0091fe0f2ae690cc044faf43e3445e0ff33c574eae752dd7e39fa/emoji-0.5.4.tar.gz (43kB)\n",
            "\u001b[K     |████████████████████████████████| 51kB 2.0MB/s \n",
            "\u001b[?25hBuilding wheels for collected packages: emoji\n",
            "  Building wheel for emoji (setup.py) ... \u001b[?25l\u001b[?25hdone\n",
            "  Created wheel for emoji: filename=emoji-0.5.4-cp36-none-any.whl size=42176 sha256=5bfaeb3ee6d91bacd0ffe9b2fecf94f7080bdea740128c0a27f464effda20612\n",
            "  Stored in directory: /root/.cache/pip/wheels/2a/a9/0a/4f8e8cce8074232aba240caca3fade315bb49fac68808d1a9c\n",
            "Successfully built emoji\n",
            "Installing collected packages: emoji\n",
            "Successfully installed emoji-0.5.4\n",
            "Collecting Unidecode\n",
            "\u001b[?25l  Downloading https://files.pythonhosted.org/packages/d0/42/d9edfed04228bacea2d824904cae367ee9efd05e6cce7ceaaedd0b0ad964/Unidecode-1.1.1-py2.py3-none-any.whl (238kB)\n",
            "\u001b[K     |████████████████████████████████| 245kB 3.4MB/s \n",
            "\u001b[?25hInstalling collected packages: Unidecode\n",
            "Successfully installed Unidecode-1.1.1\n",
            "[nltk_data] Downloading package wordnet to /root/nltk_data...\n",
            "[nltk_data]   Unzipping corpora/wordnet.zip.\n"
          ],
          "name": "stdout"
        },
        {
          "output_type": "stream",
          "text": [
            "Using TensorFlow backend.\n"
          ],
          "name": "stderr"
        }
      ]
    },
    {
      "cell_type": "code",
      "metadata": {
        "id": "BZe6nj1hq6LK",
        "colab_type": "code",
        "colab": {}
      },
      "source": [
        "df = pd.read_csv('/content/drive/My Drive/Data_4/1fe720be-90e4-4e06-9b52-9de93e0ea937_train.csv')"
      ],
      "execution_count": 0,
      "outputs": []
    },
    {
      "cell_type": "code",
      "metadata": {
        "id": "YBNRBsnqrvOh",
        "colab_type": "code",
        "outputId": "bdf1d5f4-6bf6-43aa-9d37-d983d41c7678",
        "colab": {
          "base_uri": "https://localhost:8080/",
          "height": 260
        }
      },
      "source": [
        "Label = df['labels']\n",
        "df[df.labels == 0].head(100)\n",
        "df[df.labels == 0].head(100)\n",
        "print(df[0:85])"
      ],
      "execution_count": 0,
      "outputs": [
        {
          "output_type": "stream",
          "text": [
            "                                                 text  labels\n",
            "0   @realDonaldTrump This is one of the worst time...       0\n",
            "1   How about the crowd in Oval in today's #AUSvIN...       1\n",
            "2   @skroskz @shossy2 @JoeBiden Biden &amp; his so...       0\n",
            "3   #etsy shop: Benedict Donald so called presiden...       1\n",
            "4   @realDonaldTrump Good build a wall around Arka...       0\n",
            "..                                                ...     ...\n",
            "80  @cdnfp @SecPompeo @StateDept @realDonaldTrump ...       0\n",
            "81  #DhoniKeepTheGlove  @ICC @cricketworldcup   I ...       1\n",
            "82  😂Forget Parsees Save 😂 #CongBachaoRahulHatao #...       0\n",
            "83  Kamala Harris: Trump is a 'clear and present t...       0\n",
            "84  Some Cars its wiser to stay away from!!  😣😔😥.....       1\n",
            "\n",
            "[85 rows x 2 columns]\n"
          ],
          "name": "stdout"
        }
      ]
    },
    {
      "cell_type": "code",
      "metadata": {
        "id": "T2q6DpBQrxm8",
        "colab_type": "code",
        "outputId": "2477db4e-71d9-4c6c-895f-8e2c94924f58",
        "colab": {
          "base_uri": "https://localhost:8080/",
          "height": 225
        }
      },
      "source": [
        "example1 = BeautifulSoup(df.text[78], 'lxml')\n",
        "print(Label)"
      ],
      "execution_count": 0,
      "outputs": [
        {
          "output_type": "stream",
          "text": [
            "0       0\n",
            "1       1\n",
            "2       0\n",
            "3       1\n",
            "4       0\n",
            "       ..\n",
            "5261    1\n",
            "5262    1\n",
            "5263    1\n",
            "5264    0\n",
            "5265    1\n",
            "Name: labels, Length: 5266, dtype: int64\n"
          ],
          "name": "stdout"
        }
      ]
    },
    {
      "cell_type": "code",
      "metadata": {
        "id": "Mj7_CraLs-ZD",
        "colab_type": "code",
        "outputId": "51e06ffa-6e5d-4306-8b3e-57965f3026ee",
        "colab": {
          "base_uri": "https://localhost:8080/",
          "height": 89
        }
      },
      "source": [
        "t = example1.get_text()\n",
        "a = df[84:85]\n",
        "print(a)\n",
        "example2 = BeautifulSoup(df.text[84], 'lxml')\n",
        "print(example2.get_text())"
      ],
      "execution_count": 0,
      "outputs": [
        {
          "output_type": "stream",
          "text": [
            "                                                 text  labels\n",
            "84  Some Cars its wiser to stay away from!!  😣😔😥.....       1\n",
            "Some Cars its wiser to stay away from!!  😣😔😥... 😅😁😁😁😁😏  #fear #not #eyes #open #peeled #set #up #enemy #truly #beware #liars #molestors #rapist #all #shit #eat #eaters #tire #not #solid #soldier #God #first https://t.co/AEILxDvfFG\n"
          ],
          "name": "stdout"
        }
      ]
    },
    {
      "cell_type": "code",
      "metadata": {
        "id": "mkhJx9Bz4LYN",
        "colab_type": "code",
        "outputId": "1a4d67d4-a0a5-4788-b78f-620e7ae4c4c5",
        "colab": {
          "base_uri": "https://localhost:8080/",
          "height": 141
        }
      },
      "source": [
        "import demoji\n",
        "import emoji\n",
        "demoji.download_codes()\n",
        "dictionary = demoji.findall(t)\n",
        "print(emoji.demojize(t))\n",
        "from emoji.unicode_codes import UNICODE_EMOJI\n",
        "unicode_text = t.encode('unicode-escape')\n",
        "print(unicode_text)"
      ],
      "execution_count": 0,
      "outputs": [
        {
          "output_type": "stream",
          "text": [
            "Downloading emoji data ...\n",
            "... OK (Got response in 0.11 seconds)\n",
            "Writing emoji data to /root/.demoji/codes.json ...\n",
            "... OK\n",
            "Happy #JohnMCainDay #JohnMcCainDayJune14th #JohnMcCainAmericanHero :United_States::United_States::United_States::United_States::United_States::United_States::United_States::United_States::United_States::United_States::United_States::United_States::United_States::United_States::United_States::United_States::United_States::United_States::United_States::United_States::United_States::United_States::United_States::United_States::United_States::United_States::United_States::United_States::United_States::United_States::United_States::United_States::United_States::United_States::United_States::United_States::United_States::United_States::United_States::United_States::United_States::United_States::United_States::United_States::United_States::United_States::United_States::United_States::United_States::United_States::United_States::United_States::United_States::United_States::United_States::United_States:Also #FuckTrump\n",
            "b'Happy #JohnMCainDay #JohnMcCainDayJune14th #JohnMcCainAmericanHero \\\\U0001f1fa\\\\U0001f1f8\\\\U0001f1fa\\\\U0001f1f8\\\\U0001f1fa\\\\U0001f1f8\\\\U0001f1fa\\\\U0001f1f8\\\\U0001f1fa\\\\U0001f1f8\\\\U0001f1fa\\\\U0001f1f8\\\\U0001f1fa\\\\U0001f1f8\\\\U0001f1fa\\\\U0001f1f8\\\\U0001f1fa\\\\U0001f1f8\\\\U0001f1fa\\\\U0001f1f8\\\\U0001f1fa\\\\U0001f1f8\\\\U0001f1fa\\\\U0001f1f8\\\\U0001f1fa\\\\U0001f1f8\\\\U0001f1fa\\\\U0001f1f8\\\\U0001f1fa\\\\U0001f1f8\\\\U0001f1fa\\\\U0001f1f8\\\\U0001f1fa\\\\U0001f1f8\\\\U0001f1fa\\\\U0001f1f8\\\\U0001f1fa\\\\U0001f1f8\\\\U0001f1fa\\\\U0001f1f8\\\\U0001f1fa\\\\U0001f1f8\\\\U0001f1fa\\\\U0001f1f8\\\\U0001f1fa\\\\U0001f1f8\\\\U0001f1fa\\\\U0001f1f8\\\\U0001f1fa\\\\U0001f1f8\\\\U0001f1fa\\\\U0001f1f8\\\\U0001f1fa\\\\U0001f1f8\\\\U0001f1fa\\\\U0001f1f8\\\\U0001f1fa\\\\U0001f1f8\\\\U0001f1fa\\\\U0001f1f8\\\\U0001f1fa\\\\U0001f1f8\\\\U0001f1fa\\\\U0001f1f8\\\\U0001f1fa\\\\U0001f1f8\\\\U0001f1fa\\\\U0001f1f8\\\\U0001f1fa\\\\U0001f1f8\\\\U0001f1fa\\\\U0001f1f8\\\\U0001f1fa\\\\U0001f1f8\\\\U0001f1fa\\\\U0001f1f8\\\\U0001f1fa\\\\U0001f1f8\\\\U0001f1fa\\\\U0001f1f8\\\\U0001f1fa\\\\U0001f1f8\\\\U0001f1fa\\\\U0001f1f8\\\\U0001f1fa\\\\U0001f1f8\\\\U0001f1fa\\\\U0001f1f8\\\\U0001f1fa\\\\U0001f1f8\\\\U0001f1fa\\\\U0001f1f8\\\\U0001f1fa\\\\U0001f1f8\\\\U0001f1fa\\\\U0001f1f8\\\\U0001f1fa\\\\U0001f1f8\\\\U0001f1fa\\\\U0001f1f8\\\\U0001f1fa\\\\U0001f1f8\\\\U0001f1fa\\\\U0001f1f8\\\\U0001f1fa\\\\U0001f1f8\\\\U0001f1fa\\\\U0001f1f8\\\\U0001f1fa\\\\U0001f1f8\\\\U0001f1fa\\\\U0001f1f8Also #FuckTrump'\n"
          ],
          "name": "stdout"
        }
      ]
    },
    {
      "cell_type": "code",
      "metadata": {
        "id": "vpbyc_KktF-B",
        "colab_type": "code",
        "outputId": "5cc8ed0e-4c78-4167-f5c7-4e0fc3b658e8",
        "colab": {
          "base_uri": "https://localhost:8080/",
          "height": 54
        }
      },
      "source": [
        "re.sub(r'@[A-Za-z0-9]+','',df.text[343])"
      ],
      "execution_count": 0,
      "outputs": [
        {
          "output_type": "execute_result",
          "data": {
            "text/plain": [
              "\"  #Sad I saw a portapotty full to the top at work today &amp; thought of you trump &amp; I realized something. The full portapotty has less shit in it than you &amp; it does it's job well. You could learn from that. #trumpdeathcamps  #Trump2020 #TrumpTrain #fucktrump  #Fucktrump\""
            ]
          },
          "metadata": {
            "tags": []
          },
          "execution_count": 7
        }
      ]
    },
    {
      "cell_type": "code",
      "metadata": {
        "id": "Q2iNmCBXtt65",
        "colab_type": "code",
        "colab": {}
      },
      "source": [
        "from nltk.tokenize import WordPunctTokenizer\n",
        "from nltk.stem import WordNetLemmatizer \n",
        "lemmatizer = WordNetLemmatizer()\n",
        "tok = WordPunctTokenizer()\n",
        "pat1 = r'@[A-Za-z0-9]+'\n",
        "pat2 = r'https?://[A-Za-z0-9./]+'\n",
        "combined_pat = r'|'.join((pat1, pat2))\n",
        "ps = PorterStemmer() \n",
        "def tweet_cleaner(text):\n",
        "    soup = BeautifulSoup(text, 'lxml')\n",
        "    souped = soup.get_text()\n",
        "    stripped = re.sub(combined_pat, '', souped)\n",
        "    try:\n",
        "        clean = stripped.decode(\"utf-8-sig\").replace(u\"\\ufffd\", \"?\")\n",
        "    except:\n",
        "        clean = stripped\n",
        "    letters_only = re.sub(\"[^a-zA-Z]\", \" \", clean)\n",
        "    lower_case = letters_only.lower()\n",
        "    # During the letters_only process two lines above, it has created unnecessay white spaces,\n",
        "    # I will tokenize and join together to remove unneccessary white spaces\n",
        "    words = tok.tokenize(lower_case)\n",
        "    wordss = []\n",
        "    for w in wordss: \n",
        "      words.append(lemmatizer.lemmatize(w)) \n",
        "    S = (\" \".join(words)).strip()\n",
        "    return S\n",
        "\n",
        "def PreProcessing(Data):\n",
        "    #print('shape - ', Data.shape[0])\n",
        "    #print(Data.iloc[0,:])\n",
        "    for i in range(Data.shape[0]):\n",
        "        before = Data\n",
        "        #remove numbers\n",
        "        feature = Data.iloc[i,:]\n",
        "\n",
        "        feature = ''.join(i for i in feature if not i.isdigit())\n",
        "        #remove punctuation\n",
        "        exc = set(string.punctuation)\n",
        "        feature = ''.join(ch for ch in feature if ch not in exc)\n",
        "        #print(feature)\n",
        "        #encoding to ascii\n",
        "        feature = unidecode(feature)\n",
        "        feature = feature.lower()\n",
        "        #extra space\n",
        "        feature = feature.strip()\n",
        "        feature.encode('ascii', 'ignore').decode('ascii')\n",
        "        #tokenize\n",
        "        tokenizer = RegexpTokenizer(\"\\w+|\\d\\.]+|\\S+\")\n",
        "        tokens = tokenizer.tokenize(feature)\n",
        "        # stopWords = set(stopwords.words('english'))\n",
        "        # New_Data = [w for w in tokens if not w in tokens]\n",
        "        Data.iloc[i,:] = ' '.join([str(w) for w in tokens])\n",
        "    return Data"
      ],
      "execution_count": 0,
      "outputs": []
    },
    {
      "cell_type": "code",
      "metadata": {
        "id": "Nhw5kYaGmPjr",
        "colab_type": "code",
        "outputId": "172c8171-82ee-485b-d0d3-de2eef4da083",
        "colab": {
          "base_uri": "https://localhost:8080/",
          "height": 34
        }
      },
      "source": [
        "testing = df.text[:100]\n",
        "test_result = []\n",
        "for t in testing:\n",
        "    test_result.append(tweet_cleaner(t))\n",
        "len(test_result)\n"
      ],
      "execution_count": 0,
      "outputs": [
        {
          "output_type": "execute_result",
          "data": {
            "text/plain": [
              "100"
            ]
          },
          "metadata": {
            "tags": []
          },
          "execution_count": 9
        }
      ]
    },
    {
      "cell_type": "code",
      "metadata": {
        "id": "Yr5dhGTcEBPj",
        "colab_type": "code",
        "outputId": "75313bab-ca73-4478-b815-f6fde9e7bf42",
        "colab": {
          "base_uri": "https://localhost:8080/",
          "height": 424
        }
      },
      "source": [
        " test_result = pd.DataFrame(test_result, columns=['text'])\n",
        " test_result"
      ],
      "execution_count": 0,
      "outputs": [
        {
          "output_type": "execute_result",
          "data": {
            "text/html": [
              "<div>\n",
              "<style scoped>\n",
              "    .dataframe tbody tr th:only-of-type {\n",
              "        vertical-align: middle;\n",
              "    }\n",
              "\n",
              "    .dataframe tbody tr th {\n",
              "        vertical-align: top;\n",
              "    }\n",
              "\n",
              "    .dataframe thead th {\n",
              "        text-align: right;\n",
              "    }\n",
              "</style>\n",
              "<table border=\"1\" class=\"dataframe\">\n",
              "  <thead>\n",
              "    <tr style=\"text-align: right;\">\n",
              "      <th></th>\n",
              "      <th>text</th>\n",
              "    </tr>\n",
              "  </thead>\n",
              "  <tbody>\n",
              "    <tr>\n",
              "      <th>0</th>\n",
              "      <td>this is one of the worst times to be american ...</td>\n",
              "    </tr>\n",
              "    <tr>\n",
              "      <th>1</th>\n",
              "      <td>how about the crowd in oval in today s ausvind...</td>\n",
              "    </tr>\n",
              "    <tr>\n",
              "      <th>2</th>\n",
              "      <td>biden his son hunter took advantage of their p...</td>\n",
              "    </tr>\n",
              "    <tr>\n",
              "      <th>3</th>\n",
              "      <td>etsy shop benedict donald so called president ...</td>\n",
              "    </tr>\n",
              "    <tr>\n",
              "      <th>4</th>\n",
              "      <td>good build a wall around arkansas fucktrump fu...</td>\n",
              "    </tr>\n",
              "    <tr>\n",
              "      <th>...</th>\n",
              "      <td>...</td>\n",
              "    </tr>\n",
              "    <tr>\n",
              "      <th>95</th>\n",
              "      <td>some much needed clarification after trumps un...</td>\n",
              "    </tr>\n",
              "    <tr>\n",
              "      <th>96</th>\n",
              "      <td>is putin s puppet trumpsworsethannixon trumpmu...</td>\n",
              "    </tr>\n",
              "    <tr>\n",
              "      <th>97</th>\n",
              "      <td>narendra modi sir please look into bihar child...</td>\n",
              "    </tr>\n",
              "    <tr>\n",
              "      <th>98</th>\n",
              "      <td>but he didn t trumpsworsethannixon trumpisatra...</td>\n",
              "    </tr>\n",
              "    <tr>\n",
              "      <th>99</th>\n",
              "      <td>democrats to scrutinize ex lobbyist s role in ...</td>\n",
              "    </tr>\n",
              "  </tbody>\n",
              "</table>\n",
              "<p>100 rows × 1 columns</p>\n",
              "</div>"
            ],
            "text/plain": [
              "                                                 text\n",
              "0   this is one of the worst times to be american ...\n",
              "1   how about the crowd in oval in today s ausvind...\n",
              "2   biden his son hunter took advantage of their p...\n",
              "3   etsy shop benedict donald so called president ...\n",
              "4   good build a wall around arkansas fucktrump fu...\n",
              "..                                                ...\n",
              "95  some much needed clarification after trumps un...\n",
              "96  is putin s puppet trumpsworsethannixon trumpmu...\n",
              "97  narendra modi sir please look into bihar child...\n",
              "98  but he didn t trumpsworsethannixon trumpisatra...\n",
              "99  democrats to scrutinize ex lobbyist s role in ...\n",
              "\n",
              "[100 rows x 1 columns]"
            ]
          },
          "metadata": {
            "tags": []
          },
          "execution_count": 10
        }
      ]
    },
    {
      "cell_type": "code",
      "metadata": {
        "id": "oQOt5VXt0WFS",
        "colab_type": "code",
        "colab": {}
      },
      "source": [
        "\n",
        "test_result = PreProcessing(test_result)"
      ],
      "execution_count": 0,
      "outputs": []
    },
    {
      "cell_type": "code",
      "metadata": {
        "id": "6MKlLPNHn35u",
        "colab_type": "code",
        "outputId": "e4bcece6-9010-4821-9569-1a75b4ee00f9",
        "colab": {
          "base_uri": "https://localhost:8080/",
          "height": 424
        }
      },
      "source": [
        "test_result"
      ],
      "execution_count": 0,
      "outputs": [
        {
          "output_type": "execute_result",
          "data": {
            "text/html": [
              "<div>\n",
              "<style scoped>\n",
              "    .dataframe tbody tr th:only-of-type {\n",
              "        vertical-align: middle;\n",
              "    }\n",
              "\n",
              "    .dataframe tbody tr th {\n",
              "        vertical-align: top;\n",
              "    }\n",
              "\n",
              "    .dataframe thead th {\n",
              "        text-align: right;\n",
              "    }\n",
              "</style>\n",
              "<table border=\"1\" class=\"dataframe\">\n",
              "  <thead>\n",
              "    <tr style=\"text-align: right;\">\n",
              "      <th></th>\n",
              "      <th>text</th>\n",
              "    </tr>\n",
              "  </thead>\n",
              "  <tbody>\n",
              "    <tr>\n",
              "      <th>0</th>\n",
              "      <td>this is one of the worst times to be american ...</td>\n",
              "    </tr>\n",
              "    <tr>\n",
              "      <th>1</th>\n",
              "      <td>how about the crowd in oval in today s ausvind...</td>\n",
              "    </tr>\n",
              "    <tr>\n",
              "      <th>2</th>\n",
              "      <td>biden his son hunter took advantage of their p...</td>\n",
              "    </tr>\n",
              "    <tr>\n",
              "      <th>3</th>\n",
              "      <td>etsy shop benedict donald so called president ...</td>\n",
              "    </tr>\n",
              "    <tr>\n",
              "      <th>4</th>\n",
              "      <td>good build a wall around arkansas fucktrump fu...</td>\n",
              "    </tr>\n",
              "    <tr>\n",
              "      <th>...</th>\n",
              "      <td>...</td>\n",
              "    </tr>\n",
              "    <tr>\n",
              "      <th>95</th>\n",
              "      <td>some much needed clarification after trumps un...</td>\n",
              "    </tr>\n",
              "    <tr>\n",
              "      <th>96</th>\n",
              "      <td>is putin s puppet trumpsworsethannixon trumpmu...</td>\n",
              "    </tr>\n",
              "    <tr>\n",
              "      <th>97</th>\n",
              "      <td>narendra modi sir please look into bihar child...</td>\n",
              "    </tr>\n",
              "    <tr>\n",
              "      <th>98</th>\n",
              "      <td>but he didn t trumpsworsethannixon trumpisatra...</td>\n",
              "    </tr>\n",
              "    <tr>\n",
              "      <th>99</th>\n",
              "      <td>democrats to scrutinize ex lobbyist s role in ...</td>\n",
              "    </tr>\n",
              "  </tbody>\n",
              "</table>\n",
              "<p>100 rows × 1 columns</p>\n",
              "</div>"
            ],
            "text/plain": [
              "                                                 text\n",
              "0   this is one of the worst times to be american ...\n",
              "1   how about the crowd in oval in today s ausvind...\n",
              "2   biden his son hunter took advantage of their p...\n",
              "3   etsy shop benedict donald so called president ...\n",
              "4   good build a wall around arkansas fucktrump fu...\n",
              "..                                                ...\n",
              "95  some much needed clarification after trumps un...\n",
              "96  is putin s puppet trumpsworsethannixon trumpmu...\n",
              "97  narendra modi sir please look into bihar child...\n",
              "98  but he didn t trumpsworsethannixon trumpisatra...\n",
              "99  democrats to scrutinize ex lobbyist s role in ...\n",
              "\n",
              "[100 rows x 1 columns]"
            ]
          },
          "metadata": {
            "tags": []
          },
          "execution_count": 12
        }
      ]
    },
    {
      "cell_type": "markdown",
      "metadata": {
        "id": "cz_YTdo6BFjd",
        "colab_type": "text"
      },
      "source": [
        "#ACTUAL DATA CLEANING"
      ]
    },
    {
      "cell_type": "code",
      "metadata": {
        "id": "zTVvHi5DqWBc",
        "colab_type": "code",
        "colab": {}
      },
      "source": [
        "class cleaning:\n",
        "  lemmatizer = WordNetLemmatizer()\n",
        "  tok = WordPunctTokenizer()\n",
        "  pat1 = r'@[A-Za-z0-9]+'\n",
        "  pat2 = r'https?://[A-Za-z0-9./]+'\n",
        "  combined_pat = r'|'.join((pat1, pat2))\n",
        "\n",
        "  def tweet_cleaner(self,text):\n",
        "      text = emoji.demojize(text)\n",
        "      soup = BeautifulSoup(text, 'lxml')\n",
        "      souped = soup.get_text()\n",
        "      stripped = re.sub(self.combined_pat, '', souped)\n",
        "      try:\n",
        "          clean = stripped.decode(\"utf-8-sig\").replace(u\"\\ufffd\", \"?\")\n",
        "      except:\n",
        "          clean = stripped\n",
        "      letters_only = re.sub(\"[^a-zA-Z]\", \" \", clean)\n",
        "      letters_only = re.sub('([A-Z][a-z]+)', r' \\1', re.sub('([A-Z]+)', r' \\1', letters_only))\n",
        "      lower_case = letters_only.lower()\n",
        "      words = self.tok.tokenize(lower_case)\n",
        "      wordss = []\n",
        "      for w in words: \n",
        "        wordss.append(self.lemmatizer.lemmatize(w)) \n",
        "      S = (\" \".join(wordss)).strip()\n",
        "      return S\n",
        "\n",
        "  def PreProcessing(self,Data):\n",
        "      for i in range(Data.shape[0]):\n",
        "          before = Data\n",
        "          feature = Data.iloc[i,:]\n",
        "          feature = ''.join(i for i in feature if not i.isdigit())\n",
        "          exc = set(string.punctuation)\n",
        "          feature = ''.join(ch for ch in feature if ch not in exc)\n",
        "          feature = unidecode(feature)\n",
        "          feature = feature.lower()\n",
        "          feature = feature.strip()\n",
        "          feature.encode('ascii', 'ignore').decode('ascii')\n",
        "          tokenizer = RegexpTokenizer(\"\\w+|\\d\\.]+|\\S+\")\n",
        "          tokens = tokenizer.tokenize(feature)\n",
        "          New_Data = tokens\n",
        "          Data.iloc[i,:] = ' '.join([str(w) for w in New_Data])\n",
        "      return Data\n",
        "\n",
        "  def All_clean(self,Data):\n",
        "    test_result = []\n",
        "    for t in Data.text:\n",
        "      test_result.append(self.tweet_cleaner(t))\n",
        "    test_result = pd.DataFrame(test_result, columns=['text'])\n",
        "    # test_result = self.PreProcessing(test_result)\n",
        "    return test_result\n"
      ],
      "execution_count": 0,
      "outputs": []
    },
    {
      "cell_type": "code",
      "metadata": {
        "id": "myx4yPzjK-vd",
        "colab_type": "code",
        "outputId": "fd218164-221f-4f51-a4ef-1a73d8486543",
        "colab": {
          "base_uri": "https://localhost:8080/",
          "height": 260
        }
      },
      "source": [
        "embed_num_dims = 100\n",
        "max_seq_len = 10000\n",
        "cls = cleaning()\n",
        "clean_data = cls.All_clean(df)\n",
        "print(clean_data)\n",
        "sequences = clean_data['text']"
      ],
      "execution_count": 0,
      "outputs": [
        {
          "output_type": "stream",
          "text": [
            "                                                   text\n",
            "0     this is one of the worst time to be american b...\n",
            "1     how about the crowd in oval in today s au sv i...\n",
            "2     biden his son hunter took advantage of their p...\n",
            "3     etsy shop benedict donald so called president ...\n",
            "4     good build a wall around arkansas fuck trump f...\n",
            "...                                                 ...\n",
            "5261  should allow m dhoni to keep glove it is attac...\n",
            "5262  trump on avoiding movie pirating of course you...\n",
            "5263  i noticed recently jamie oliver s restaurant c...\n",
            "5264  team india geared up is okay what s on the glo...\n",
            "5265  is this the same piece of paper mc carthy used...\n",
            "\n",
            "[5266 rows x 1 columns]\n"
          ],
          "name": "stdout"
        }
      ]
    },
    {
      "cell_type": "code",
      "metadata": {
        "id": "TvcLlAz6Tor8",
        "colab_type": "code",
        "outputId": "91325ee1-a9fb-4e00-cb36-6cb3f669ead1",
        "colab": {
          "base_uri": "https://localhost:8080/",
          "height": 34
        }
      },
      "source": [
        "tokenizer = Tokenizer(num_words = 4000)\n",
        "tokenizer.fit_on_texts(sequences)\n",
        "sequence = tokenizer.texts_to_sequences(sequences)\n",
        "index_of_words = tokenizer.word_index\n",
        "print(len(index_of_words))\n",
        "padded_seq = pad_sequences(sequence , maxlen =max_seq_len)\n"
      ],
      "execution_count": 0,
      "outputs": [
        {
          "output_type": "stream",
          "text": [
            "11681\n"
          ],
          "name": "stdout"
        }
      ]
    },
    {
      "cell_type": "code",
      "metadata": {
        "id": "QouulaUATqkq",
        "colab_type": "code",
        "outputId": "c33a16d8-ef14-43b6-f857-f2e13b8d5d62",
        "colab": {
          "base_uri": "https://localhost:8080/",
          "height": 34
        }
      },
      "source": [
        "print(padded_seq.shape)\n",
        "Y = df['labels']\n",
        "X_train,X_test,Y_train1,Y_test1 = train_test_split(padded_seq,Y ,train_size = 0.80)"
      ],
      "execution_count": 0,
      "outputs": [
        {
          "output_type": "stream",
          "text": [
            "(5266, 10000)\n"
          ],
          "name": "stdout"
        }
      ]
    },
    {
      "cell_type": "code",
      "metadata": {
        "id": "RkACqbJiHgYo",
        "colab_type": "code",
        "outputId": "128547bb-d98d-4fed-c5a1-7795d07bf5e5",
        "colab": {
          "base_uri": "https://localhost:8080/",
          "height": 34
        }
      },
      "source": [
        "Y_train1.shape"
      ],
      "execution_count": 0,
      "outputs": [
        {
          "output_type": "execute_result",
          "data": {
            "text/plain": [
              "(4212,)"
            ]
          },
          "metadata": {
            "tags": []
          },
          "execution_count": 17
        }
      ]
    },
    {
      "cell_type": "code",
      "metadata": {
        "id": "rKjZhpBbRk_e",
        "colab_type": "code",
        "outputId": "1e1b6262-bf5b-4d9a-8fb6-c5da4fd1edda",
        "colab": {
          "base_uri": "https://localhost:8080/",
          "height": 52
        }
      },
      "source": [
        "print('Indexing word vectors.')\n",
        "\n",
        "embeddings_index = {}\n",
        "f = open('/content/drive/My Drive/glove/glove.6B.100d.txt', encoding='utf-8')\n",
        "for line in f:\n",
        "    values = line.split()\n",
        "    word = values[0]\n",
        "    coefs = np.asarray(values[1:], dtype='float32')\n",
        "    embeddings_index[word] = coefs\n",
        "f.close()\n",
        "\n",
        "print('Found %s word vectors.' % len(embeddings_index))"
      ],
      "execution_count": 0,
      "outputs": [
        {
          "output_type": "stream",
          "text": [
            "Indexing word vectors.\n",
            "Found 400000 word vectors.\n"
          ],
          "name": "stdout"
        }
      ]
    },
    {
      "cell_type": "code",
      "metadata": {
        "id": "Dq_yqQMUQKgD",
        "colab_type": "code",
        "outputId": "e22163b1-e240-401d-d3d2-d2fc601fbbd0",
        "colab": {
          "base_uri": "https://localhost:8080/",
          "height": 382
        }
      },
      "source": [
        "embeddings_index['good']"
      ],
      "execution_count": 0,
      "outputs": [
        {
          "output_type": "execute_result",
          "data": {
            "text/plain": [
              "array([-0.030769 ,  0.11993  ,  0.53909  , -0.43696  , -0.73937  ,\n",
              "       -0.15345  ,  0.081126 , -0.38559  , -0.68797  , -0.41632  ,\n",
              "       -0.13183  , -0.24922  ,  0.441    ,  0.085919 ,  0.20871  ,\n",
              "       -0.063582 ,  0.062228 , -0.051234 , -0.13398  ,  1.1418   ,\n",
              "        0.036526 ,  0.49029  , -0.24567  , -0.412    ,  0.12349  ,\n",
              "        0.41336  , -0.48397  , -0.54243  , -0.27787  , -0.26015  ,\n",
              "       -0.38485  ,  0.78656  ,  0.1023   , -0.20712  ,  0.40751  ,\n",
              "        0.32026  , -0.51052  ,  0.48362  , -0.0099498, -0.38685  ,\n",
              "        0.034975 , -0.167    ,  0.4237   , -0.54164  , -0.30323  ,\n",
              "       -0.36983  ,  0.082836 , -0.52538  , -0.064531 , -1.398    ,\n",
              "       -0.14873  , -0.35327  , -0.1118   ,  1.0912   ,  0.095864 ,\n",
              "       -2.8129   ,  0.45238  ,  0.46213  ,  1.6012   , -0.20837  ,\n",
              "       -0.27377  ,  0.71197  , -1.0754   , -0.046974 ,  0.67479  ,\n",
              "       -0.065839 ,  0.75824  ,  0.39405  ,  0.15507  , -0.64719  ,\n",
              "        0.32796  , -0.031748 ,  0.52899  , -0.43886  ,  0.67405  ,\n",
              "        0.42136  , -0.11981  , -0.21777  , -0.29756  , -0.1351   ,\n",
              "        0.59898  ,  0.46529  , -0.58258  , -0.02323  , -1.5442   ,\n",
              "        0.01901  , -0.015877 ,  0.024499 , -0.58017  , -0.67659  ,\n",
              "       -0.040379 , -0.44043  ,  0.083292 ,  0.20035  , -0.75499  ,\n",
              "        0.16918  , -0.26573  , -0.52878  ,  0.17584  ,  1.065    ],\n",
              "      dtype=float32)"
            ]
          },
          "metadata": {
            "tags": []
          },
          "execution_count": 19
        }
      ]
    },
    {
      "cell_type": "code",
      "metadata": {
        "id": "y3NfCWW3ThJI",
        "colab_type": "code",
        "colab": {}
      },
      "source": [
        "embedding_matrix = np.zeros((len(index_of_words) + 1, embed_num_dims))\n",
        "\n",
        "tokens = []\n",
        "labels = []\n",
        "\n",
        "for word,i in index_of_words.items():\n",
        "    temp = embeddings_index.get(word)\n",
        "    if temp is not None:\n",
        "        embedding_matrix[i] = temp\n",
        "        "
      ],
      "execution_count": 0,
      "outputs": []
    },
    {
      "cell_type": "code",
      "metadata": {
        "id": "q6T0WYoaTzc1",
        "colab_type": "code",
        "outputId": "943359df-3aa7-48ba-d205-68242c5c4900",
        "colab": {
          "base_uri": "https://localhost:8080/",
          "height": 34
        }
      },
      "source": [
        "embedding_matrix.shape"
      ],
      "execution_count": 0,
      "outputs": [
        {
          "output_type": "execute_result",
          "data": {
            "text/plain": [
              "(11682, 100)"
            ]
          },
          "metadata": {
            "tags": []
          },
          "execution_count": 21
        }
      ]
    },
    {
      "cell_type": "code",
      "metadata": {
        "id": "FQCQhwy-T9lo",
        "colab_type": "code",
        "colab": {}
      },
      "source": [
        "embedd_layer = Embedding(len(index_of_words) + 1 , embed_num_dims , input_length = max_seq_len , weights = [embedding_matrix])\n"
      ],
      "execution_count": 0,
      "outputs": []
    },
    {
      "cell_type": "code",
      "metadata": {
        "id": "FmzXAsHwUFaV",
        "colab_type": "code",
        "colab": {}
      },
      "source": [
        "model = Sequential()\n",
        "model.add(embedd_layer)\n",
        "model.add(Bidirectional(LSTM(64 , return_sequences = True, dropout = 0.1 , recurrent_dropout = 0.1 )))\n",
        "model.add(GlobalMaxPooling1D())\n",
        "model.add(Dense(32,activation = 'sigmoid'))\n",
        "model.add(Dropout(0.2))\n",
        "model.add(Dense(2,activation = 'softmax'))"
      ],
      "execution_count": 0,
      "outputs": []
    },
    {
      "cell_type": "code",
      "metadata": {
        "id": "L2nv2033UIpJ",
        "colab_type": "code",
        "outputId": "456f61fd-d128-48d8-9980-33a1b39e8cf9",
        "colab": {
          "base_uri": "https://localhost:8080/",
          "height": 364
        }
      },
      "source": [
        "model.summary()"
      ],
      "execution_count": 0,
      "outputs": [
        {
          "output_type": "stream",
          "text": [
            "Model: \"sequential_2\"\n",
            "_________________________________________________________________\n",
            "Layer (type)                 Output Shape              Param #   \n",
            "=================================================================\n",
            "embedding_1 (Embedding)      (None, 10000, 100)        1168200   \n",
            "_________________________________________________________________\n",
            "bidirectional_2 (Bidirection (None, 10000, 128)        84480     \n",
            "_________________________________________________________________\n",
            "global_max_pooling1d_2 (Glob (None, 128)               0         \n",
            "_________________________________________________________________\n",
            "dense_3 (Dense)              (None, 32)                4128      \n",
            "_________________________________________________________________\n",
            "dropout_2 (Dropout)          (None, 32)                0         \n",
            "_________________________________________________________________\n",
            "dense_4 (Dense)              (None, 2)                 66        \n",
            "=================================================================\n",
            "Total params: 1,256,874\n",
            "Trainable params: 1,256,874\n",
            "Non-trainable params: 0\n",
            "_________________________________________________________________\n"
          ],
          "name": "stdout"
        }
      ]
    },
    {
      "cell_type": "code",
      "metadata": {
        "id": "k128EDHbUNEj",
        "colab_type": "code",
        "colab": {}
      },
      "source": [
        "add = Adam(lr = 0.01)\n",
        "model.compile(loss = 'categorical_crossentropy' , optimizer = add , metrics = ['accuracy'])"
      ],
      "execution_count": 0,
      "outputs": []
    },
    {
      "cell_type": "code",
      "metadata": {
        "id": "tlmqgLhqUich",
        "colab_type": "code",
        "outputId": "36755d83-d48f-483e-b00c-ae1899e45d74",
        "colab": {
          "base_uri": "https://localhost:8080/",
          "height": 52
        }
      },
      "source": [
        "print(X_train.shape,' ',Y_train1.shape,' ',X_test.shape,' ',Y_test1.shape)\n",
        "X_train = np.array(X_train).astype(np.float32)\n",
        "X_test = np.array(X_test).astype(np.float32)\n",
        "y1 = Y_train1\n",
        "y2 = Y_test1\n",
        "Y_train = to_categorical(y1,2)\n",
        "Y_test  = to_categorical(y2,2)\n",
        "print(X_train.shape,' ',Y_train.shape,' ',X_test.shape,' ',Y_test.shape)\n"
      ],
      "execution_count": 0,
      "outputs": [
        {
          "output_type": "stream",
          "text": [
            "(4212, 10000)   (4212,)   (1054, 10000)   (1054,)\n",
            "(4212, 10000)   (4212, 2)   (1054, 10000)   (1054, 2)\n"
          ],
          "name": "stdout"
        }
      ]
    },
    {
      "cell_type": "code",
      "metadata": {
        "id": "mVNYs7UuRKUR",
        "colab_type": "code",
        "outputId": "d28e16a1-d7ec-404c-bd8c-ae12a9267ec6",
        "colab": {
          "base_uri": "https://localhost:8080/",
          "height": 312
        }
      },
      "source": [
        "x = [63.087346,61.975683,6] \n",
        "# corresponding y axis values \n",
        "y = [1,2,3] \n",
        "  \n",
        "# plotting the points  \n",
        "plt.plot(x, y) \n",
        "  \n",
        "# naming the x axis \n",
        "plt.xlabel('hidden layers') \n",
        "# naming the y axis \n",
        "plt.ylabel('') \n",
        "  \n",
        "# giving a title to my graph \n",
        "plt.title('accuracy') "
      ],
      "execution_count": 0,
      "outputs": [
        {
          "output_type": "execute_result",
          "data": {
            "text/plain": [
              "Text(0.5, 1.0, 'accuracy')"
            ]
          },
          "metadata": {
            "tags": []
          },
          "execution_count": 34
        },
        {
          "output_type": "display_data",
          "data": {
            "image/png": "[encoded data removed]",
            "text/plain": [
              "<Figure size 432x288 with 1 Axes>"
            ]
          },
          "metadata": {
            "tags": [],
            "needs_background": "light"
          }
        }
      ]
    },
    {
      "cell_type": "code",
      "metadata": {
        "id": "NEbB39eJxvZf",
        "colab_type": "code",
        "outputId": "360b9171-e8ac-412a-a22f-9e913b08b8a0",
        "colab": {
          "base_uri": "https://localhost:8080/",
          "height": 506
        }
      },
      "source": [
        "hist = model.fit(X_train,Y_train,epochs = 1 , batch_size = 500, validation_data = (X_test,Y_test))"
      ],
      "execution_count": 0,
      "outputs": [
        {
          "output_type": "stream",
          "text": [
            "/usr/local/lib/python3.6/dist-packages/tensorflow/python/framework/indexed_slices.py:434: UserWarning: Converting sparse IndexedSlices to a dense Tensor of unknown shape. This may consume a large amount of memory.\n",
            "  \"Converting sparse IndexedSlices to a dense Tensor of unknown shape. \"\n"
          ],
          "name": "stderr"
        },
        {
          "output_type": "stream",
          "text": [
            "Train on 4212 samples, validate on 1054 samples\n",
            "Epoch 1/2\n"
          ],
          "name": "stdout"
        },
        {
          "output_type": "error",
          "ename": "ResourceExhaustedError",
          "evalue": "ignored",
          "traceback": [
            "\u001b[0;31m---------------------------------------------------------------------------\u001b[0m",
            "\u001b[0;31mResourceExhaustedError\u001b[0m                    Traceback (most recent call last)",
            "\u001b[0;32m<ipython-input-33-882949a04707>\u001b[0m in \u001b[0;36m<module>\u001b[0;34m()\u001b[0m\n\u001b[0;32m----> 1\u001b[0;31m \u001b[0mhist\u001b[0m \u001b[0;34m=\u001b[0m \u001b[0mmodel\u001b[0m\u001b[0;34m.\u001b[0m\u001b[0mfit\u001b[0m\u001b[0;34m(\u001b[0m\u001b[0mX_train\u001b[0m\u001b[0;34m,\u001b[0m\u001b[0mY_train\u001b[0m\u001b[0;34m,\u001b[0m\u001b[0mepochs\u001b[0m \u001b[0;34m=\u001b[0m \u001b[0;36m2\u001b[0m \u001b[0;34m,\u001b[0m \u001b[0mbatch_size\u001b[0m \u001b[0;34m=\u001b[0m \u001b[0;36m300\u001b[0m\u001b[0;34m,\u001b[0m \u001b[0mvalidation_data\u001b[0m \u001b[0;34m=\u001b[0m \u001b[0;34m(\u001b[0m\u001b[0mX_test\u001b[0m\u001b[0;34m,\u001b[0m\u001b[0mY_test\u001b[0m\u001b[0;34m)\u001b[0m\u001b[0;34m)\u001b[0m\u001b[0;34m\u001b[0m\u001b[0;34m\u001b[0m\u001b[0m\n\u001b[0m",
            "\u001b[0;32m/usr/local/lib/python3.6/dist-packages/keras/engine/training.py\u001b[0m in \u001b[0;36mfit\u001b[0;34m(self, x, y, batch_size, epochs, verbose, callbacks, validation_split, validation_data, shuffle, class_weight, sample_weight, initial_epoch, steps_per_epoch, validation_steps, validation_freq, max_queue_size, workers, use_multiprocessing, **kwargs)\u001b[0m\n\u001b[1;32m   1237\u001b[0m                                         \u001b[0msteps_per_epoch\u001b[0m\u001b[0;34m=\u001b[0m\u001b[0msteps_per_epoch\u001b[0m\u001b[0;34m,\u001b[0m\u001b[0;34m\u001b[0m\u001b[0;34m\u001b[0m\u001b[0m\n\u001b[1;32m   1238\u001b[0m                                         \u001b[0mvalidation_steps\u001b[0m\u001b[0;34m=\u001b[0m\u001b[0mvalidation_steps\u001b[0m\u001b[0;34m,\u001b[0m\u001b[0;34m\u001b[0m\u001b[0;34m\u001b[0m\u001b[0m\n\u001b[0;32m-> 1239\u001b[0;31m                                         validation_freq=validation_freq)\n\u001b[0m\u001b[1;32m   1240\u001b[0m \u001b[0;34m\u001b[0m\u001b[0m\n\u001b[1;32m   1241\u001b[0m     def evaluate(self,\n",
            "\u001b[0;32m/usr/local/lib/python3.6/dist-packages/keras/engine/training_arrays.py\u001b[0m in \u001b[0;36mfit_loop\u001b[0;34m(model, fit_function, fit_inputs, out_labels, batch_size, epochs, verbose, callbacks, val_function, val_inputs, shuffle, initial_epoch, steps_per_epoch, validation_steps, validation_freq)\u001b[0m\n\u001b[1;32m    194\u001b[0m                     \u001b[0mins_batch\u001b[0m\u001b[0;34m[\u001b[0m\u001b[0mi\u001b[0m\u001b[0;34m]\u001b[0m \u001b[0;34m=\u001b[0m \u001b[0mins_batch\u001b[0m\u001b[0;34m[\u001b[0m\u001b[0mi\u001b[0m\u001b[0;34m]\u001b[0m\u001b[0;34m.\u001b[0m\u001b[0mtoarray\u001b[0m\u001b[0;34m(\u001b[0m\u001b[0;34m)\u001b[0m\u001b[0;34m\u001b[0m\u001b[0;34m\u001b[0m\u001b[0m\n\u001b[1;32m    195\u001b[0m \u001b[0;34m\u001b[0m\u001b[0m\n\u001b[0;32m--> 196\u001b[0;31m                 \u001b[0mouts\u001b[0m \u001b[0;34m=\u001b[0m \u001b[0mfit_function\u001b[0m\u001b[0;34m(\u001b[0m\u001b[0mins_batch\u001b[0m\u001b[0;34m)\u001b[0m\u001b[0;34m\u001b[0m\u001b[0;34m\u001b[0m\u001b[0m\n\u001b[0m\u001b[1;32m    197\u001b[0m                 \u001b[0mouts\u001b[0m \u001b[0;34m=\u001b[0m \u001b[0mto_list\u001b[0m\u001b[0;34m(\u001b[0m\u001b[0mouts\u001b[0m\u001b[0;34m)\u001b[0m\u001b[0;34m\u001b[0m\u001b[0;34m\u001b[0m\u001b[0m\n\u001b[1;32m    198\u001b[0m                 \u001b[0;32mfor\u001b[0m \u001b[0ml\u001b[0m\u001b[0;34m,\u001b[0m \u001b[0mo\u001b[0m \u001b[0;32min\u001b[0m \u001b[0mzip\u001b[0m\u001b[0;34m(\u001b[0m\u001b[0mout_labels\u001b[0m\u001b[0;34m,\u001b[0m \u001b[0mouts\u001b[0m\u001b[0;34m)\u001b[0m\u001b[0;34m:\u001b[0m\u001b[0;34m\u001b[0m\u001b[0;34m\u001b[0m\u001b[0m\n",
            "\u001b[0;32m/usr/local/lib/python3.6/dist-packages/tensorflow/python/keras/backend.py\u001b[0m in \u001b[0;36m__call__\u001b[0;34m(self, inputs)\u001b[0m\n\u001b[1;32m   3790\u001b[0m         \u001b[0mvalue\u001b[0m \u001b[0;34m=\u001b[0m \u001b[0mmath_ops\u001b[0m\u001b[0;34m.\u001b[0m\u001b[0mcast\u001b[0m\u001b[0;34m(\u001b[0m\u001b[0mvalue\u001b[0m\u001b[0;34m,\u001b[0m \u001b[0mtensor\u001b[0m\u001b[0;34m.\u001b[0m\u001b[0mdtype\u001b[0m\u001b[0;34m)\u001b[0m\u001b[0;34m\u001b[0m\u001b[0;34m\u001b[0m\u001b[0m\n\u001b[1;32m   3791\u001b[0m       \u001b[0mconverted_inputs\u001b[0m\u001b[0;34m.\u001b[0m\u001b[0mappend\u001b[0m\u001b[0;34m(\u001b[0m\u001b[0mvalue\u001b[0m\u001b[0;34m)\u001b[0m\u001b[0;34m\u001b[0m\u001b[0;34m\u001b[0m\u001b[0m\n\u001b[0;32m-> 3792\u001b[0;31m     \u001b[0moutputs\u001b[0m \u001b[0;34m=\u001b[0m \u001b[0mself\u001b[0m\u001b[0;34m.\u001b[0m\u001b[0m_graph_fn\u001b[0m\u001b[0;34m(\u001b[0m\u001b[0;34m*\u001b[0m\u001b[0mconverted_inputs\u001b[0m\u001b[0;34m)\u001b[0m\u001b[0;34m\u001b[0m\u001b[0;34m\u001b[0m\u001b[0m\n\u001b[0m\u001b[1;32m   3793\u001b[0m \u001b[0;34m\u001b[0m\u001b[0m\n\u001b[1;32m   3794\u001b[0m     \u001b[0;31m# EagerTensor.numpy() will often make a copy to ensure memory safety.\u001b[0m\u001b[0;34m\u001b[0m\u001b[0;34m\u001b[0m\u001b[0;34m\u001b[0m\u001b[0m\n",
            "\u001b[0;32m/usr/local/lib/python3.6/dist-packages/tensorflow/python/eager/function.py\u001b[0m in \u001b[0;36m__call__\u001b[0;34m(self, *args, **kwargs)\u001b[0m\n\u001b[1;32m   1603\u001b[0m       \u001b[0mTypeError\u001b[0m\u001b[0;34m:\u001b[0m \u001b[0mFor\u001b[0m \u001b[0minvalid\u001b[0m \u001b[0mpositional\u001b[0m\u001b[0;34m/\u001b[0m\u001b[0mkeyword\u001b[0m \u001b[0margument\u001b[0m \u001b[0mcombinations\u001b[0m\u001b[0;34m.\u001b[0m\u001b[0;34m\u001b[0m\u001b[0;34m\u001b[0m\u001b[0m\n\u001b[1;32m   1604\u001b[0m     \"\"\"\n\u001b[0;32m-> 1605\u001b[0;31m     \u001b[0;32mreturn\u001b[0m \u001b[0mself\u001b[0m\u001b[0;34m.\u001b[0m\u001b[0m_call_impl\u001b[0m\u001b[0;34m(\u001b[0m\u001b[0margs\u001b[0m\u001b[0;34m,\u001b[0m \u001b[0mkwargs\u001b[0m\u001b[0;34m)\u001b[0m\u001b[0;34m\u001b[0m\u001b[0;34m\u001b[0m\u001b[0m\n\u001b[0m\u001b[1;32m   1606\u001b[0m \u001b[0;34m\u001b[0m\u001b[0m\n\u001b[1;32m   1607\u001b[0m   \u001b[0;32mdef\u001b[0m \u001b[0m_call_impl\u001b[0m\u001b[0;34m(\u001b[0m\u001b[0mself\u001b[0m\u001b[0;34m,\u001b[0m \u001b[0margs\u001b[0m\u001b[0;34m,\u001b[0m \u001b[0mkwargs\u001b[0m\u001b[0;34m,\u001b[0m \u001b[0mcancellation_manager\u001b[0m\u001b[0;34m=\u001b[0m\u001b[0;32mNone\u001b[0m\u001b[0;34m)\u001b[0m\u001b[0;34m:\u001b[0m\u001b[0;34m\u001b[0m\u001b[0;34m\u001b[0m\u001b[0m\n",
            "\u001b[0;32m/usr/local/lib/python3.6/dist-packages/tensorflow/python/eager/function.py\u001b[0m in \u001b[0;36m_call_impl\u001b[0;34m(self, args, kwargs, cancellation_manager)\u001b[0m\n\u001b[1;32m   1643\u001b[0m       raise TypeError(\"Keyword arguments {} unknown. Expected {}.\".format(\n\u001b[1;32m   1644\u001b[0m           list(kwargs.keys()), list(self._arg_keywords)))\n\u001b[0;32m-> 1645\u001b[0;31m     \u001b[0;32mreturn\u001b[0m \u001b[0mself\u001b[0m\u001b[0;34m.\u001b[0m\u001b[0m_call_flat\u001b[0m\u001b[0;34m(\u001b[0m\u001b[0margs\u001b[0m\u001b[0;34m,\u001b[0m \u001b[0mself\u001b[0m\u001b[0;34m.\u001b[0m\u001b[0mcaptured_inputs\u001b[0m\u001b[0;34m,\u001b[0m \u001b[0mcancellation_manager\u001b[0m\u001b[0;34m)\u001b[0m\u001b[0;34m\u001b[0m\u001b[0;34m\u001b[0m\u001b[0m\n\u001b[0m\u001b[1;32m   1646\u001b[0m \u001b[0;34m\u001b[0m\u001b[0m\n\u001b[1;32m   1647\u001b[0m   \u001b[0;32mdef\u001b[0m \u001b[0m_filtered_call\u001b[0m\u001b[0;34m(\u001b[0m\u001b[0mself\u001b[0m\u001b[0;34m,\u001b[0m \u001b[0margs\u001b[0m\u001b[0;34m,\u001b[0m \u001b[0mkwargs\u001b[0m\u001b[0;34m)\u001b[0m\u001b[0;34m:\u001b[0m\u001b[0;34m\u001b[0m\u001b[0;34m\u001b[0m\u001b[0m\n",
            "\u001b[0;32m/usr/local/lib/python3.6/dist-packages/tensorflow/python/eager/function.py\u001b[0m in \u001b[0;36m_call_flat\u001b[0;34m(self, args, captured_inputs, cancellation_manager)\u001b[0m\n\u001b[1;32m   1744\u001b[0m       \u001b[0;31m# No tape is watching; skip to running the function.\u001b[0m\u001b[0;34m\u001b[0m\u001b[0;34m\u001b[0m\u001b[0;34m\u001b[0m\u001b[0m\n\u001b[1;32m   1745\u001b[0m       return self._build_call_outputs(self._inference_function.call(\n\u001b[0;32m-> 1746\u001b[0;31m           ctx, args, cancellation_manager=cancellation_manager))\n\u001b[0m\u001b[1;32m   1747\u001b[0m     forward_backward = self._select_forward_and_backward_functions(\n\u001b[1;32m   1748\u001b[0m         \u001b[0margs\u001b[0m\u001b[0;34m,\u001b[0m\u001b[0;34m\u001b[0m\u001b[0;34m\u001b[0m\u001b[0m\n",
            "\u001b[0;32m/usr/local/lib/python3.6/dist-packages/tensorflow/python/eager/function.py\u001b[0m in \u001b[0;36mcall\u001b[0;34m(self, ctx, args, cancellation_manager)\u001b[0m\n\u001b[1;32m    596\u001b[0m               \u001b[0minputs\u001b[0m\u001b[0;34m=\u001b[0m\u001b[0margs\u001b[0m\u001b[0;34m,\u001b[0m\u001b[0;34m\u001b[0m\u001b[0;34m\u001b[0m\u001b[0m\n\u001b[1;32m    597\u001b[0m               \u001b[0mattrs\u001b[0m\u001b[0;34m=\u001b[0m\u001b[0mattrs\u001b[0m\u001b[0;34m,\u001b[0m\u001b[0;34m\u001b[0m\u001b[0;34m\u001b[0m\u001b[0m\n\u001b[0;32m--> 598\u001b[0;31m               ctx=ctx)\n\u001b[0m\u001b[1;32m    599\u001b[0m         \u001b[0;32melse\u001b[0m\u001b[0;34m:\u001b[0m\u001b[0;34m\u001b[0m\u001b[0;34m\u001b[0m\u001b[0m\n\u001b[1;32m    600\u001b[0m           outputs = execute.execute_with_cancellation(\n",
            "\u001b[0;32m/usr/local/lib/python3.6/dist-packages/tensorflow/python/eager/execute.py\u001b[0m in \u001b[0;36mquick_execute\u001b[0;34m(op_name, num_outputs, inputs, attrs, ctx, name)\u001b[0m\n\u001b[1;32m     58\u001b[0m     \u001b[0mctx\u001b[0m\u001b[0;34m.\u001b[0m\u001b[0mensure_initialized\u001b[0m\u001b[0;34m(\u001b[0m\u001b[0;34m)\u001b[0m\u001b[0;34m\u001b[0m\u001b[0;34m\u001b[0m\u001b[0m\n\u001b[1;32m     59\u001b[0m     tensors = pywrap_tfe.TFE_Py_Execute(ctx._handle, device_name, op_name,\n\u001b[0;32m---> 60\u001b[0;31m                                         inputs, attrs, num_outputs)\n\u001b[0m\u001b[1;32m     61\u001b[0m   \u001b[0;32mexcept\u001b[0m \u001b[0mcore\u001b[0m\u001b[0;34m.\u001b[0m\u001b[0m_NotOkStatusException\u001b[0m \u001b[0;32mas\u001b[0m \u001b[0me\u001b[0m\u001b[0;34m:\u001b[0m\u001b[0;34m\u001b[0m\u001b[0;34m\u001b[0m\u001b[0m\n\u001b[1;32m     62\u001b[0m     \u001b[0;32mif\u001b[0m \u001b[0mname\u001b[0m \u001b[0;32mis\u001b[0m \u001b[0;32mnot\u001b[0m \u001b[0;32mNone\u001b[0m\u001b[0;34m:\u001b[0m\u001b[0;34m\u001b[0m\u001b[0;34m\u001b[0m\u001b[0m\n",
            "\u001b[0;31mResourceExhaustedError\u001b[0m:  OOM when allocating tensor with shape[300,256] and type float on /job:localhost/replica:0/task:0/device:GPU:0 by allocator GPU_0_bfc\n\t [[{{node bidirectional_2/while_1/body/_251/MatMul_1}}]]\nHint: If you want to see a list of allocated tensors when OOM happens, add report_tensor_allocations_upon_oom to RunOptions for current allocation info.\n [Op:__inference_keras_scratch_graph_7896]\n\nFunction call stack:\nkeras_scratch_graph\n"
          ]
        }
      ]
    },
    {
      "cell_type": "code",
      "metadata": {
        "id": "L6dfyc8jUkxN",
        "colab_type": "code",
        "colab": {}
      },
      "source": [
        "result = model.evaluate(X_test,Y_test)\n",
        "print(result[1]*100)\n"
      ],
      "execution_count": 0,
      "outputs": []
    },
    {
      "cell_type": "code",
      "metadata": {
        "id": "fynjVOsOZLCn",
        "colab_type": "code",
        "outputId": "064f07b5-e126-4e1e-9260-3f746fe5d7d3",
        "colab": {
          "base_uri": "https://localhost:8080/",
          "height": 34
        }
      },
      "source": [
        "def prepare_submission():\n",
        "    test = pd.read_csv('/content/drive/My Drive/Data_4/f6eb0bd7-6063-4e50-baa0-111feda638fb_test.csv')\n",
        "    clean = cleaning()\n",
        "    test_data = clean.All_clean(test)\n",
        "    test_data = test_data['text']\n",
        "    tokenizer.fit_on_texts(test_data)\n",
        "    seq = tokenizer.texts_to_sequences(test_data)\n",
        "    test_final = pad_sequences(seq, maxlen = max_seq_len )\n",
        "    test_final = np.array(test_final).astype(np.float32)\n",
        "    print(test_final.shape)\n",
        "    result_final = model.predict_classes(test_final)\n",
        "    Y_data = pd.read_csv('/content/drive/My Drive/Data_4/3c41266b-1527-4f61-b489-1357bb886bb2_sample_submission.csv')\n",
        "    y_true = Y_data['labels'].values\n",
        "    return result_final,y_true.flatten()\n",
        "y_pred,y_true = prepare_submission()\n"
      ],
      "execution_count": 0,
      "outputs": [
        {
          "output_type": "stream",
          "text": [
            "(586, 10000)\n"
          ],
          "name": "stdout"
        }
      ]
    },
    {
      "cell_type": "code",
      "metadata": {
        "id": "MbJbLxHDbChz",
        "colab_type": "code",
        "outputId": "852e70d6-54ae-44f3-dee1-5d865c35b4b0",
        "colab": {
          "base_uri": "https://localhost:8080/",
          "height": 573
        }
      },
      "source": [
        "print(y_pred)\n",
        "print(y_true)\n"
      ],
      "execution_count": 0,
      "outputs": [
        {
          "output_type": "stream",
          "text": [
            "[1 1 1 1 1 1 1 0 1 1 1 1 0 1 1 1 1 1 1 1 1 1 0 1 1 1 1 1 1 1 1 1 1 1 0 1 1\n",
            " 0 1 1 1 0 1 1 0 1 0 0 0 0 0 1 1 1 1 1 0 0 1 1 1 0 1 0 0 1 1 1 1 0 1 1 0 1\n",
            " 0 1 1 1 0 0 1 0 1 1 1 1 0 1 1 1 1 1 0 1 1 1 1 1 1 1 1 0 1 1 0 0 1 1 1 1 1\n",
            " 1 1 1 1 0 1 0 1 0 1 0 0 1 1 1 0 1 1 0 1 0 1 1 1 0 0 1 1 1 1 1 1 0 1 0 1 1\n",
            " 1 1 1 0 1 1 1 1 1 1 1 1 1 0 1 0 1 0 1 1 1 0 1 0 1 1 1 0 0 1 1 1 1 0 0 1 1\n",
            " 1 1 1 1 1 1 0 1 1 0 1 1 1 1 1 1 0 1 1 1 1 0 1 1 1 1 1 0 0 1 1 1 1 1 0 1 1\n",
            " 0 0 1 1 1 0 1 1 0 0 1 1 0 1 1 0 1 0 1 1 1 1 1 1 1 1 1 1 1 0 0 1 1 1 1 1 0\n",
            " 0 1 1 1 1 1 1 1 1 0 1 1 1 1 1 0 0 0 0 1 1 0 0 1 0 0 1 1 1 1 0 1 0 1 1 1 1\n",
            " 1 1 1 1 1 1 1 1 0 1 1 0 1 1 1 1 0 1 1 0 1 0 0 0 0 0 1 1 1 1 1 1 1 1 1 1 1\n",
            " 0 0 1 0 0 0 1 1 1 0 1 1 1 0 1 1 1 1 0 0 0 0 0 1 1 1 1 1 0 0 1 1 1 1 1 1 1\n",
            " 1 0 1 1 1 1 0 0 1 1 1 0 1 1 0 1 1 1 1 1 1 1 1 1 0 1 1 1 1 1 0 0 1 1 1 1 1\n",
            " 1 1 1 1 1 0 0 0 1 1 1 1 0 0 1 1 1 1 0 1 1 1 1 0 1 1 1 0 1 1 1 0 0 1 1 1 1\n",
            " 0 1 1 0 0 1 1 1 1 1 0 1 0 1 0 0 0 0 0 0 0 1 1 1 1 1 1 0 1 1 1 1 1 0 1 1 0\n",
            " 1 0 1 1 0 0 1 0 1 1 1 1 1 1 1 1 1 0 0 0 1 1 1 1 1 0 0 1 1 1 1 1 1 1 0 0 1\n",
            " 1 1 0 1 1 0 1 1 1 0 1 1 1 1 0 1 1 1 1 0 1 1 1 1 0 1 1 0 1 1 1 1 1 1 1 0 1\n",
            " 1 1 1 0 1 1 0 1 1 1 1 0 1 1 1 0 1 0 1 1 1 1 1 0 1 0 1 1 0 1 1]\n",
            "[0 0 0 0 0 0 0 0 0 0 0 0 0 0 0 0 0 0 0 0 0 0 0 0 0 0 0 0 0 0 0 0 0 0 0 0 0\n",
            " 0 0 0 0 0 0 0 0 0 0 0 0 0 0 0 0 0 0 0 0 0 0 0 0 0 0 0 0 0 0 0 0 0 0 0 0 0\n",
            " 0 0 0 0 0 0 0 0 0 0 0 0 0 0 0 0 0 0 0 0 0 0 0 0 0 0 0 0 0 0 0 0 0 0 0 0 0\n",
            " 0 0 0 0 0 0 0 0 0 0 0 0 0 0 0 0 0 0 0 0 0 0 0 0 0 0 0 0 0 0 0 0 0 0 0 0 0\n",
            " 0 0 0 0 0 0 0 0 0 0 0 0 0 0 0 0 0 0 0 0 0 0 0 0 0 0 0 0 0 0 0 0 0 0 0 0 0\n",
            " 0 0 0 0 0 0 0 0 0 0 0 0 0 0 0 0 0 0 0 0 0 0 0 0 0 0 0 0 0 0 0 0 0 0 0 0 0\n",
            " 0 0 0 0 0 0 0 0 0 0 0 0 0 0 0 0 0 0 0 0 0 0 0 0 0 0 0 0 0 0 0 0 0 0 0 0 0\n",
            " 0 0 0 0 0 0 0 0 0 0 0 0 0 0 0 0 0 0 0 0 0 0 0 0 0 0 0 0 0 0 0 0 0 0 0 0 0\n",
            " 0 0 0 0 0 0 0 0 0 0 0 0 0 0 0 0 0 0 0 0 0 0 0 0 0 0 0 0 0 0 0 0 0 0 0 0 0\n",
            " 0 0 0 0 0 0 0 0 0 0 0 0 0 0 0 0 0 0 0 0 0 0 0 0 0 0 0 0 0 0 0 0 0 0 0 0 0\n",
            " 0 0 0 0 0 0 0 0 0 0 0 0 0 0 0 0 0 0 0 0 0 0 0 0 0 0 0 0 0 0 0 0 0 0 0 0 0\n",
            " 0 0 0 0 0 0 0 0 0 0 0 0 0 0 0 0 0 0 0 0 0 0 0 0 0 0 0 0 0 0 0 0 0 0 0 0 0\n",
            " 0 0 0 0 0 0 0 0 0 0 0 0 0 0 0 0 0 0 0 0 0 0 0 0 0 0 0 0 0 0 0 0 0 0 0 0 0\n",
            " 0 0 0 0 0 0 0 0 0 0 0 0 0 0 0 0 0 0 0 0 0 0 0 0 0 0 0 0 0 0 0 0 0 0 0 0 0\n",
            " 0 0 0 0 0 0 0 0 0 0 0 0 0 0 0 0 0 0 0 0 0 0 0 0 0 0 0 0 0 0 0 0 0 0 0 0 0\n",
            " 1 1 1 1 0 1 0 0 1 0 1 0 1 1 1 1 0 0 1 1 1 0 0 0 1 1 1 1 0 0 0]\n"
          ],
          "name": "stdout"
        }
      ]
    },
    {
      "cell_type": "code",
      "metadata": {
        "id": "QU_s0NKJdylH",
        "colab_type": "code",
        "outputId": "59c99b79-2306-4fc4-a101-12966dffc95f",
        "colab": {
          "base_uri": "https://localhost:8080/",
          "height": 121
        }
      },
      "source": [
        "print(pd.Series(y_true).value_counts()) \n",
        "print(pd.Series(y_pred).value_counts())"
      ],
      "execution_count": 0,
      "outputs": [
        {
          "output_type": "stream",
          "text": [
            "0    568\n",
            "1     18\n",
            "dtype: int64\n",
            "1    423\n",
            "0    163\n",
            "dtype: int64\n"
          ],
          "name": "stdout"
        }
      ]
    },
    {
      "cell_type": "code",
      "metadata": {
        "id": "IHlmmzEfUjxU",
        "colab_type": "code",
        "colab": {}
      },
      "source": [
        "y = pd.DataFrame(y_pred, columns=['labels'])\n",
        "y.to_csv('submission_glove.csv', header=True, index=False) "
      ],
      "execution_count": 0,
      "outputs": []
    },
    {
      "cell_type": "code",
      "metadata": {
        "id": "k4lp7FBRLE1_",
        "colab_type": "code",
        "outputId": "7d2d25bc-dcb0-4e63-8f62-1e627aca88c9",
        "colab": {
          "base_uri": "https://localhost:8080/",
          "height": 34
        }
      },
      "source": [
        "print('accuracy :', accuracy_score(y_true, y_pred))\n"
      ],
      "execution_count": 0,
      "outputs": [
        {
          "output_type": "stream",
          "text": [
            "accuracy : 0.2986348122866894\n"
          ],
          "name": "stdout"
        }
      ]
    },
    {
      "cell_type": "code",
      "metadata": {
        "id": "6hZ6bwNWJIbk",
        "colab_type": "code",
        "colab": {}
      },
      "source": [
        "A = pd.read_csv('/content/submission_glove.csv')\n",
        "   "
      ],
      "execution_count": 0,
      "outputs": []
    },
    {
      "cell_type": "code",
      "metadata": {
        "id": "xdlZi74keAFC",
        "colab_type": "code",
        "outputId": "73d7e9fa-6d1e-4449-aa5d-e4bb11ee4f25",
        "colab": {
          "base_uri": "https://localhost:8080/",
          "height": 34
        }
      },
      "source": [
        "print(A.shape)"
      ],
      "execution_count": 0,
      "outputs": [
        {
          "output_type": "stream",
          "text": [
            "(586, 1)\n"
          ],
          "name": "stdout"
        }
      ]
    },
    {
      "cell_type": "code",
      "metadata": {
        "id": "ed_GjwkKeCSA",
        "colab_type": "code",
        "colab": {}
      },
      "source": [
        ""
      ],
      "execution_count": 0,
      "outputs": []
    }
  ]
}