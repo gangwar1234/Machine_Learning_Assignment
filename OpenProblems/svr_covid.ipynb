{
  "nbformat": 4,
  "nbformat_minor": 0,
  "metadata": {
    "colab": {
      "name": "question_3_svr.ipynb",
      "provenance": [],
      "collapsed_sections": []
    },
    "kernelspec": {
      "name": "python3",
      "display_name": "Python 3"
    }
  },
  "cells": [
    {
      "cell_type": "code",
      "metadata": {
        "id": "qIlOEqVZpkLy",
        "colab_type": "code",
        "outputId": "b3d01107-040c-4423-d100-185540b16e8e",
        "colab": {
          "base_uri": "https://localhost:8080/",
          "height": 871
        }
      },
      "source": [
        "!pip install git+https://github.com/samoturk/mol2vec;\n",
        "from rdkit import Chem \n",
        "%matplotlib inline\n",
        "\n",
        "import numpy as np\n",
        "import pandas as pd\n",
        "import matplotlib.pyplot as plt\n",
        "import warnings\n",
        "warnings.filterwarnings(\"ignore\")\n",
        "from mol2vec.features import mol2alt_sentence, mol2sentence, MolSentence, DfVec, sentences2vec\n",
        "from gensim.models import word2vec\n",
        "\n",
        "# from csv import writer\n",
        "# from csv import reader\n",
        "# from csv import DictReader\n",
        "# from csv import DictWriter"
      ],
      "execution_count": 0,
      "outputs": [
        {
          "output_type": "stream",
          "text": [
            "Collecting git+https://github.com/samoturk/mol2vec\n",
            "  Cloning https://github.com/samoturk/mol2vec to /tmp/pip-req-build-w4n7ajsh\n",
            "  Running command git clone -q https://github.com/samoturk/mol2vec /tmp/pip-req-build-w4n7ajsh\n",
            "Requirement already satisfied: numpy in /usr/local/lib/python3.6/dist-packages (from mol2vec==0.1) (1.18.3)\n",
            "Requirement already satisfied: gensim in /usr/local/lib/python3.6/dist-packages (from mol2vec==0.1) (3.6.0)\n",
            "Requirement already satisfied: tqdm in /usr/local/lib/python3.6/dist-packages (from mol2vec==0.1) (4.38.0)\n",
            "Requirement already satisfied: joblib in /usr/local/lib/python3.6/dist-packages (from mol2vec==0.1) (0.14.1)\n",
            "Requirement already satisfied: pandas in /usr/local/lib/python3.6/dist-packages (from mol2vec==0.1) (1.0.3)\n",
            "Requirement already satisfied: matplotlib in /usr/local/lib/python3.6/dist-packages (from mol2vec==0.1) (3.2.1)\n",
            "Requirement already satisfied: IPython in /usr/local/lib/python3.6/dist-packages (from mol2vec==0.1) (5.5.0)\n",
            "Requirement already satisfied: seaborn in /usr/local/lib/python3.6/dist-packages (from mol2vec==0.1) (0.10.1)\n",
            "Requirement already satisfied: scipy>=0.18.1 in /usr/local/lib/python3.6/dist-packages (from gensim->mol2vec==0.1) (1.4.1)\n",
            "Requirement already satisfied: smart-open>=1.2.1 in /usr/local/lib/python3.6/dist-packages (from gensim->mol2vec==0.1) (1.11.1)\n",
            "Requirement already satisfied: six>=1.5.0 in /usr/local/lib/python3.6/dist-packages (from gensim->mol2vec==0.1) (1.12.0)\n",
            "Requirement already satisfied: python-dateutil>=2.6.1 in /usr/local/lib/python3.6/dist-packages (from pandas->mol2vec==0.1) (2.8.1)\n",
            "Requirement already satisfied: pytz>=2017.2 in /usr/local/lib/python3.6/dist-packages (from pandas->mol2vec==0.1) (2018.9)\n",
            "Requirement already satisfied: pyparsing!=2.0.4,!=2.1.2,!=2.1.6,>=2.0.1 in /usr/local/lib/python3.6/dist-packages (from matplotlib->mol2vec==0.1) (2.4.7)\n",
            "Requirement already satisfied: kiwisolver>=1.0.1 in /usr/local/lib/python3.6/dist-packages (from matplotlib->mol2vec==0.1) (1.2.0)\n",
            "Requirement already satisfied: cycler>=0.10 in /usr/local/lib/python3.6/dist-packages (from matplotlib->mol2vec==0.1) (0.10.0)\n",
            "Requirement already satisfied: simplegeneric>0.8 in /usr/local/lib/python3.6/dist-packages (from IPython->mol2vec==0.1) (0.8.1)\n",
            "Requirement already satisfied: traitlets>=4.2 in /usr/local/lib/python3.6/dist-packages (from IPython->mol2vec==0.1) (4.3.3)\n",
            "Requirement already satisfied: decorator in /usr/local/lib/python3.6/dist-packages (from IPython->mol2vec==0.1) (4.4.2)\n",
            "Requirement already satisfied: setuptools>=18.5 in /usr/local/lib/python3.6/dist-packages (from IPython->mol2vec==0.1) (46.1.3)\n",
            "Requirement already satisfied: pexpect; sys_platform != \"win32\" in /usr/local/lib/python3.6/dist-packages (from IPython->mol2vec==0.1) (4.8.0)\n",
            "Requirement already satisfied: pickleshare in /usr/local/lib/python3.6/dist-packages (from IPython->mol2vec==0.1) (0.7.5)\n",
            "Requirement already satisfied: prompt-toolkit<2.0.0,>=1.0.4 in /usr/local/lib/python3.6/dist-packages (from IPython->mol2vec==0.1) (1.0.18)\n",
            "Requirement already satisfied: pygments in /usr/local/lib/python3.6/dist-packages (from IPython->mol2vec==0.1) (2.1.3)\n",
            "Requirement already satisfied: boto3 in /usr/local/lib/python3.6/dist-packages (from smart-open>=1.2.1->gensim->mol2vec==0.1) (1.12.47)\n",
            "Requirement already satisfied: boto in /usr/local/lib/python3.6/dist-packages (from smart-open>=1.2.1->gensim->mol2vec==0.1) (2.49.0)\n",
            "Requirement already satisfied: requests in /usr/local/lib/python3.6/dist-packages (from smart-open>=1.2.1->gensim->mol2vec==0.1) (2.23.0)\n",
            "Requirement already satisfied: ipython-genutils in /usr/local/lib/python3.6/dist-packages (from traitlets>=4.2->IPython->mol2vec==0.1) (0.2.0)\n",
            "Requirement already satisfied: ptyprocess>=0.5 in /usr/local/lib/python3.6/dist-packages (from pexpect; sys_platform != \"win32\"->IPython->mol2vec==0.1) (0.6.0)\n",
            "Requirement already satisfied: wcwidth in /usr/local/lib/python3.6/dist-packages (from prompt-toolkit<2.0.0,>=1.0.4->IPython->mol2vec==0.1) (0.1.9)\n",
            "Requirement already satisfied: s3transfer<0.4.0,>=0.3.0 in /usr/local/lib/python3.6/dist-packages (from boto3->smart-open>=1.2.1->gensim->mol2vec==0.1) (0.3.3)\n",
            "Requirement already satisfied: botocore<1.16.0,>=1.15.47 in /usr/local/lib/python3.6/dist-packages (from boto3->smart-open>=1.2.1->gensim->mol2vec==0.1) (1.15.47)\n",
            "Requirement already satisfied: jmespath<1.0.0,>=0.7.1 in /usr/local/lib/python3.6/dist-packages (from boto3->smart-open>=1.2.1->gensim->mol2vec==0.1) (0.9.5)\n",
            "Requirement already satisfied: urllib3!=1.25.0,!=1.25.1,<1.26,>=1.21.1 in /usr/local/lib/python3.6/dist-packages (from requests->smart-open>=1.2.1->gensim->mol2vec==0.1) (1.24.3)\n",
            "Requirement already satisfied: idna<3,>=2.5 in /usr/local/lib/python3.6/dist-packages (from requests->smart-open>=1.2.1->gensim->mol2vec==0.1) (2.9)\n",
            "Requirement already satisfied: chardet<4,>=3.0.2 in /usr/local/lib/python3.6/dist-packages (from requests->smart-open>=1.2.1->gensim->mol2vec==0.1) (3.0.4)\n",
            "Requirement already satisfied: certifi>=2017.4.17 in /usr/local/lib/python3.6/dist-packages (from requests->smart-open>=1.2.1->gensim->mol2vec==0.1) (2020.4.5.1)\n",
            "Requirement already satisfied: docutils<0.16,>=0.10 in /usr/local/lib/python3.6/dist-packages (from botocore<1.16.0,>=1.15.47->boto3->smart-open>=1.2.1->gensim->mol2vec==0.1) (0.15.2)\n",
            "Building wheels for collected packages: mol2vec\n",
            "  Building wheel for mol2vec (setup.py) ... \u001b[?25l\u001b[?25hdone\n",
            "  Created wheel for mol2vec: filename=mol2vec-0.1-cp36-none-any.whl size=14026 sha256=236d4d3b5f4acf08ebb19252399acb7480c802a68f2640b97417ed96b33fdd58\n",
            "  Stored in directory: /tmp/pip-ephem-wheel-cache-joud4nxy/wheels/96/0f/2d/a1092b9677c96453dc244b209544cac61bc8b974cbffb50063\n",
            "Successfully built mol2vec\n",
            "Installing collected packages: mol2vec\n",
            "Successfully installed mol2vec-0.1\n"
          ],
          "name": "stdout"
        }
      ]
    },
    {
      "cell_type": "code",
      "metadata": {
        "id": "SNvVlnuEpnkm",
        "colab_type": "code",
        "outputId": "708c8df8-cd35-4537-c102-190545e8d958",
        "colab": {
          "base_uri": "https://localhost:8080/",
          "height": 52
        }
      },
      "source": [
        "\n",
        "import sys\n",
        "import os\n",
        "import requests\n",
        "import subprocess\n",
        "import shutil\n",
        "from logging import getLogger, StreamHandler, INFO\n",
        "\n",
        "\n",
        "logger = getLogger(__name__)\n",
        "logger.addHandler(StreamHandler())\n",
        "logger.setLevel(INFO)\n",
        "\n",
        "\n",
        "def install(\n",
        "        chunk_size=4096,\n",
        "        file_name=\"Miniconda3-latest-Linux-x86_64.sh\",\n",
        "        url_base=\"https://repo.continuum.io/miniconda/\",\n",
        "        conda_path=os.path.expanduser(os.path.join(\"~\", \"miniconda\")),\n",
        "        rdkit_version=None,\n",
        "        add_python_path=True,\n",
        "        force=False):\n",
        "    \"\"\"install rdkit from miniconda\n",
        "    ```\n",
        "    import rdkit_installer\n",
        "    rdkit_installer.install()\n",
        "    ```\n",
        "    \"\"\"\n",
        "\n",
        "    python_path = os.path.join(\n",
        "        conda_path,\n",
        "        \"lib\",\n",
        "        \"python{0}.{1}\".format(*sys.version_info),\n",
        "        \"site-packages\",\n",
        "    )\n",
        "\n",
        "    if add_python_path and python_path not in sys.path:\n",
        "        logger.info(\"add {} to PYTHONPATH\".format(python_path))\n",
        "        sys.path.append(python_path)\n",
        "\n",
        "    if os.path.isdir(os.path.join(python_path, \"rdkit\")):\n",
        "        logger.info(\"rdkit is already installed\")\n",
        "        if not force:\n",
        "            return\n",
        "\n",
        "        logger.info(\"force re-install\")\n",
        "\n",
        "    url = url_base + file_name\n",
        "    python_version = \"{0}.{1}.{2}\".format(*sys.version_info)\n",
        "\n",
        "    logger.info(\"python version: {}\".format(python_version))\n",
        "\n",
        "    if os.path.isdir(conda_path):\n",
        "        logger.warning(\"remove current miniconda\")\n",
        "        shutil.rmtree(conda_path)\n",
        "    elif os.path.isfile(conda_path):\n",
        "        logger.warning(\"remove {}\".format(conda_path))\n",
        "        os.remove(conda_path)\n",
        "\n",
        "    logger.info('fetching installer from {}'.format(url))\n",
        "    res = requests.get(url, stream=True)\n",
        "    res.raise_for_status()\n",
        "    with open(file_name, 'wb') as f:\n",
        "        for chunk in res.iter_content(chunk_size):\n",
        "            f.write(chunk)\n",
        "    logger.info('done')\n",
        "\n",
        "    logger.info('installing miniconda to {}'.format(conda_path))\n",
        "    subprocess.check_call([\"bash\", file_name, \"-b\", \"-p\", conda_path])\n",
        "    logger.info('done')\n",
        "\n",
        "    logger.info(\"installing rdkit\")\n",
        "    subprocess.check_call([\n",
        "        os.path.join(conda_path, \"bin\", \"conda\"),\n",
        "        \"install\",\n",
        "        \"--yes\",\n",
        "        \"-c\", \"rdkit\",\n",
        "        \"python=={}\".format(python_version),\n",
        "        \"rdkit\" if rdkit_version is None else \"rdkit=={}\".format(rdkit_version)])\n",
        "    logger.info(\"done\")\n",
        "\n",
        "    import rdkit\n",
        "    logger.info(\"rdkit-{} installation finished!\".format(rdkit.__version__))\n",
        "\n",
        "\n",
        "if __name__ == \"__main__\":\n",
        "    install()\n",
        "from gensim.models import word2vec"
      ],
      "execution_count": 0,
      "outputs": [
        {
          "output_type": "stream",
          "text": [
            "rdkit is already installed\n",
            "rdkit is already installed\n"
          ],
          "name": "stderr"
        }
      ]
    },
    {
      "cell_type": "code",
      "metadata": {
        "id": "ivrJkWsgumt-",
        "colab_type": "code",
        "colab": {}
      },
      "source": [
        "from sklearn.metrics import accuracy_score\n",
        "from sklearn.metrics import f1_score\n",
        "from sklearn.metrics import classification_report\n",
        "from sklearn.metrics import mean_squared_error\n",
        "from sklearn.metrics import r2_score\n",
        "from mol2vec.features import mol2alt_sentence, mol2sentence\n",
        "from mol2vec.features import MolSentence, DfVec, sentences2vec\n",
        "from sklearn.metrics import mean_absolute_error, mean_squared_error"
      ],
      "execution_count": 0,
      "outputs": []
    },
    {
      "cell_type": "code",
      "metadata": {
        "id": "HPYaivOzpoJv",
        "colab_type": "code",
        "colab": {}
      },
      "source": [
        "from sklearn.svm import SVR\n",
        "class Regression:\n",
        "  df = None\n",
        "  y  = None\n",
        "  ridge = None\n",
        "  def __init__(self,Data,c):\n",
        "    self.ridge = SVR(kernel='rbf',C=c, epsilon=0.2)\n",
        "    self.df = Data\n",
        "    self.y = Data['Binding Affinity']\n",
        "    # print( self.df)\n",
        "    self.df.drop(columns='Binding Affinity',inplace=True)\n",
        "    #print(self.df.shape)\n",
        "    #print( self.y.shape)\n",
        "    #print(self.df)\n",
        "   # print( self.y)\n",
        "\n",
        "  def Preprocessing(self,df_X):\n",
        "    model = word2vec.Word2Vec.load('/content/drive/My Drive/model_300dim_kaggle.pkl')\n",
        "    df_X['mol'] = df_X['SMILES sequence'].apply(lambda x: Chem.MolFromSmiles(x))\n",
        "    df_X['sentence'] = df_X.apply(lambda x: MolSentence(mol2alt_sentence(x['mol'], 1)), axis=1)\n",
        "    df_X['mol2vec'] = [DfVec(x) for x in sentences2vec(df_X['sentence'], model, unseen='UNK')]\n",
        "    X = np.array([x.vec for x in df_X['mol2vec']])\n",
        "    return X\n",
        "\n",
        "  def train(self):\n",
        "      X = self.Preprocessing(self.df)\n",
        "      m_df = pd.DataFrame(X)\n",
        "      print(X.shape)\n",
        "      X_train, X_test, y_train, y_test = train_test_split(m_df, self.y, test_size=.1, random_state=1)\n",
        "      print(X_train.shape)\n",
        "      print(y_train.shape)\n",
        "      self.ridge.fit(X_train, y_train)\n",
        "      prediction = self.ridge.predict(X_test)\n",
        "      mae = mean_absolute_error(y_test, prediction)\n",
        "      mse = mean_squared_error(y_test, prediction)\n",
        "      print('MAE score:', round(mae, 4))\n",
        "      print('MSE score:', round(mse,4))\n",
        "    \n",
        "  def test(self):\n",
        "    testdf = pd.read_csv('/content/4b566bb4-3155-49ff-91e1-19942504b20c_test.csv')\n",
        "    y_test = testdf['Binding Affinity']\n",
        "    testdf.drop(columns='Binding Affinity',inplace=True)\n",
        "    X_test = self.Preprocessing(testdf)\n",
        "    m_df = pd.DataFrame(X_test)\n",
        "    prediction = self.ridge.predict(m_df)\n",
        "    return prediction\n"
      ],
      "execution_count": 0,
      "outputs": []
    },
    {
      "cell_type": "code",
      "metadata": {
        "id": "mMrU9sj1pwEa",
        "colab_type": "code",
        "outputId": "79292f31-9639-4724-a705-316878f9f90b",
        "colab": {
          "base_uri": "https://localhost:8080/",
          "height": 104
        }
      },
      "source": [
        "from sklearn.model_selection import train_test_split\n",
        "mdf= pd.read_csv('/content/drive/My Drive/22bba507-efcf-4af0-b9d0-f26193605457_train.csv')\n",
        "reg = Regression(mdf,29.8)\n",
        "reg.train()"
      ],
      "execution_count": 0,
      "outputs": [
        {
          "output_type": "stream",
          "text": [
            "(9000, 300)\n",
            "(8100, 300)\n",
            "(8100,)\n",
            "MAE score: 1.6405\n",
            "MSE score: 5.3357\n"
          ],
          "name": "stdout"
        }
      ]
    },
    {
      "cell_type": "code",
      "metadata": {
        "id": "ALBgUqz40o2y",
        "colab_type": "code",
        "colab": {}
      },
      "source": [
        "y_pred = reg.test()"
      ],
      "execution_count": 0,
      "outputs": []
    },
    {
      "cell_type": "code",
      "metadata": {
        "id": "ny6s1yn0uVPF",
        "colab_type": "code",
        "outputId": "066e3dbc-d656-4f16-894c-7ae5f2ba1179",
        "colab": {
          "base_uri": "https://localhost:8080/",
          "height": 124
        }
      },
      "source": [
        "from google.colab import drive\n",
        "drive.mount('/content/drive')"
      ],
      "execution_count": 0,
      "outputs": [
        {
          "output_type": "stream",
          "text": [
            "Go to this URL in a browser: https://accounts.google.com/o/oauth2/auth?client_id=947318989803-6bn6qk8qdgf4n4g3pfee6491hc0brc4i.apps.googleusercontent.com&redirect_uri=urn%3aietf%3awg%3aoauth%3a2.0%3aoob&response_type=code&scope=email%20https%3a%2f%2fwww.googleapis.com%2fauth%2fdocs.test%20https%3a%2f%2fwww.googleapis.com%2fauth%2fdrive%20https%3a%2f%2fwww.googleapis.com%2fauth%2fdrive.photos.readonly%20https%3a%2f%2fwww.googleapis.com%2fauth%2fpeopleapi.readonly\n",
            "\n",
            "Enter your authorization code:\n",
            "··········\n",
            "Mounted at /content/drive\n"
          ],
          "name": "stdout"
        }
      ]
    },
    {
      "cell_type": "code",
      "metadata": {
        "id": "KnFo1ualpykz",
        "colab_type": "code",
        "outputId": "007b38db-1bba-49b4-95a7-4040b5bbe6a1",
        "colab": {
          "base_uri": "https://localhost:8080/",
          "height": 52
        }
      },
      "source": [
        "y_pred\n"
      ],
      "execution_count": 0,
      "outputs": [
        {
          "output_type": "execute_result",
          "data": {
            "text/plain": [
              "array([-21.65063806, -19.21920186, -20.83810133, ..., -20.34067753,\n",
              "       -17.03217144, -28.34578683])"
            ]
          },
          "metadata": {
            "tags": []
          },
          "execution_count": 30
        }
      ]
    },
    {
      "cell_type": "code",
      "metadata": {
        "id": "ClX1FOPQpqlc",
        "colab_type": "code",
        "colab": {}
      },
      "source": [
        "X_file= pd.read_csv('/content/drive/My Drive/3adc8d2b-4db8-4d95-a013-6a8dea863fb0_test.csv')\n",
        "X_file.drop(columns='Binding Affinity',inplace=True)\n",
        "A = pd.DataFrame(X_file.values)\n",
        "B = pd.DataFrame(y_pred)\n",
        "Solution = pd.concat((A, B), axis=1)\n",
        "Solution.columns = (['SMILES sequence', 'Binding Affinity'])\n",
        "Solution.to_csv('submission_SVR.csv', header=True, index=False) "
      ],
      "execution_count": 0,
      "outputs": []
    },
    {
      "cell_type": "code",
      "metadata": {
        "id": "Z7jF3MM4p71K",
        "colab_type": "code",
        "colab": {}
      },
      "source": [
        "# A = pd.read_csv('/content/submission_SVR.csv')\n",
        "# B = pd.read_csv('/content/sample_submission.csv')\n",
        "# mse = mean_squared_error(A['Binding Affinity'], B['Binding Affinity'])"
      ],
      "execution_count": 0,
      "outputs": []
    },
    {
      "cell_type": "code",
      "metadata": {
        "id": "bgmLYa45UAN1",
        "colab_type": "code",
        "colab": {}
      },
      "source": [
        "\n",
        "import sys\n",
        "import os\n",
        "sys.path.append('/usr/local/lib/python3.7/site-packages/')\n",
        "\n",
        "import numpy as np\n",
        "import pandas as pd\n",
        "import matplotlib.pyplot as plt\n",
        "from sklearn.metrics import accuracy_score\n",
        "from sklearn.metrics import f1_score\n",
        "from sklearn.metrics import classification_report\n",
        "from sklearn.metrics import mean_squared_error\n",
        "from sklearn.metrics import r2_score\n",
        "from mol2vec.features import mol2alt_sentence, mol2sentence\n",
        "from mol2vec.features import MolSentence, DfVec, sentences2vec\n",
        "from sklearn.metrics import mean_absolute_error, mean_squared_error\n",
        "%matplotlib inline\n",
        "import matplotlib.pyplot as plt\n",
        "import sys\n",
        "import os\n",
        "from sklearn.metrics import mean_absolute_error, mean_squared_error\n",
        "sys.path.append('/usr/local/lib/python3.6/dist-packages/')\n",
        "import numpy as np\n",
        "import pandas as pd\n",
        "import matplotlib.pyplot as plt\n",
        "import warnings\n",
        "from rdkit import Chem\n",
        "from rdkit.Chem import DataStructs\n",
        "from rdkit.Chem import AllChem\n",
        "from rdkit.Chem import RDConfig\n",
        "from rdkit import rdBase\n",
        "from rdkit.Chem.Draw import IPythonConsole\n",
        "from mol2vec.features import mol2alt_sentence, mol2sentence, MolSentence, DfVec, sentences2vec\n",
        "from gensim.models import word2vec\n",
        "from sklearn.model_selection import train_test_split\n",
        "from sklearn.linear_model import RidgeCV\n",
        "from rdkit.Chem import Descriptors\n",
        "from gensim.models import word2vec"
      ],
      "execution_count": 0,
      "outputs": []
    },
    {
      "cell_type": "code",
      "metadata": {
        "id": "5a_SuGSwTvGW",
        "colab_type": "code",
        "outputId": "3204e257-c0e3-4817-8b36-b65e9a5517b6",
        "colab": {
          "base_uri": "https://localhost:8080/",
          "height": 573
        }
      },
      "source": [
        "def number_of_atoms(atom_list, Data):\n",
        "    for i in atom_list:\n",
        "        Data['num_of_{}_atoms'.format(i)] = Data['mol'].apply(lambda x: len(x.GetSubstructMatches(Chem.MolFromSmiles(i))))\n",
        "    return Data\n",
        "\n",
        "\n",
        "def train_def():\n",
        "  Data = pd.read_csv('/content/drive/My Drive/22bba507-efcf-4af0-b9d0-f26193605457_train.csv')\n",
        "  Data['mol'] = Data['SMILES sequence'].apply(lambda x: Chem.MolFromSmiles(x)) \n",
        "  Data['mol'] = Data['mol'].apply(lambda x: Chem.AddHs(x))\n",
        "  Data['num_of_atoms'] = Data['mol'].apply(lambda x: x.GetNumAtoms())\n",
        "  Data['num_of_heavy_atoms'] = Data['mol'].apply(lambda x: x.GetNumHeavyAtoms())\n",
        "  Data = number_of_atoms(['C','O', 'N', 'S'], Data)\n",
        "  print(Data)\n",
        "  Data['tpsa'] = Data['mol'].apply(lambda x: Descriptors.TPSA(x))\n",
        "  Data['mol_w'] = Data['mol'].apply(lambda x: Descriptors.ExactMolWt(x))\n",
        "  Data['num_valence_electrons'] = Data['mol'].apply(lambda x: Descriptors.NumValenceElectrons(x))\n",
        "  Data['num_heteroatoms'] = Data['mol'].apply(lambda x: Descriptors.NumHeteroatoms(x))\n",
        "  train_df = Data.drop(columns=['SMILES sequence', 'mol', 'Binding Affinity'])\n",
        "  y = Data['Binding Affinity'].values\n",
        "  X_train, X_test, y_train, y_test = train_test_split(train_df, y, test_size=.1, random_state=1)\n",
        "  print(X_train.shape)\n",
        "  print(y_train.shape)\n",
        "  ridge =  RidgeCV(cv=5,alphas = [1])\n",
        "  ridge.fit(X_train, y_train)\n",
        "  prediction = ridge.predict(X_test)\n",
        "  mae = mean_absolute_error(y_test, prediction)\n",
        "  mse = mean_squared_error(y_test, prediction)\n",
        "  print('MAE score:', round(mae, 4))\n",
        "  print('MSE score:', round(mse,4))\n",
        "  return train_df\n",
        "print(train_def())"
      ],
      "execution_count": 0,
      "outputs": [
        {
          "output_type": "stream",
          "text": [
            "               SMILES sequence  ...  num_of_S_atoms\n",
            "0         CCNC(C)C(NC)c1ccccc1  ...               0\n",
            "1             CONC(=O)c1cncnc1  ...               0\n",
            "2        CCNC1CCCN(Cc2ccsc2)C1  ...               1\n",
            "3      CC(NC(=O)CSCCN)c1ccccc1  ...               1\n",
            "4         CCC(CS)CN(C)c1ccccc1  ...               1\n",
            "...                        ...  ...             ...\n",
            "8995  CC(O)CCNC(=O)CNCc1ccccc1  ...               0\n",
            "8996     N#Cc1cccc(-c2cnsc2)n1  ...               1\n",
            "8997    Cc1ccnc(NC(CN)C(C)C)c1  ...               0\n",
            "8998          CC(=O)CCc1cncnc1  ...               0\n",
            "8999       COCCC(=O)Nc1cnccc1C  ...               0\n",
            "\n",
            "[9000 rows x 9 columns]\n",
            "(8100, 10)\n",
            "(8100,)\n",
            "MAE score: 2.3763\n",
            "MSE score: 10.0644\n",
            "      num_of_atoms  num_of_heavy_atoms  ...  num_valence_electrons  num_heteroatoms\n",
            "0               34                  14  ...                     78                2\n",
            "1               18                  11  ...                     58                5\n",
            "2               35                  15  ...                     84                3\n",
            "3               34                  16  ...                     88                4\n",
            "4               33                  14  ...                     78                2\n",
            "...            ...                 ...  ...                    ...              ...\n",
            "8995            37                  17  ...                     94                4\n",
            "8996            18                  13  ...                     62                4\n",
            "8997            33                  14  ...                     78                3\n",
            "8998            21                  11  ...                     58                3\n",
            "8999            28                  14  ...                     76                4\n",
            "\n",
            "[9000 rows x 10 columns]\n"
          ],
          "name": "stdout"
        }
      ]
    },
    {
      "cell_type": "code",
      "metadata": {
        "id": "HsxiahV3T3KJ",
        "colab_type": "code",
        "outputId": "a1e73ed6-96e2-4fa4-b895-d85c62c1eec6",
        "colab": {
          "base_uri": "https://localhost:8080/",
          "height": 279
        }
      },
      "source": [
        "cv = [1,10,20] \n",
        "# corresponding y axis values \n",
        "mse = [2.3764,2.3764,2.3764] \n",
        "mae = [10.0647,10.0647,10.0647] \n",
        "# plotting the points  \n",
        "plt.plot(cv,mse) \n",
        "  \n",
        "# naming the x axis \n",
        "plt.xlabel('cv') \n",
        "# naming the y axis \n",
        "plt.ylabel('mean_square_error') \n",
        "plt.savefig('foo')"
      ],
      "execution_count": 0,
      "outputs": [
        {
          "output_type": "display_data",
          "data": {
            "image/png": "[encoded data removed]",
            "text/plain": [
              "<Figure size 432x288 with 1 Axes>"
            ]
          },
          "metadata": {
            "tags": [],
            "needs_background": "light"
          }
        }
      ]
    },
    {
      "cell_type": "code",
      "metadata": {
        "id": "cfpBGS2eWR24",
        "colab_type": "code",
        "outputId": "fe8d6937-d343-4764-91dd-9d83e8eda476",
        "colab": {
          "base_uri": "https://localhost:8080/",
          "height": 280
        }
      },
      "source": [
        "plt.plot(cv,mae) \n",
        "  \n",
        "# naming the x axis \n",
        "plt.xlabel('cv') \n",
        "# naming the y axis \n",
        "plt.ylabel('mean_absolute_error') \n",
        "plt.savefig('foo')"
      ],
      "execution_count": 0,
      "outputs": [
        {
          "output_type": "display_data",
          "data": {
            "image/png": "[encoded data removed]",
            "text/plain": [
              "<Figure size 432x288 with 1 Axes>"
            ]
          },
          "metadata": {
            "tags": [],
            "needs_background": "light"
          }
        }
      ]
    },
    {
      "cell_type": "code",
      "metadata": {
        "id": "7oXvNwawZhSf",
        "colab_type": "code",
        "colab": {}
      },
      "source": [
        "class Regression:\n",
        "  df = None\n",
        "  y  = None\n",
        "  ridge = RidgeCV(cv=5)\n",
        "  def __init__(self,Data):\n",
        "    self.df = Data\n",
        "    self.y = Data['Binding Affinity']\n",
        "    self.df.drop(columns='Binding Affinity',inplace=True)\n",
        "    print(self.df.shape)\n",
        "    print( self.y.shape)\n",
        "    # print(self.df)\n",
        "    # print( self.y)\n",
        "\n",
        "  def Preprocessing(self,df_X):\n",
        "    model = word2vec.Word2Vec.load('/content/drive/My Drive/model_300dim_kaggle.pkl')\n",
        "    df_X['mol'] = df_X['SMILES sequence'].apply(lambda x: Chem.MolFromSmiles(x))\n",
        "    df_X['sentence'] = df_X.apply(lambda x: MolSentence(mol2alt_sentence(x['mol'], 1)), axis=1)\n",
        "    df_X['mol2vec'] = [DfVec(x) for x in sentences2vec(df_X['sentence'], model, unseen='UNK')]\n",
        "    X = np.array([x.vec for x in df_X['mol2vec']])\n",
        "    return X\n",
        "\n",
        "  def train(self):\n",
        "    X = self.Preprocessing(self.df)\n",
        "    m_df = pd.DataFrame(X)\n",
        "    # train_df = train_def()\n",
        "    # new_df = pd.concat((m_df, train_df), axis=1)\n",
        "    print(X.shape)\n",
        "    X_train, X_test, y_train, y_test = train_test_split(m_df, self.y, test_size=.1, random_state=1)\n",
        "    print(\"after\",X_train.shape)\n",
        "    print(y_train.shape)\n",
        "    self.ridge.fit(X_train, y_train)\n",
        "    print(\"hey\")\n",
        "    prediction = self.ridge.predict(X_test)\n",
        "    mae = mean_absolute_error(y_test, prediction)\n",
        "    mse = mean_squared_error(y_test, prediction)\n",
        "    print('MAE score:', round(mae, 4))\n",
        "    print('MSE score:', round(mse,4))\n",
        "    \n",
        "  def test(self):\n",
        "    testdf = pd.read_csv('/content/drive/My Drive/3adc8d2b-4db8-4d95-a013-6a8dea863fb0_test.csv')\n",
        "    y_test = testdf['Binding Affinity']\n",
        "    testdf.drop(columns='Binding Affinity',inplace=True)\n",
        "    X_test = self.Preprocessing(testdf)\n",
        "    m_df = pd.DataFrame(X_test)\n",
        "    # print(m_df)\n",
        "    train_df = train_def()\n",
        "    train_df = train_df[0:X_test.shape[0]]\n",
        "    print(train_df)\n",
        "    new_df = pd.concat((m_df, train_df), axis=1)\n",
        "    print(new_df)\n",
        "    prediction = self.ridge.predict(new_df)\n",
        "    return prediction\n"
      ],
      "execution_count": 0,
      "outputs": []
    },
    {
      "cell_type": "code",
      "metadata": {
        "id": "WqCERwvHWl6h",
        "colab_type": "code",
        "outputId": "38e18ff6-69fa-472f-9380-6264f38d34c0",
        "colab": {
          "base_uri": "https://localhost:8080/",
          "height": 156
        }
      },
      "source": [
        "mdf= pd.read_csv('/content/drive/My Drive/22bba507-efcf-4af0-b9d0-f26193605457_train.csv')\n",
        "reg = Regression(mdf)\n",
        "reg.train()"
      ],
      "execution_count": 0,
      "outputs": [
        {
          "output_type": "stream",
          "text": [
            "(9000, 1)\n",
            "(9000,)\n",
            "(9000, 300)\n",
            "after (8100, 300)\n",
            "(8100,)\n",
            "hey\n",
            "MAE score: 1.7649\n",
            "MSE score: 5.6485\n"
          ],
          "name": "stdout"
        }
      ]
    },
    {
      "cell_type": "code",
      "metadata": {
        "id": "cALEZ_0yaFO9",
        "colab_type": "code",
        "colab": {}
      },
      "source": [
        "C_values =[50,60,80,100,150]\n",
        "mse = [4.807146652880561, 4.814496174034933, 4.833741325557602, 4.8549326182684895, 4.902401739052718]\n",
        "mae = [1.5997367748927773, 1.598928677220362, 1.5991621786117618, 1.600487409217542, 1.6110004382268672]\n"
      ],
      "execution_count": 0,
      "outputs": []
    },
    {
      "cell_type": "code",
      "metadata": {
        "id": "uStNy8Oghzp2",
        "colab_type": "code",
        "outputId": "a75b60d9-e1f8-48f2-df1a-04c72f46af19",
        "colab": {
          "base_uri": "https://localhost:8080/",
          "height": 313
        }
      },
      "source": [
        "plt.plot(C_values,mae) \n",
        "  \n",
        "# naming the x axis \n",
        "plt.xlabel('C_values') \n",
        "# naming the y axis \n",
        "plt.ylabel('mean_absolute_error') \n",
        "plt.savefig('foo')\n",
        "plt.title('svr using Kernal rbf') \n"
      ],
      "execution_count": 0,
      "outputs": [
        {
          "output_type": "execute_result",
          "data": {
            "text/plain": [
              "Text(0.5, 1.0, 'svr using Kernal rbf')"
            ]
          },
          "metadata": {
            "tags": []
          },
          "execution_count": 49
        },
        {
          "output_type": "display_data",
          "data": {
            "image/png": "[encoded data removed]",
            "text/plain": [
              "<Figure size 432x288 with 1 Axes>"
            ]
          },
          "metadata": {
            "tags": [],
            "needs_background": "light"
          }
        }
      ]
    },
    {
      "cell_type": "code",
      "metadata": {
        "id": "0-93eyrfjj8p",
        "colab_type": "code",
        "colab": {}
      },
      "source": [
        ""
      ],
      "execution_count": 0,
      "outputs": []
    }
  ]
}