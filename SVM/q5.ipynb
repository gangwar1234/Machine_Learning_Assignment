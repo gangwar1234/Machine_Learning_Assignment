{
 "cells": [
  {
   "cell_type": "code",
   "execution_count": 25,
   "metadata": {},
   "outputs": [],
   "source": [
    "import pickle\n",
    "import string \n",
    "import nltk\n",
    "from unidecode import unidecode\n",
    "from nltk.tokenize import RegexpTokenizer\n",
    "from nltk.corpus import stopwords\n",
    "from nltk.tokenize import word_tokenize\n",
    "from sklearn.svm import SVC\n",
    "from sklearn import svm\n",
    "import matplotlib.pyplot as plt\n",
    "from matplotlib import style\n",
    "import numpy as np\n",
    "import pandas as pd\n",
    "import seaborn as sns\n",
    "from pprint import pprint\n",
    "from sklearn.metrics import classification_report\n",
    "from sklearn.metrics import confusion_matrix, accuracy_score, f1_score, precision_score, recall_score, r2_score\n",
    "from heapq import heappush, heappop\n",
    "import sys\n",
    "from sklearn.svm import LinearSVC\n",
    "from sklearn.feature_extraction.text import TfidfVectorizer, CountVectorizer"
   ]
  },
  {
   "cell_type": "code",
   "execution_count": 44,
   "metadata": {},
   "outputs": [
    {
     "name": "stdout",
     "output_type": "stream",
     "text": [
      "shape -  15663\n",
      "results :  [0.95211645 0.95431384 0.9507247  0.95238384]\n"
     ]
    }
   ],
   "source": [
    "class AuthorClassifier:\n",
    "    \n",
    "    X_train = Y_train = X_test = Y_test = \"\"\n",
    "    vectorizer_x = TfidfVectorizer()\n",
    "    \n",
    "    def __init__(self):\n",
    "        name = \"name\"\n",
    "        \n",
    "    def Read(self,filename):\n",
    "        TrainData = pd.read_csv(filename)\n",
    "        return TrainData\n",
    "    \n",
    "    def PreProcessing(self,Data):\n",
    "        print('shape - ', Data.shape[0])\n",
    "        #print(Data.iloc[0,:])\n",
    "        for i in range(Data.shape[0]):\n",
    "            #remove numbers\n",
    "            feature = Data.iloc[i,:]\n",
    "\n",
    "            feature = ''.join(i for i in feature if not i.isdigit())\n",
    "            #remove punctuation\n",
    "            exclude = set(string.punctuation)\n",
    "            feature = ''.join(ch for ch in feature if ch not in exclude)\n",
    "            #print(feature)\n",
    "            #encoding to ascii\n",
    "            feature = unidecode(feature)\n",
    "            feature = feature.lower()\n",
    "            #tokenize\n",
    "            tokenizer = RegexpTokenizer(\"\\w+|\\d\\.]+|\\S+\")\n",
    "            tokens = tokenizer.tokenize(feature)\n",
    "            stopWords = set(stopwords.words('english'))\n",
    "            val = 10\n",
    "            New_Data = [w for w in tokens if not w in stopWords]\n",
    "            Data.iloc[i,:] = ' '.join([str(w) for w in New_Data])\n",
    "        return Data\n",
    "    \n",
    "    def results(self,y_test,y_pred):\n",
    "        f1 = f1_score(y_test, y_pred, average=\"macro\")\n",
    "        ps = precision_score(y_test, y_pred, average=\"macro\")\n",
    "        rs = recall_score(y_test, y_pred, average=\"macro\")\n",
    "        acs = accuracy_score(y_test, y_pred)\n",
    "        return np.array([acs, ps, rs, f1])\n",
    "    \n",
    "    \n",
    "    def train(self,filename):\n",
    "        Data = self.Read(self.filename)\n",
    "        Data.columns = ['a','b','c']\n",
    "        self.X_train  = Data.drop(['a','c'],axis = 1)\n",
    "        self.X_train  = self.PreProcessing(self.X_train)\n",
    "        self.Y_train  = Data['c']\n",
    "        self.X_train = self.X_train.values.flatten()\n",
    "        self.X_train = self.vectorizer_x.fit_transform(self.X_train)\n",
    "    \n",
    "    \n",
    "    def PredictionUsingSvm(self):\n",
    "        SVM = svm.SVC(C=1.0, kernel='linear', degree=3, gamma='auto')\n",
    "        SVM.fit(self.X_train,self.Y_train)\n",
    "        predictions_SVM = SVM.predict(self.X_test)\n",
    "        return predictions_SVM\n",
    "    \n",
    "    def predict(self,filename):\n",
    "        Data = self.Read(self.filename)\n",
    "        Data.columns = ['a','b']\n",
    "        self.X_test  = Data.drop(['a'],axis = 1)\n",
    "        self.X_test = self.X_test.values.flatten()\n",
    "        self.X_test = self.vectorizer_x.transform(self.X_test)\n",
    "        return self.PredictionUsingSvm().flatten()\n",
    "    \n",
    "    def results(self,y_test,y_pred):\n",
    "        f1 = f1_score(y_test, y_pred, average=\"macro\")\n",
    "        ps = precision_score(y_test, y_pred, average=\"macro\")\n",
    "        rs = recall_score(y_test, y_pred, average=\"macro\")\n",
    "        acs = accuracy_score(y_test, y_pred)\n",
    "        return np.array([acs, ps, rs, f1])\n",
    "    \n",
    "a = AuthorClassifier()\n",
    "Data = a.Read('Train.csv')\n",
    "Data.columns = ['a','b','c']\n",
    "Data1 = Data.drop(['c'],axis = 1)\n",
    "y_test = Data['c']\n",
    "a.train(Data)\n",
    "predictions = a.predict(Data1)\n",
    "print('results : ',a.results(y_test,predictions))\n",
    "        \n",
    "        \n",
    "        \n",
    "        \n",
    "        \n",
    "        \n",
    "        \n",
    "        \n",
    "        \n",
    "        \n",
    "        \n",
    "        "
   ]
  },
  {
   "cell_type": "markdown",
   "metadata": {},
   "source": [
    "# Split Data"
   ]
  },
  {
   "cell_type": "code",
   "execution_count": 8,
   "metadata": {},
   "outputs": [],
   "source": [
    "\n",
    "\n",
    "def SplitTestTrain(X, Y,percent = 0.8):\n",
    "    mask = np.random.rand(len(X))<percent\n",
    "    X_train = X[mask].dropna()\n",
    "    X_test  = X[~mask].dropna()\n",
    "    Y_train = Y[mask].dropna()\n",
    "    Y_test  = Y[~mask].dropna()\n",
    "    print(X_train.shape, X_test.shape)\n",
    "    X_train = X_train.reset_index(drop = True)\n",
    "    X_test  = X_test.reset_index(drop = True)\n",
    "    Y_train = Y_train.reset_index(drop = True)\n",
    "    Y_test  = Y_test.reset_index(drop = True)\n",
    "    print(\"before return\")\n",
    "    return X_train, X_test, Y_train ,Y_test\n"
   ]
  },
  {
   "cell_type": "markdown",
   "metadata": {},
   "source": [
    "# read Data"
   ]
  },
  {
   "cell_type": "code",
   "execution_count": 9,
   "metadata": {},
   "outputs": [],
   "source": [
    "def Read(filename):\n",
    "    TrainData = pd.read_csv(filename)\n",
    "    return TrainData\n",
    "\n"
   ]
  },
  {
   "cell_type": "markdown",
   "metadata": {},
   "source": [
    "# Preprocessing\n",
    "### for preprocessing Feature extraction technique is used by doing tfidvectorization and also data is being cleaned by doing removal of the stop words and doing tokenization removing all the punctuation"
   ]
  },
  {
   "cell_type": "code",
   "execution_count": 10,
   "metadata": {},
   "outputs": [],
   "source": [
    "def FeatureExtraction(X_train, X_test,MAX_NB_WORDS=75000):\n",
    "    X_train = X_train.flatten()\n",
    "    print(\"befor vect\",X_train.shape)\n",
    "    X_test  = X_test.flatten()\n",
    "    vectorizer_x = TfidfVectorizer()\n",
    "    X_train = vectorizer_x.fit_transform(X_train)\n",
    "    X_test = vectorizer_x.transform(X_test)\n",
    "    return X_train,X_test\n"
   ]
  },
  {
   "cell_type": "code",
   "execution_count": 11,
   "metadata": {},
   "outputs": [],
   "source": [
    "\n",
    "def results(y_test,y_pred):\n",
    "    f1 = f1_score(y_test, y_pred, average=\"macro\")\n",
    "    ps = precision_score(y_test, y_pred, average=\"macro\")\n",
    "    rs = recall_score(y_test, y_pred, average=\"macro\")\n",
    "    acs = accuracy_score(y_test, y_pred)\n",
    "    return np.array([acs, ps, rs, f1])\n",
    "\n"
   ]
  },
  {
   "cell_type": "code",
   "execution_count": 12,
   "metadata": {},
   "outputs": [
    {
     "name": "stdout",
     "output_type": "stream",
     "text": [
      "shape -  15663\n"
     ]
    }
   ],
   "source": [
    "import string  \n",
    "from unidecode import unidecode\n",
    "from nltk.tokenize import RegexpTokenizer\n",
    "def PreProcessing(Data):\n",
    "    print('shape - ', Data.shape[0])\n",
    "    #print(Data.iloc[0,:])\n",
    "    for i in range(Data.shape[0]):\n",
    "        #remove numbers\n",
    "        feature = Data.iloc[i,:]\n",
    "        \n",
    "        feature = ''.join(i for i in feature if not i.isdigit())\n",
    "        #remove punctuation\n",
    "        exclude = set(string.punctuation)\n",
    "        feature = ''.join(ch for ch in feature if ch not in exclude)\n",
    "        #print(feature)\n",
    "        #encoding to ascii\n",
    "        feature = unidecode(feature)\n",
    "        feature = feature.lower()\n",
    "        #tokenize\n",
    "        tokenizer = RegexpTokenizer(\"\\w+|\\d\\.]+|\\S+\")\n",
    "        tokens = tokenizer.tokenize(feature)\n",
    "        stopWords = set(stopwords.words('english'))\n",
    "        val = 10\n",
    "        New_Data = [w for w in tokens if not w in stopWords]\n",
    "        Data.iloc[i,:] = ' '.join([str(w) for w in New_Data])\n",
    "    return Data\n",
    "Data = Read('Train.csv')\n",
    "Data.columns = ['a','b','c']\n",
    "X  = Data.drop(['a','c'],axis = 1)\n",
    "val = PreProcessing(X)\n"
   ]
  },
  {
   "cell_type": "code",
   "execution_count": 29,
   "metadata": {},
   "outputs": [
    {
     "name": "stdout",
     "output_type": "stream",
     "text": [
      "(12566, 1) (3097, 1)\n",
      "before return\n",
      "shape -  12566\n",
      "shape -  3097\n",
      "befor vect (12566,)\n",
      " shape x  (12566, 21273)  shape y  (12566,)\n",
      " results : accuracy , precesion, recall, f1_score :  [0.75912173 0.76019694 0.75726853 0.75863753]\n"
     ]
    }
   ],
   "source": [
    "Data = Read('Train.csv')\n",
    "Data.columns = ['a','b','c']\n",
    "X  = Data.drop(['a','c'],axis = 1)\n",
    "Y  = Data['c']\n",
    "X_train, X_test, Y_train ,Y_test = SplitTestTrain(X,Y,percent = 0.8)\n",
    "X_train =PreProcessing(X_train)\n",
    "X_test  =PreProcessing(X_test)\n",
    "X_train,X_test = FeatureExtraction(X_train.values,X_test.values,1000)\n",
    "acc = []\n",
    "c  = [1,10,25,50]\n",
    "print(' shape x ',X_train.shape,' shape y ',Y_train.shape)\n",
    "for C in c:\n",
    "    SVM = svm.SVC(C, kernel='linear', degree=3, gamma='auto')\n",
    "    SVM.fit(X_train,Y_train)\n",
    "    predictions_SVM = SVM.predict(X_test)\n",
    "    acc.append(accuracy_score(Y_test, predictions_SVM))\n",
    "    \n",
    "    \n",
    "print(' results : accuracy , precesion, recall, f1_score : ',results(Y_test,predictions_SVM))\n"
   ]
  },
  {
   "cell_type": "markdown",
   "metadata": {},
   "source": [
    "## Performance Metrics"
   ]
  },
  {
   "cell_type": "code",
   "execution_count": 23,
   "metadata": {},
   "outputs": [
    {
     "name": "stdout",
     "output_type": "stream",
     "text": [
      " results : accuracy , precesion, recall, f1_score :  [0.74621212 0.74891295 0.74124309 0.74439611]\n"
     ]
    }
   ],
   "source": [
    "print(' results : accuracy , precesion, recall, f1_score : ',results(Y_test,predictions_SVM))\n"
   ]
  },
  {
   "cell_type": "markdown",
   "metadata": {},
   "source": [
    "## Confusion matrix"
   ]
  },
  {
   "cell_type": "code",
   "execution_count": 20,
   "metadata": {
    "scrolled": true
   },
   "outputs": [
    {
     "name": "stdout",
     "output_type": "stream",
     "text": [
      "confusion matrix \n",
      "[[983 116 143]\n",
      " [183 650  80]\n",
      " [162  69 711]]\n"
     ]
    }
   ],
   "source": [
    "print('confusion matrix ')\n",
    "print( confusion_matrix(Y_test,predictions_SVM))"
   ]
  },
  {
   "cell_type": "markdown",
   "metadata": {},
   "source": [
    "# Classification Report"
   ]
  },
  {
   "cell_type": "code",
   "execution_count": 26,
   "metadata": {},
   "outputs": [
    {
     "name": "stdout",
     "output_type": "stream",
     "text": [
      "classification report\n",
      "              precision    recall  f1-score   support\n",
      "\n",
      "         EAP       0.73      0.79      0.76      1300\n",
      "         HPL       0.76      0.73      0.74       874\n",
      "         MWS       0.76      0.71      0.73       994\n",
      "\n",
      "    accuracy                           0.75      3168\n",
      "   macro avg       0.75      0.74      0.74      3168\n",
      "weighted avg       0.75      0.75      0.75      3168\n",
      "\n"
     ]
    }
   ],
   "source": [
    "print('classification report')\n",
    "print(classification_report(Y_test,predictions_SVM))"
   ]
  },
  {
   "cell_type": "markdown",
   "metadata": {},
   "source": [
    "# Graph between C and (linear) accuracy and kernel vs accuacy"
   ]
  },
  {
   "cell_type": "markdown",
   "metadata": {},
   "source": [
    "#### C vs accuracy"
   ]
  },
  {
   "cell_type": "code",
   "execution_count": 30,
   "metadata": {},
   "outputs": [
    {
     "data": {
      "image/png": "[encoded data removed]",
      "text/plain": [
       "<Figure size 432x288 with 1 Axes>"
      ]
     },
     "metadata": {
      "needs_background": "light"
     },
     "output_type": "display_data"
    }
   ],
   "source": [
    "plt.plot(c,acc)\n",
    "plt.xlabel('C')\n",
    "plt.ylabel('Accuracy')\n",
    "plt.show()\n"
   ]
  },
  {
   "cell_type": "markdown",
   "metadata": {},
   "source": [
    "### C vs Kernel"
   ]
  },
  {
   "cell_type": "code",
   "execution_count": 38,
   "metadata": {},
   "outputs": [
    {
     "name": "stdout",
     "output_type": "stream",
     "text": [
      " shape x  (12566, 21273)  shape y  (12566,)\n"
     ]
    },
    {
     "ename": "AttributeError",
     "evalue": "module 'matplotlib.pyplot' has no attribute 'titile'",
     "output_type": "error",
     "traceback": [
      "\u001b[0;31m---------------------------------------------------------------------------\u001b[0m",
      "\u001b[0;31mAttributeError\u001b[0m                            Traceback (most recent call last)",
      "\u001b[0;32m<ipython-input-38-568bbbfb9f6c>\u001b[0m in \u001b[0;36m<module>\u001b[0;34m\u001b[0m\n\u001b[1;32m     11\u001b[0m \u001b[0mplt\u001b[0m\u001b[0;34m.\u001b[0m\u001b[0mxlabel\u001b[0m\u001b[0;34m(\u001b[0m\u001b[0;34m'C'\u001b[0m\u001b[0;34m)\u001b[0m\u001b[0;34m\u001b[0m\u001b[0;34m\u001b[0m\u001b[0m\n\u001b[1;32m     12\u001b[0m \u001b[0mplt\u001b[0m\u001b[0;34m.\u001b[0m\u001b[0mylabel\u001b[0m\u001b[0;34m(\u001b[0m\u001b[0;34m'Accuracy'\u001b[0m\u001b[0;34m)\u001b[0m\u001b[0;34m\u001b[0m\u001b[0;34m\u001b[0m\u001b[0m\n\u001b[0;32m---> 13\u001b[0;31m \u001b[0mplt\u001b[0m\u001b[0;34m.\u001b[0m\u001b[0mtitile\u001b[0m\u001b[0;34m(\u001b[0m\u001b[0;34m'C vs Accuracy'\u001b[0m\u001b[0;34m)\u001b[0m\u001b[0;34m\u001b[0m\u001b[0;34m\u001b[0m\u001b[0m\n\u001b[0m\u001b[1;32m     14\u001b[0m \u001b[0mplt\u001b[0m\u001b[0;34m.\u001b[0m\u001b[0mshow\u001b[0m\u001b[0;34m(\u001b[0m\u001b[0;34m)\u001b[0m\u001b[0;34m\u001b[0m\u001b[0;34m\u001b[0m\u001b[0m\n",
      "\u001b[0;31mAttributeError\u001b[0m: module 'matplotlib.pyplot' has no attribute 'titile'"
     ]
    },
    {
     "data": {
      "image/png": "[encoded data removed]",
      "text/plain": [
       "<Figure size 432x288 with 1 Axes>"
      ]
     },
     "metadata": {
      "needs_background": "light"
     },
     "output_type": "display_data"
    }
   ],
   "source": [
    "Kernel = ['linear','poly','rbf','sigmoid']\n",
    "acc = []\n",
    "print(' shape x ',X_train.shape,' shape y ',Y_train.shape)\n",
    "for C in Kernel:\n",
    "    SVM = svm.SVC(10, C, degree=3, gamma='auto')\n",
    "    SVM.fit(X_train,Y_train)\n",
    "    predictions_SVM = SVM.predict(X_test)\n",
    "    acc.append(accuracy_score(Y_test, predictions_SVM))\n",
    "\n",
    "plt.plot(Kernel,acc)\n",
    "plt.xlabel('C')\n",
    "plt.ylabel('Accuracy')\n",
    "plt.titile('C vs Accuracy')\n",
    "plt.show()\n"
   ]
  },
  {
   "cell_type": "code",
   "execution_count": null,
   "metadata": {},
   "outputs": [],
   "source": []
  }
 ],
 "metadata": {
  "kernelspec": {
   "display_name": "Python 3",
   "language": "python",
   "name": "python3"
  },
  "language_info": {
   "codemirror_mode": {
    "name": "ipython",
    "version": 3
   },
   "file_extension": ".py",
   "mimetype": "text/x-python",
   "name": "python",
   "nbconvert_exporter": "python",
   "pygments_lexer": "ipython3",
   "version": "3.6.9"
  }
 },
 "nbformat": 4,
 "nbformat_minor": 4
}
