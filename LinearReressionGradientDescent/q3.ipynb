{
 "cells": [
  {
   "cell_type": "code",
   "execution_count": 26,
   "metadata": {},
   "outputs": [],
   "source": [
    "import matplotlib.pyplot as plt\n",
    "from matplotlib import style\n",
    "import numpy as np\n",
    "import pandas as pd\n",
    "import seaborn as sns\n",
    "from pprint import pprint\n",
    "from sklearn.metrics import confusion_matrix, accuracy_score, f1_score, precision_score, recall_score, r2_score\n",
    "from heapq import heappush, heappop\n",
    "import sys\n",
    "\n",
    "def mean_square(X,Y,theta):\n",
    "    return np.sum(np.power(((X @ theta.T) - y), 2)) / (2 * len(X))\n"
   ]
  },
  {
   "cell_type": "markdown",
   "metadata": {},
   "source": [
    "# Split Data"
   ]
  },
  {
   "cell_type": "code",
   "execution_count": 224,
   "metadata": {},
   "outputs": [],
   "source": [
    "def SplitTestTrain(X, Y,percent = 0.8):\n",
    "    mask = np.random.rand(len(X))<percent\n",
    "    X_train = X[mask].dropna()\n",
    "    X_test  = X[~mask].dropna()\n",
    "    X_Test  =  X_test\n",
    "    Y_train = Y[mask].dropna()\n",
    "    Y_test  = Y[~mask].dropna()\n",
    "    #print(X_train.shape, X_test.shape)\n",
    "    X_train = X_train.reset_index(drop = True)\n",
    "    X_test  = X_test.reset_index(drop = True)\n",
    "    Y_train = Y_train.reset_index(drop = True)\n",
    "    X_Test  =  Y_train\n",
    "    Y_test  = Y_test.reset_index(drop = True)\n",
    "    return X_train, X_test, Y_train ,Y_test"
   ]
  },
  {
   "cell_type": "markdown",
   "metadata": {},
   "source": [
    "# Preprocessing"
   ]
  },
  {
   "cell_type": "code",
   "execution_count": 6,
   "metadata": {},
   "outputs": [],
   "source": [
    "def standardize(X):\n",
    "    X_standardized = (X - X.mean()) /X.std()\n",
    "    return X_standardized\n"
   ]
  },
  {
   "cell_type": "code",
   "execution_count": 7,
   "metadata": {},
   "outputs": [],
   "source": [
    "def Normalise(df):\n",
    "    normalized_df=(df-df.min())/(df.max()-df.min())\n",
    "    return normalized_df"
   ]
  },
  {
   "cell_type": "code",
   "execution_count": 8,
   "metadata": {},
   "outputs": [],
   "source": [
    "def preprocessing(X,type = \"Normalise\"):\n",
    "    if(type == \"Normalise\"):\n",
    "        return Normalise(X)\n",
    "    else:\n",
    "        return standardize(X)"
   ]
  },
  {
   "cell_type": "markdown",
   "metadata": {},
   "source": [
    "# GradientDescent"
   ]
  },
  {
   "cell_type": "code",
   "execution_count": 228,
   "metadata": {},
   "outputs": [],
   "source": [
    "def GradientDescent(train_X, train_Y,theta,alpha,iteration):\n",
    "    \n",
    "    m = train_X.shape\n",
    "    for i in range(iteration):\n",
    "        theta = theta - (alpha / len(train_X)) * np.sum(train_X * (train_X @ theta.T - train_Y), axis=0)\n",
    "    return theta\n",
    "\n",
    "            "
   ]
  },
  {
   "cell_type": "code",
   "execution_count": 229,
   "metadata": {},
   "outputs": [],
   "source": [
    "th = [0,100,200]\n",
    "itr =[50,100,150,200,250,300,350,400,500,800,1000] "
   ]
  },
  {
   "cell_type": "markdown",
   "metadata": {},
   "source": [
    "# Train"
   ]
  },
  {
   "cell_type": "code",
   "execution_count": 230,
   "metadata": {},
   "outputs": [],
   "source": [
    "def train(train_X,train_Y,preprocess,theta,alpha,it):\n",
    "    train_X = preprocessing(train_X,preprocess)\n",
    "    train_X = train_X.values\n",
    "    ones    = np.ones([train_X.shape[0],1])\n",
    "    train_X = np.concatenate((ones,train_X),axis=1)\n",
    "    train_Y = train_Y.values\n",
    "    #theta   = np.zeros([1,train_X.shape[1]])\n",
    "    theta = GradientDescent(train_X, train_Y,theta,alpha,it)\n",
    "    return theta\n",
    "    \n",
    "\n",
    "\n",
    "    "
   ]
  },
  {
   "cell_type": "markdown",
   "metadata": {},
   "source": [
    "# Predict"
   ]
  },
  {
   "cell_type": "code",
   "execution_count": 231,
   "metadata": {},
   "outputs": [],
   "source": [
    "def predict(test_X,theta,preprocess):\n",
    "    test_X = preprocessing(test_X,preprocess)\n",
    "    test_X = test_X.values\n",
    "    ones   = np.ones([test_X.shape[0],1])\n",
    "    test_X = np.concatenate((ones, test_X), axis =1)\n",
    "    return (test_X @ theta.T).flatten()\n"
   ]
  },
  {
   "cell_type": "code",
   "execution_count": 232,
   "metadata": {},
   "outputs": [
    {
     "name": "stdout",
     "output_type": "stream",
     "text": [
      "(1, 6)\n",
      "<class 'numpy.ndarray'>\n",
      "(1, 6)\n",
      "<class 'numpy.ndarray'>\n",
      "(1, 6)\n",
      "<class 'numpy.ndarray'>\n"
     ]
    }
   ],
   "source": [
    "from sklearn.metrics import mean_squared_error\n",
    "def CalculateMSE():\n",
    "    MSE = []\n",
    "    NasaData = pd.read_csv(\"airfoil.csv\")\n",
    "    NasaData.columns = ['A', 'B', 'C', 'D','E','F']\n",
    "    NasaData_X = NasaData.drop(['F'],axis = 1)\n",
    "    NasaData_Y = NasaData[['F']]\n",
    "    NasaData_Y.columns = ['F']\n",
    "    NasaDataTrain_X, NasaDataTest_X, NasaDataTrain_Y,  NasaDataTest_Y = SplitTestTrain(\n",
    "    NasaData_X, NasaData_Y)\n",
    "    alpha = 0.009\n",
    "    for Theta in th:\n",
    "        theta = np.full((1,NasaDataTrain_X.shape[1]+1),Theta)\n",
    "        print(theta.shape)\n",
    "        print(type(theta))\n",
    "        a = []\n",
    "        for it in  itr:\n",
    "            theta = train(NasaDataTrain_X,NasaDataTrain_Y,\"std\",theta,alpha,it)\n",
    "            pre = predict(NasaDataTest_X,theta,\"std\")\n",
    "            a.append(mean_squared_error(NasaDataTest_Y,pre))\n",
    "        MSE.append(a)\n",
    "    return MSE\n",
    "MSE = CalculateMSE()\n",
    "#print(MSE)\n",
    "\n",
    "            \n",
    "    \n",
    "    "
   ]
  },
  {
   "cell_type": "markdown",
   "metadata": {},
   "source": [
    "# Graph MSE VS Number of iteration For Different Value of theta and fixed alpha"
   ]
  },
  {
   "cell_type": "code",
   "execution_count": 233,
   "metadata": {
    "scrolled": false
   },
   "outputs": [
    {
     "data": {
      "text/plain": [
       "Text(0.5, 1.0, 'Different Values of theta')"
      ]
     },
     "execution_count": 233,
     "metadata": {},
     "output_type": "execute_result"
    },
    {
     "data": {
      "image/png": "[encoded data removed]",
      "text/plain": [
       "<Figure size 432x288 with 1 Axes>"
      ]
     },
     "metadata": {
      "needs_background": "light"
     },
     "output_type": "display_data"
    }
   ],
   "source": [
    "for mse in MSE:\n",
    "    plt.plot(itr,mse,linewidth=2,markersize=12)\n",
    "plt.xlabel('NO of iterations')\n",
    "plt.ylabel('Mean Square Error')\n",
    "plt.title(\"Different Values of theta\")"
   ]
  },
  {
   "cell_type": "markdown",
   "metadata": {},
   "source": [
    "# Graph MSE vs Number of Iteration for different Values of alpha and fixed value of theta"
   ]
  },
  {
   "cell_type": "code",
   "execution_count": 249,
   "metadata": {},
   "outputs": [],
   "source": [
    "alph = [0.001,0.02,0.3]"
   ]
  },
  {
   "cell_type": "code",
   "execution_count": 250,
   "metadata": {},
   "outputs": [
    {
     "name": "stdout",
     "output_type": "stream",
     "text": [
      "(1, 6)\n",
      "<class 'numpy.ndarray'>\n",
      "(1, 6)\n",
      "<class 'numpy.ndarray'>\n",
      "(1, 6)\n",
      "<class 'numpy.ndarray'>\n"
     ]
    }
   ],
   "source": [
    "from sklearn.metrics import mean_squared_error\n",
    "def CalculateMSEForAlpha():\n",
    "    MSE = []\n",
    "    NasaData = pd.read_csv(\"airfoil.csv\")\n",
    "    NasaData.columns = ['A', 'B', 'C', 'D','E','F']\n",
    "    NasaData_X = NasaData.drop(['F'],axis = 1)\n",
    "    NasaData_Y = NasaData[['F']]\n",
    "    NasaData_Y.columns = ['F']\n",
    "    NasaDataTrain_X, NasaDataTest_X, NasaDataTrain_Y,  NasaDataTest_Y = SplitTestTrain(\n",
    "    NasaData_X, NasaData_Y)\n",
    "    theta = np.full((1,NasaDataTrain_X.shape[1]+1),100)\n",
    "    for al in alph:\n",
    "        print(theta.shape)\n",
    "        print(type(theta))\n",
    "        a = []\n",
    "        for it in  itr:\n",
    "            theta = train(NasaDataTrain_X,NasaDataTrain_Y,\"std\",theta,al,it)\n",
    "            pre = predict(NasaDataTest_X,theta,\"std\")\n",
    "            a.append(mean_squared_error(NasaDataTest_Y,pre))\n",
    "        MSE.append(a)\n",
    "    return MSE\n",
    "MSE = CalculateMSEForAlpha()"
   ]
  },
  {
   "cell_type": "code",
   "execution_count": 251,
   "metadata": {},
   "outputs": [
    {
     "data": {
      "text/plain": [
       "Text(0.5, 1.0, 'Different Values of alpha')"
      ]
     },
     "execution_count": 251,
     "metadata": {},
     "output_type": "execute_result"
    },
    {
     "data": {
      "image/png": "[encoded data removed]",
      "text/plain": [
       "<Figure size 432x288 with 1 Axes>"
      ]
     },
     "metadata": {
      "needs_background": "light"
     },
     "output_type": "display_data"
    }
   ],
   "source": [
    "# for mse in MSE:\n",
    "#     plt.plot(itr,mse,linewidth=2,markersize=12)\n",
    "plt.plot(itr,MSE[0],linewidth=2,markersize=12)\n",
    "plt.plot(itr,MSE[1],linewidth=2,markersize=12)\n",
    "plt.plot(itr,MSE[2],linewidth=2,markersize=12)\n",
    "plt.xlabel('NO of iterations')\n",
    "plt.ylabel('Mean Square Error')\n",
    "plt.title(\"Different Values of alpha\")"
   ]
  },
  {
   "cell_type": "code",
   "execution_count": null,
   "metadata": {},
   "outputs": [],
   "source": [
    "\n",
    "theta = train(NasaDataTrain_X,NasaDataTrain_Y,\"std\")\n",
    "Scaled_sound_pressure_level = predict(NasaDataTest_X,theta,\"std\")"
   ]
  },
  {
   "cell_type": "code",
   "execution_count": 29,
   "metadata": {
    "scrolled": true
   },
   "outputs": [
    {
     "name": "stdout",
     "output_type": "stream",
     "text": [
      "R2 Score  0.28102179258797866\n",
      "MSE  30.599670668890766\n"
     ]
    }
   ],
   "source": [
    "theta = 50\n",
    "theta = train(NasaDataTrain_X,NasaDataTrain_Y,\"std\")\n",
    "Scaled_sound_pressure_level = predict(NasaDataTest_X,theta,\"std\")\n",
    "print('R2 Score ',r2_score(NasaDataTest_Y,Scaled_sound_pressure_level ))\n",
    "print('MSE ',mean_squared_error(NasaDataTest_Y,Scaled_sound_pressure_level))"
   ]
  },
  {
   "cell_type": "code",
   "execution_count": 13,
   "metadata": {},
   "outputs": [],
   "source": [
    "class Airfoil:\n",
    "    theta = \"\"\n",
    "\n",
    "    def standardize(self,X):\n",
    "        X_standardized = (X - X.mean()) /X.std()\n",
    "        return X_standardized\n",
    "    def Normalise(self,df):\n",
    "        normalized_df=(df-df.min())/(df.max()-df.min())\n",
    "        return normalized_df\n",
    "    def GradientDescent(self,train_X, train_Y):\n",
    "        iteration = 10000\n",
    "        alpha = 0.009\n",
    "        m = train_X.shape\n",
    "        for i in range(iteration):\n",
    "            self.theta = self.theta - (alpha / len(train_X)) * np.sum(train_X * (train_X @ self.theta.T - train_Y), axis=0)\n",
    "    def train(self,train_X ,train_Y):\n",
    "        #NasaData = pd.read_csv(filename)\n",
    "        #NasaData.columns = ['A', 'B', 'C', 'D','E','F']\n",
    "        #train_X = NasaData.drop(['F'],axis = 1)\n",
    "        #train_Y = NasaData[['F']]\n",
    "        #train_Y.columns = ['F']\n",
    "        train_X = self.preprocessing(train_X,\"std\")\n",
    "        train_X = train_X.values\n",
    "        ones    = np.ones([train_X.shape[0],1])\n",
    "        train_X = np.concatenate((ones,train_X),axis=1)\n",
    "        train_Y = train_Y.values\n",
    "        self.theta   = np.zeros([1,train_X.shape[1]])\n",
    "        self.GradientDescent(train_X, train_Y)\n",
    "    def predict(self,filename):\n",
    "#         test_X = NasaDataTest_X\n",
    "        test_X = pd.read_csv(filename)\n",
    "        test_X = preprocessing(test_X,\"std\")\n",
    "        test_X = test_X.values\n",
    "        test_X = test_X[0:test_X.shape[0],0:test_X.shape[1]-1]\n",
    "        ones   = np.ones([test_X.shape[0],1])\n",
    "        test_X = np.concatenate((ones, test_X), axis =1)\n",
    "        return (test_X @ self.theta.T).flatten()\n",
    "    def preprocessing(self,X,type = \"std\"):\n",
    "        if(type == \"Normalise\"):\n",
    "            return self.Normalise(X)\n",
    "        else:\n",
    "            return self.standardize(X)\n",
    "    "
   ]
  },
  {
   "cell_type": "code",
   "execution_count": 29,
   "metadata": {},
   "outputs": [
    {
     "name": "stdout",
     "output_type": "stream",
     "text": [
      "(300, 1)\n",
      "R2 Score  0.44542761983256307\n",
      " MSE  24.09200839108873\n"
     ]
    }
   ],
   "source": [
    "a = Airfoil()\n",
    "NasaData = pd.read_csv(\"./Datasets/q3/train.csv\")\n",
    "NasaData.columns = ['A', 'B', 'C', 'D','E','F']\n",
    "NasaData_X = NasaData.drop(['F'],axis = 1)\n",
    "NasaData_Y = NasaData[['F']]\n",
    "NasaData_Y.columns = ['F']\n",
    "# NasaDataTrain_X, NasaDataTest_X, NasaDataTrain_Y,  NasaDataTest_Y = SplitTestTrain(\n",
    "# NasaData_X, NasaData_Y)\n",
    "a.train(NasaData_X,NasaData_Y)\n",
    "prd  =a.predict('./Datasets/q3/test.csv') \n",
    "Y = pd.read_csv(\"./Datasets/q3/test.csv\")\n",
    "Y = Y.values\n",
    "Y = Y[0:Y.shape[0],Y.shape[1]-1:Y.shape[1]]\n",
    "print(Y.shape)\n",
    "from sklearn.metrics import mean_squared_error\n",
    "print('R2 Score ',r2_score(Y,prd ))\n",
    "print(' MSE ',mean_squared_error(Y,prd))\n",
    "\n"
   ]
  },
  {
   "cell_type": "markdown",
   "metadata": {},
   "source": [
    "# performance Metrics"
   ]
  },
  {
   "cell_type": "markdown",
   "metadata": {},
   "source": [
    "### r2 score"
   ]
  },
  {
   "cell_type": "code",
   "execution_count": 257,
   "metadata": {},
   "outputs": [
    {
     "name": "stdout",
     "output_type": "stream",
     "text": [
      "R2 Score  0.4609999078915855\n"
     ]
    }
   ],
   "source": [
    "print('R2 Score ',r2_score(NasaDataTest_Y,prd ))"
   ]
  },
  {
   "cell_type": "markdown",
   "metadata": {},
   "source": [
    "### MSE"
   ]
  },
  {
   "cell_type": "code",
   "execution_count": 263,
   "metadata": {},
   "outputs": [
    {
     "name": "stdout",
     "output_type": "stream",
     "text": [
      "mse  25.521621163053158\n"
     ]
    }
   ],
   "source": [
    "print('mse ', mean_squared_error(NasaDataTest_Y,prd))"
   ]
  },
  {
   "cell_type": "markdown",
   "metadata": {},
   "source": [
    "### mean absolute error"
   ]
  },
  {
   "cell_type": "code",
   "execution_count": 261,
   "metadata": {},
   "outputs": [
    {
     "name": "stdout",
     "output_type": "stream",
     "text": [
      "Mse error  3.871811349466207\n"
     ]
    }
   ],
   "source": [
    "from sklearn.metrics import mean_absolute_error\n",
    "\n",
    "print('Mae error ',mean_absolute_error(NasaDataTest_Y,prd))"
   ]
  },
  {
   "cell_type": "markdown",
   "metadata": {},
   "source": [
    "# answer 3\n",
    "#    Qa) when 0-0.5 % of values are missing of that feature\n",
    "### Ans a)  when missing values are less we can eliminate that row but generally we avoid doing that instead we calculate mean ,median imputation when we deal with the continuous data and we deal with chatagorical data we use mode with repect to the missing value  \n",
    "\n",
    "\n",
    "#  Qb)  when 8-10% of values are missing of that feature\n",
    "### Ans b) using Pca we can drop that feature or replace missing values with the imputation\n",
    "\n",
    "# Qc) when 60-70% values are missing\n",
    "### ans  c) Just drop the feature , because most of the values are missing , imputation will lead to incorrect result"
   ]
  },
  {
   "cell_type": "code",
   "execution_count": null,
   "metadata": {},
   "outputs": [],
   "source": []
  },
  {
   "cell_type": "code",
   "execution_count": null,
   "metadata": {},
   "outputs": [],
   "source": []
  },
  {
   "cell_type": "code",
   "execution_count": null,
   "metadata": {},
   "outputs": [],
   "source": []
  }
 ],
 "metadata": {
  "kernelspec": {
   "display_name": "Python 3",
   "language": "python",
   "name": "python3"
  },
  "language_info": {
   "codemirror_mode": {
    "name": "ipython",
    "version": 3
   },
   "file_extension": ".py",
   "mimetype": "text/x-python",
   "name": "python",
   "nbconvert_exporter": "python",
   "pygments_lexer": "ipython3",
   "version": "3.6.9"
  }
 },
 "nbformat": 4,
 "nbformat_minor": 4
}
