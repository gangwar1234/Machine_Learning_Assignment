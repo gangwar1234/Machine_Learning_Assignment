{
 "cells": [
  {
   "cell_type": "code",
   "execution_count": 1,
   "metadata": {},
   "outputs": [],
   "source": [
    "import matplotlib.pyplot as plt\n",
    "from matplotlib import style\n",
    "import numpy as np\n",
    "import pandas as pd\n",
    "import seaborn as sns\n",
    "from pprint import pprint\n",
    "from sklearn.metrics import confusion_matrix, accuracy_score, f1_score, precision_score, recall_score, r2_score\n",
    "from heapq import heappush, heappop\n",
    "import sys\n",
    "\n"
   ]
  },
  {
   "cell_type": "markdown",
   "metadata": {},
   "source": [
    "# Split Data"
   ]
  },
  {
   "cell_type": "code",
   "execution_count": 2,
   "metadata": {},
   "outputs": [],
   "source": [
    "def SplitTestTrain(X, Y,percent = 0.8):\n",
    "    mask = np.random.rand(len(X))<percent\n",
    "    X_train = X[mask].dropna()\n",
    "    X_test  = X[~mask].dropna()\n",
    "    Y_train = Y[mask].dropna()\n",
    "    Y_test  = Y[~mask].dropna()\n",
    "    #print(X_train.shape, X_test.shape)\n",
    "    X_train = X_train.reset_index(drop = True)\n",
    "    X_test  = X_test.reset_index(drop = True)\n",
    "    Y_train = Y_train.reset_index(drop = True)\n",
    "    Y_test  = Y_test.reset_index(drop = True)\n",
    "    print(\"before return\")\n",
    "    return X_train, X_test, Y_train ,Y_test"
   ]
  },
  {
   "cell_type": "markdown",
   "metadata": {},
   "source": [
    "# Preprocessing"
   ]
  },
  {
   "cell_type": "code",
   "execution_count": 3,
   "metadata": {},
   "outputs": [],
   "source": [
    "def standardize(X):\n",
    "    X_standardized = (X - X.mean()) /X.std()\n",
    "   # print(X_standardized)\n",
    "    return X_standardized\n"
   ]
  },
  {
   "cell_type": "code",
   "execution_count": 4,
   "metadata": {},
   "outputs": [],
   "source": [
    "def Normalise(df):\n",
    "    normalized_df=(df-df.min())/(df.max()-df.min())\n",
    "    return normalized_df"
   ]
  },
  {
   "cell_type": "code",
   "execution_count": 5,
   "metadata": {},
   "outputs": [],
   "source": [
    "def preprocessing(X,type = \"Normalise\"):\n",
    "    if(type == \"Normalise\"):\n",
    "        return Normalise(X)\n",
    "    else:\n",
    "        return standardize(X)"
   ]
  },
  {
   "cell_type": "markdown",
   "metadata": {},
   "source": [
    "# GradientDecent"
   ]
  },
  {
   "cell_type": "code",
   "execution_count": 6,
   "metadata": {},
   "outputs": [],
   "source": [
    "def GradientDescent(train_X, train_Y,theta,alpha, iteration):\n",
    "    m = train_X.shape\n",
    "    #print(m)\n",
    "    for i in range(iteration):\n",
    "        b =  np.sum(train_X * (train_X @ theta.T - train_Y))\n",
    "        theta = theta - (alpha / len(train_X)) * np.sum(train_X * (train_X @ theta.T - train_Y), axis=0)\n",
    "        #print('b: ',b )\n",
    "    return theta\n",
    "\n",
    "           "
   ]
  },
  {
   "cell_type": "markdown",
   "metadata": {},
   "source": [
    "# Train"
   ]
  },
  {
   "cell_type": "code",
   "execution_count": 7,
   "metadata": {},
   "outputs": [],
   "source": [
    "def train(train_X,train_Y, preprocess,theta,alpha,it):\n",
    "    train_X = preprocessing(train_X,preprocess)\n",
    "    train_X = train_X.values\n",
    "    ones    = np.ones([train_X.shape[0],1])\n",
    "    train_X = np.concatenate((ones,train_X),axis=1)\n",
    "    train_Y = train_Y.values\n",
    "    #theta   = np.zeros([1,train_X.shape[1]])\n",
    "    theta = GradientDescent(train_X, train_Y,theta,alpha,it)\n",
    "    \n",
    "    return theta\n",
    "    \n"
   ]
  },
  {
   "cell_type": "markdown",
   "metadata": {},
   "source": [
    "# Predict"
   ]
  },
  {
   "cell_type": "code",
   "execution_count": 8,
   "metadata": {},
   "outputs": [],
   "source": [
    "def predict(test_X,theta,preprocess):\n",
    "    test_X = preprocessing(test_X,preprocess)\n",
    "    #print(test_X.shape)\n",
    "    test_X = test_X.values\n",
    "    #print(test_X)\n",
    "    ones   = np.ones([test_X.shape[0],1])\n",
    "    test_X = np.concatenate((ones, test_X), axis =1)\n",
    "    return (test_X @ theta.T).flatten()\n"
   ]
  },
  {
   "cell_type": "code",
   "execution_count": 1,
   "metadata": {
    "scrolled": true
   },
   "outputs": [
    {
     "name": "stdout",
     "output_type": "stream",
     "text": [
      "r 2 score : .98\n"
     ]
    }
   ],
   "source": [
    "WeatherData = pd.read_csv(\"weather.csv\")\n",
    "WeatherData_X = WeatherData.drop(['Formatted Date','Precip Type','Summary','Apparent Temperature (C)','Daily Summary'],axis = 1)\n",
    "print(list(WeatherData_X.columns))\n",
    "WeatherData_Y = WeatherData[['Apparent Temperature (C)']]\n",
    "print(WeatherData_Y.shape)\n",
    "WeatherData_Y.columns = ['Apparent Temperature (C)']\n",
    "WeatherDataTrain_X, WeatherDataTest_X, WeatherDataTrain_Y, WeatherDataTest_Y = SplitTestTrain(\n",
    "WeatherData_X, WeatherData_Y)\n",
    "theta = train(WeatherDataTrain_X,WeatherDataTrain_Y)\n",
    "PredictedTemprature = predict(WeatherDataTest_X,theta,\"std\")\n",
    "print(PredictedTemprature)\n",
    "print(\"r 2 score :\")\n",
    "print(r2_score(WeatherDataTest_Y,PredictedTemprature))\n"
   ]
  },
  {
   "cell_type": "code",
   "execution_count": 29,
   "metadata": {},
   "outputs": [],
   "source": [
    "class Weather:\n",
    "    theta = \"\"\n",
    "    def standardize(self,X):\n",
    "        X_standardized = (X - X.mean()) /X.std()\n",
    "        #print(X_standardized)\n",
    "        return X_standardized\n",
    "    def Normalise(self,df):\n",
    "        normalized_df=(df-df.min())/(df.max()-df.min())\n",
    "        return normalized_df\n",
    "    def preprocessing(self,X,type = \"std\"):\n",
    "        if(type == \"std\"):\n",
    "            return self.standardize(X)\n",
    "        else:\n",
    "            return   self.Normalise(X)\n",
    "        \n",
    "    def GradientDescent(self,train_X, train_Y):\n",
    "        iteration = 1000\n",
    "        alpha = 0.005\n",
    "        m = train_X.shape\n",
    "        #print(m)\n",
    "        for i in range(iteration):\n",
    "            c = m\n",
    "            b =  np.sum(train_X * (train_X @ self.theta.T - train_Y))\n",
    "            self.theta = self.theta - (alpha / len(train_X)) * np.sum(train_X * (train_X @ self.theta.T - train_Y), axis=0)\n",
    "\n",
    "    def train(self,filename):\n",
    "        train_XX = pd.read_csv(filename)\n",
    "        train_X = train_XX.drop(['Formatted Date','Precip Type','Summary','Apparent Temperature (C)','Daily Summary'],axis = 1)\n",
    "        train_Y = train_XX[['Apparent Temperature (C)']]\n",
    "        train_Y.columns = ['Apparent Temperature (C)']\n",
    "        #print(' train y ',train_Y[0:18])\n",
    "        train_X = self.preprocessing(train_X,\"std\")\n",
    "        #print(train_X.shape)\n",
    "        train_X = train_X.values\n",
    "        ones    = np.ones([train_X.shape[0],1])\n",
    "        train_X = np.concatenate((ones,train_X),axis=1)\n",
    "        print(train_X.shape)\n",
    "        train_Y = train_Y.values\n",
    "        self.theta   = np.ones([1,train_X.shape[1]])\n",
    "        self.GradientDescent(train_X, train_Y)\n",
    "        #print(self.theta)\n",
    "    def predict(self,filename):\n",
    "        test_XX = pd.read_csv(filename)\n",
    "        test_X = test_XX.drop(['Formatted Date','Precip Type','Summary','Apparent Temperature (C)','Daily Summary'],axis = 1)\n",
    "#         print(test_X.shape)\n",
    "#         test_X = WeatherDataTest_X\n",
    "        test_X = self.preprocessing(test_X,\"std\")\n",
    "        \n",
    "        test_X = test_X.values\n",
    "        ones   = np.ones([test_X.shape[0],1])\n",
    "        test_X = np.concatenate((ones, test_X), axis =1)\n",
    "        print(test_X.shape)\n",
    "        return (test_X @ self.theta.T).flatten()"
   ]
  },
  {
   "cell_type": "code",
   "execution_count": 33,
   "metadata": {},
   "outputs": [
    {
     "name": "stdout",
     "output_type": "stream",
     "text": [
      "(77285, 7)\n",
      "(19168, 7)\n",
      "r 2 score :\n",
      "0.98619708644309\n",
      " mse  1.5509137940706803\n"
     ]
    }
   ],
   "source": [
    "model4 = Weather()\n",
    "from sklearn.metrics import mean_squared_error\n",
    "model4.train('./Datasets/q4/train.csv') # Path to the train.csv will be provided \n",
    "prediction4 = model4.predict('./Datasets/q4/test.csv') \n",
    "Y =  pd.read_csv('./Datasets/q4/test.csv')\n",
    "Y = Y['Apparent Temperature (C)']\n",
    "print(\"r 2 score :\")\n",
    "print(r2_score(Y,prediction4))\n",
    "print(' mse ',mean_squared_error(Y,prediction4))"
   ]
  },
  {
   "cell_type": "code",
   "execution_count": 12,
   "metadata": {},
   "outputs": [],
   "source": [
    "def error_percentage():\n",
    "    Y = WeatherDataTest_Y.values\n",
    "    res = np.empty(Y.shape)\n",
    "    for i in range(Y.shape[0]):\n",
    "        if Y[i]!=0:\n",
    "            res[i] = (Y[i] - prediction4[i])/Y[i]\n",
    "        else:\n",
    "            res[i] = prediction4[i]/np.mean(Y)\n",
    "        mm = np.mean(np.abs(res))*100\n",
    "    return mm"
   ]
  },
  {
   "cell_type": "markdown",
   "metadata": {},
   "source": [
    "# Performance Metrics:"
   ]
  },
  {
   "cell_type": "code",
   "execution_count": 87,
   "metadata": {},
   "outputs": [
    {
     "name": "stdout",
     "output_type": "stream",
     "text": [
      "R2 Score  0.9892024153137161\n"
     ]
    }
   ],
   "source": [
    "print('R2 Score ',r2_score(WeatherDataTest_Y,prediction4))"
   ]
  },
  {
   "cell_type": "code",
   "execution_count": 89,
   "metadata": {},
   "outputs": [
    {
     "name": "stdout",
     "output_type": "stream",
     "text": [
      "mse  1.2342133178694188\n"
     ]
    }
   ],
   "source": [
    "from sklearn.metrics import mean_squared_error\n",
    "print('mse ', mean_squared_error(WeatherDataTest_Y,prediction4))"
   ]
  },
  {
   "cell_type": "code",
   "execution_count": 91,
   "metadata": {},
   "outputs": [
    {
     "name": "stdout",
     "output_type": "stream",
     "text": [
      "Mae error  0.8770547179370012\n"
     ]
    }
   ],
   "source": [
    "from sklearn.metrics import mean_absolute_error\n",
    "\n",
    "print('Mae error ',mean_absolute_error(WeatherDataTest_Y,prediction4))"
   ]
  },
  {
   "cell_type": "code",
   "execution_count": 125,
   "metadata": {},
   "outputs": [
    {
     "name": "stdout",
     "output_type": "stream",
     "text": [
      "Mean percentage error  51.24810051800344\n"
     ]
    }
   ],
   "source": [
    "\n",
    "print('Mean percentage error ',error_percentage())"
   ]
  },
  {
   "cell_type": "code",
   "execution_count": null,
   "metadata": {},
   "outputs": [],
   "source": []
  },
  {
   "cell_type": "markdown",
   "metadata": {},
   "source": [
    "#  Graph MSE vs Number of Iteration for different Values of alpha and fixed value of theta"
   ]
  },
  {
   "cell_type": "code",
   "execution_count": 116,
   "metadata": {},
   "outputs": [],
   "source": [
    "th = [0,100,200]\n",
    "itr =[50,100,150,200,250,300,350,400,500,800,1000] "
   ]
  },
  {
   "cell_type": "code",
   "execution_count": 117,
   "metadata": {},
   "outputs": [
    {
     "name": "stdout",
     "output_type": "stream",
     "text": [
      "['Temperature (C)', 'Humidity', 'Wind Speed (km/h)', 'Wind Bearing (degrees)', 'Visibility (km)', 'Pressure (millibars)']\n",
      "(77285, 1)\n",
      "before return\n",
      "(1, 7)\n",
      "<class 'numpy.ndarray'>\n",
      "(1, 7)\n",
      "<class 'numpy.ndarray'>\n",
      "(1, 7)\n",
      "<class 'numpy.ndarray'>\n"
     ]
    }
   ],
   "source": [
    "from sklearn.metrics import mean_squared_error\n",
    "def CalculateMSE():\n",
    "    MSE = []\n",
    "    WeatherData = pd.read_csv(\"weather.csv\")\n",
    "    WeatherData_X = WeatherData.drop(['Formatted Date','Precip Type','Summary','Apparent Temperature (C)','Daily Summary'],axis = 1)\n",
    "    print(list(WeatherData_X.columns))\n",
    "    WeatherData_Y = WeatherData[['Apparent Temperature (C)']]\n",
    "    print(WeatherData_Y.shape)\n",
    "    WeatherData_Y.columns = ['Apparent Temperature (C)']\n",
    "    WeatherDataTrain_X, WeatherDataTest_X, WeatherDataTrain_Y, WeatherDataTest_Y = SplitTestTrain(\n",
    "    WeatherData_X, WeatherData_Y)\n",
    "    alpha = 0.009\n",
    "    for Theta in th:\n",
    "        theta = np.full((1,WeatherDataTrain_X.shape[1]+1),Theta)\n",
    "        print(theta.shape)\n",
    "        print(type(theta))\n",
    "        a = []\n",
    "        for it in  itr:\n",
    "            theta = train(WeatherDataTrain_X,WeatherDataTrain_Y,\"std\",theta,alpha,it)\n",
    "            pre = predict(WeatherDataTest_X,theta,\"std\")\n",
    "            a.append(mean_squared_error(WeatherDataTest_Y,pre))\n",
    "        MSE.append(a)\n",
    "    return MSE\n",
    "MSE = CalculateMSE()\n",
    "#print(MSE)\n",
    "\n",
    "         "
   ]
  },
  {
   "cell_type": "code",
   "execution_count": 118,
   "metadata": {},
   "outputs": [
    {
     "data": {
      "text/plain": [
       "Text(0.5, 1.0, 'Different Values of theta')"
      ]
     },
     "execution_count": 118,
     "metadata": {},
     "output_type": "execute_result"
    },
    {
     "data": {
      "image/png": "[encoded data removed]",
      "text/plain": [
       "<Figure size 432x288 with 1 Axes>"
      ]
     },
     "metadata": {
      "needs_background": "light"
     },
     "output_type": "display_data"
    }
   ],
   "source": [
    "for mse in MSE:\n",
    "    plt.plot(itr,mse,linewidth=2,markersize=12)\n",
    "plt.xlabel('NO of iterations')\n",
    "plt.ylabel('Mean Square Error')\n",
    "plt.title(\"Different Values of theta\")"
   ]
  },
  {
   "cell_type": "code",
   "execution_count": null,
   "metadata": {},
   "outputs": [],
   "source": []
  }
 ],
 "metadata": {
  "kernelspec": {
   "display_name": "Python 3",
   "language": "python",
   "name": "python3"
  },
  "language_info": {
   "codemirror_mode": {
    "name": "ipython",
    "version": 3
   },
   "file_extension": ".py",
   "mimetype": "text/x-python",
   "name": "python",
   "nbconvert_exporter": "python",
   "pygments_lexer": "ipython3",
   "version": "3.6.9"
  }
 },
 "nbformat": 4,
 "nbformat_minor": 4
}
