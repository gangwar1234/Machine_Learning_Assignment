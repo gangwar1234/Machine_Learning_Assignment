{
 "cells": [
  {
   "cell_type": "code",
   "execution_count": 4,
   "metadata": {},
   "outputs": [],
   "source": [
    "import pandas as pd\n",
    "import numpy as np\n",
    "import math\n",
    "import operator\n",
    "import sys\n",
    "import matplotlib.pyplot as plt\n",
    "import statistics \n",
    "from statistics import mode\n",
    "from sklearn.metrics import confusion_matrix, accuracy_score, f1_score, precision_score, recall_score, r2_score\n",
    "from sklearn.metrics.pairwise import manhattan_distances\n",
    "from sklearn.metrics import classification_report\n",
    "\n",
    "class KNNClassifier:\n",
    "    \n",
    "    def __init__(self):\n",
    "        name=\"\"    \n",
    "    train_data = pd.DataFrame()\n",
    "    test_data = pd.DataFrame()\n",
    "    \n",
    "    def train(self,filename):\n",
    "        self.train_data = (pd.read_csv(filename,header = None)).values\n",
    "        #print(self.train_data)\n",
    "        #print(len(self.train_data))\n",
    "        #TrainSet, TestSet, TrainLabel, TestLabel = self.SplitData(self.train_data,0.7)\n",
    "        \n",
    "        #self.train_data = self.train_data[0:1000,:]\n",
    "    \n",
    "    \n",
    "    def Read(self,filename):\n",
    "        self.test_data = (pd.read_csv(filename, header = None)).values\n",
    "        #self.test_data = self.test_data = self.test_data[0:1000,:]\n",
    "        return self.test_data\n",
    "\n",
    "    \n",
    "    def find_distance_label(self,train_data , test , k , DistanceFlag):\n",
    "        distance = []\n",
    "        label = []\n",
    "        #print(est)\n",
    "        for point in self.train_data:\n",
    "            point1 = point[1:]\n",
    "            point2 = test\n",
    "            #print(point)\n",
    "           # print(point2)\n",
    "\n",
    "            if(DistanceFlag==0):\n",
    "                dist = np.linalg.norm( point2 - point1)\n",
    "            else :\n",
    "                 dist = np.sum([abs(x - y) for x, y in zip(point1, point2)])\n",
    "            #print(dist)\n",
    "            distance.append(dist)\n",
    "            label.append(point[0])\n",
    "            #print(label)\n",
    "        #print(\" label = \")    \n",
    "        #print(len(label))\n",
    "        #print(\" distance= \")\n",
    "        #print(len(distance))\n",
    "        distanceLabelPair = [list(x) for x in zip(distance, label)]\n",
    "\n",
    "        distanceLabelPair.sort()\n",
    "        #print(type(distanceLabelPair))\n",
    "        labelList = zip(*distanceLabelPair)[1]\n",
    "        labelList = labelList[:k]\n",
    "        #print(labelList)\n",
    "        most_frequent = max(set(labelList), key=labelList.count)\n",
    "        #print(most_frequent)\n",
    "        #print(mode(labelList))\n",
    "        #return mode(labelList)\n",
    "        return most_frequent\n",
    "    \n",
    "      \n",
    "    def evaluate_result( self, y_test, y_pred):\n",
    "        matrix = confusion_matrix(y_test, y_pred)\n",
    "        df = pd.DataFrame(matrix)\n",
    "        df = df.transpose()\n",
    "        print(df.head())\n",
    "        f1 = f1_score(y_test, y_pred, average=\"macro\")\n",
    "        ps = precision_score(y_test, y_pred, average=\"macro\")\n",
    "        rs = recall_score(y_test, y_pred, average=\"macro\")\n",
    "        acs = accuracy_score(y_test, y_pred)\n",
    "        print(\"accuracy_score\\t : \", acs)\n",
    "        return acs\n",
    "        \n",
    "    \n",
    "    def evaluate_result1( self, y_test, y_pred):\n",
    "        matrix = confusion_matrix(y_test, y_pred)\n",
    "        df = pd.DataFrame(matrix)\n",
    "        #df = df.transpose()\n",
    "        f1 = f1_score(y_test, y_pred, average=\"macro\")\n",
    "        ps = precision_score(y_test, y_pred, average=\"macro\")\n",
    "        rs = recall_score(y_test, y_pred, average=\"macro\")\n",
    "        acs = accuracy_score(y_test, y_pred)\n",
    "        return f1\n",
    "\n",
    "\n",
    "    \n",
    "    def Predict_for_validation(self,TestData, TrainData, TestLabel, TrainLabel):\n",
    "        solution=[]\n",
    "        k=3\n",
    "        DistanceFlag =0\n",
    "        for test in self.test_data:\n",
    "            solution.append(find_distance_label(self.train_data,test,k,DistanceFlag))\n",
    "        return solution\n",
    "        \n",
    "    def predict(self,filename):\n",
    "        self.test_data=self.Read(filename)\n",
    "        solution=[]\n",
    "        k=3\n",
    "        DistanceFlag =0\n",
    "        for test in self.test_data:\n",
    "            solution.append(self.find_distance_label(self.train_data,test,k,DistanceFlag))\n",
    "        return solution\n",
    "     \n",
    "    def validate(self,TestSet,TrainSet,TestLabel):\n",
    "        solution=[]\n",
    "        k=1\n",
    "        DistanceFlag =0\n",
    "        i=0\n",
    "        num = []\n",
    "\n",
    "        for test in TestSet:\n",
    "            solution.append(find_distance_label(TrainSet,test,k,DistanceFlag))\n",
    "        return solution\n",
    "    \n",
    "        def validate_f1(self,TestSet,TrainSet,TestLabel):\n",
    "            solution=[]\n",
    "            k=1\n",
    "            DistanceFlag =0\n",
    "            i=0\n",
    "            num = []\n",
    "            for k in range(1,6):\n",
    "                solution = []\n",
    "                for test in TestSet:\n",
    "                    solution.append(find_distance_label(TrainSet,test,k,DistanceFlag))\n",
    "                num.append(self.evaluate_result1(TestLabel , solution))\n",
    "            return num\n",
    "    \n",
    "        \n",
    "    \n",
    "#print(\"hey\")\n",
    "\n",
    "    \n",
    "\n",
    "    \n",
    "\n",
    "    "
   ]
  },
  {
   "cell_type": "code",
   "execution_count": 96,
   "metadata": {},
   "outputs": [],
   "source": [
    "def find_distance_label(train_data , test , k , DistanceFlag):\n",
    "    distance = []\n",
    "    label = []\n",
    "    for point in train_data:\n",
    "        point1 = point[1:]\n",
    "        point2 = test\n",
    "        if(DistanceFlag==0):\n",
    "            dist = np.linalg.norm(point2 - point1)\n",
    "        else :\n",
    "             dist = np.sum([abs(x - y) for x, y in zip(point1, point2)])\n",
    "        distance.append(dist)\n",
    "        label.append(point[0])\n",
    "    distanceLabelPair = [list(x) for x in zip(distance, label)]\n",
    "\n",
    "    distanceLabelPair.sort()\n",
    "    labelList = zip(*distanceLabelPair)[1]\n",
    "    labelList = labelList[:k]\n",
    "    most_frequent = max(set(labelList), key=labelList.count)\n",
    "    return most_frequent"
   ]
  },
  {
   "cell_type": "code",
   "execution_count": 48,
   "metadata": {},
   "outputs": [
    {
     "name": "stdout",
     "output_type": "stream",
     "text": [
      "    0    1    2    3   4  5  6  7  8  9\n",
      "0  93    0    0    0   0  0  0  0  1  2\n",
      "1   0  101    0    0   1  0  0  2  0  0\n",
      "2   0    0  107    0   0  0  0  1  1  1\n",
      "3   0    0    0  107   0  1  0  0  2  0\n",
      "4   0    0    0    0  82  0  0  1  0  0\n",
      "('accuracy_score\\t : ', 0.969)\n"
     ]
    }
   ],
   "source": [
    "knn_classifier = KNNClassifier()\n",
    "k=3\n",
    "knn_classifier.train('./Datasets/q1/train.csv')\n",
    "predictions = knn_classifier.predict('./Datasets/q1/test.csv')\n",
    "#print(predictions)\n",
    "test_labels=[]\n",
    "\n",
    "with open(\"./Datasets/q1/test_labels.csv\") as f:\n",
    "    for line in f:\n",
    "        test_labels.append(int(line))\n",
    "\n",
    "#print(test_labels)        \n",
    "knn_classifier.evaluate_result(test_labels, predictions)\n",
    "\n",
    "\n"
   ]
  },
  {
   "cell_type": "code",
   "execution_count": 86,
   "metadata": {
    "scrolled": true
   },
   "outputs": [
    {
     "name": "stdout",
     "output_type": "stream",
     "text": [
      " For K : \n",
      "1\n",
      "    0   1   2   3   4  5  6  7  8  9\n",
      "0  46   0   2   0   0  1  2  0  0  1\n",
      "1   0  65   2   2   1  1  0  3  3  0\n",
      "2   0   0  66   1   0  0  0  0  3  0\n",
      "3   0   0   1  53   0  2  0  0  1  0\n",
      "4   0   0   0   0  52  1  1  0  0  1\n",
      "('accuracy_score\\t : ', 0.8885191347753744)\n",
      " For K : \n",
      "2\n",
      "    0   1   2   3   4  5  6  7  8  9\n",
      "0  47   0   3   0   0  1  3  0  0  1\n",
      "1   0  65   2   4   2  2  0  4  3  0\n",
      "2   0   1  67   1   0  0  0  0  0  0\n",
      "3   0   0   0  53   0  3  0  0  0  0\n",
      "4   0   0   0   0  47  2  3  1  0  1\n",
      "('accuracy_score\\t : ', 0.8668885191347754)\n",
      " For K : \n",
      "3\n",
      "    0   1   2   3   4  5  6  7  8  9\n",
      "0  47   0   2   0   0  1  2  0  0  1\n",
      "1   0  65   2   5   2  2  0  3  3  0\n",
      "2   0   1  67   1   0  0  0  0  0  0\n",
      "3   0   0   0  50   0  2  0  0  1  0\n",
      "4   0   0   0   0  52  0  0  0  0  1\n",
      "('accuracy_score\\t : ', 0.8901830282861897)\n",
      " For K : \n",
      "4\n",
      "    0   1   2   3   4  5  6  7  8  9\n",
      "0  46   0   2   0   0  1  2  0  0  1\n",
      "1   0  65   2   4   2  2  0  3  3  0\n",
      "2   0   1  69   1   0  0  0  1  0  0\n",
      "3   0   0   0  53   0  3  0  0  2  0\n",
      "4   0   0   0   0  50  1  0  0  0  1\n",
      "('accuracy_score\\t : ', 0.8851913477537438)\n",
      " For K : \n",
      "5\n",
      "    0   1   2   3   4  5  6  7  8  9\n",
      "0  47   0   2   0   0  0  2  0  0  0\n",
      "1   0  65   2   5   2  2  0  4  3  0\n",
      "2   0   1  69   1   0  0  0  0  0  0\n",
      "3   0   0   0  53   0  4  0  0  2  0\n",
      "4   0   0   0   0  51  1  0  0  0  0\n",
      "('accuracy_score\\t : ', 0.8968386023294509)\n"
     ]
    }
   ],
   "source": [
    "import pandas as pd\n",
    "def SplitData( trainData,  percent ):\n",
    "    trainData = trainData.head(2000)\n",
    "    mask = np.random.rand(len(trainData)) < percent\n",
    "    TrainSet   = trainData[mask]\n",
    "    TestSet    = trainData[~mask]\n",
    "    TrainLabel = TrainSet[0]\n",
    "    TestLabel  = TestSet[0]\n",
    "    del TestSet[0]\n",
    "    return TrainSet.values, TestSet.values, TrainLabel.values, TestLabel.values\n",
    "TrainSet, TestSet, TrainLabel, TestLabel = SplitData(pd.read_csv('train.csv',header = None) , 0.7)    \n",
    "knn_classifier1 = KNNClassifier()\n",
    "predictions = knn_classifier1.validate(TestSet,TrainSet,TestLabel)"
   ]
  },
  {
   "cell_type": "code",
   "execution_count": 2,
   "metadata": {},
   "outputs": [],
   "source": [
    "import pandas as pd\n",
    "def SplitData( trainData,  percent ):\n",
    "    trainData = trainData.head(2000)\n",
    "    mask = np.random.rand(len(trainData)) < percent\n",
    "    TrainSet   = trainData[mask]\n",
    "    TestSet    = trainData[~mask]\n",
    "    TrainLabel = TrainSet[0]\n",
    "    TestLabel  = TestSet[0]\n",
    "    del TestSet[0]\n",
    "    return TrainSet.values, TestSet.values, TrainLabel.values, TestLabel.values"
   ]
  },
  {
   "cell_type": "markdown",
   "metadata": {},
   "source": [
    "## Accuracy plot for the Training data and Validation data"
   ]
  },
  {
   "cell_type": "code",
   "execution_count": 88,
   "metadata": {},
   "outputs": [
    {
     "name": "stdout",
     "output_type": "stream",
     "text": [
      " For K : \n",
      "1\n",
      "    0   1   2   3   4  5  6  7  8  9\n",
      "0  59   0   0   0   0  0  0  0  1  0\n",
      "1   0  66   2   0   0  1  1  2  2  0\n",
      "2   0   0  47   2   0  0  0  0  0  0\n",
      "3   0   0   2  46   0  3  0  0  0  1\n",
      "4   0   0   0   0  53  1  2  0  0  2\n",
      "('accuracy_score\\t : ', 0.9161073825503355)\n",
      " For K : \n",
      "2\n",
      "    0   1   2   3   4  5  6  7  8  9\n",
      "0  60   0   3   0   0  1  1  0  1  0\n",
      "1   0  66   2   0   0  1  1  3  2  0\n",
      "2   1   1  45   6   0  0  0  0  0  0\n",
      "3   0   0   1  41   0  5  0  0  0  2\n",
      "4   0   0   0   0  46  2  2  1  0  0\n",
      "('accuracy_score\\t : ', 0.889261744966443)\n",
      " For K : \n",
      "3\n",
      "    0   1   2   3   4  5  6  7  8  9\n",
      "0  61   0   1   0   0  1  0  0  2  0\n",
      "1   0  66   3   0   0  2  1  3  2  0\n",
      "2   0   0  45   2   0  0  0  0  0  0\n",
      "3   0   0   1  44   0  3  0  0  0  2\n",
      "4   0   0   1   0  51  1  0  0  0  0\n",
      "('accuracy_score\\t : ', 0.9043624161073825)\n",
      " For K : \n",
      "4\n",
      "    0   1   2   3   4  5  6  7  8  9\n",
      "0  61   0   1   0   0  1  0  0  2  0\n",
      "1   0  66   2   0   0  2  1  2  2  0\n",
      "2   0   1  45   4   0  0  0  0  0  0\n",
      "3   0   0   1  42   0  5  0  0  0  2\n",
      "4   0   0   1   0  47  1  0  0  0  0\n",
      "('accuracy_score\\t : ', 0.8926174496644296)\n",
      " For K : \n",
      "5\n",
      "    0   1   2   3   4  5  6  7  8  9\n",
      "0  61   0   1   0   0  1  0  0  2  0\n",
      "1   0  66   3   0   0  2  1  2  4  0\n",
      "2   0   1  45   1   0  0  0  0  1  0\n",
      "3   0   0   1  45   0  6  0  0  0  2\n",
      "4   0   0   1   0  51  1  0  0  0  0\n",
      "('accuracy_score\\t : ', 0.8976510067114094)\n"
     ]
    },
    {
     "data": {
      "image/png": "[encoded data removed]",
      "text/plain": [
       "<Figure size 432x288 with 1 Axes>"
      ]
     },
     "metadata": {
      "needs_background": "light"
     },
     "output_type": "display_data"
    }
   ],
   "source": [
    "TrainSet, TestSet, TrainLabel, TestLabel = SplitData(pd.read_csv('train.csv',header = None) , 0.7)    \n",
    "knn_classifier1 = KNNClassifier()\n",
    "num = knn_classifier1.validate(TestSet,TrainSet,TestLabel)\n",
    "ks  = [1,2,3,4,5] \n",
    "plt.plot(ks,num)\n",
    "plt.xlabel('k') \n",
    "plt.ylabel('accuracy value ') \n",
    "plt.title('accuracy - k value graph') \n",
    "plt.show() "
   ]
  },
  {
   "cell_type": "markdown",
   "metadata": {},
   "source": [
    "### Classification Report"
   ]
  },
  {
   "cell_type": "code",
   "execution_count": 111,
   "metadata": {},
   "outputs": [
    {
     "name": "stdout",
     "output_type": "stream",
     "text": [
      "              precision    recall  f1-score   support\n",
      "\n",
      "           0       0.94      0.98      0.96        51\n",
      "           1       0.89      1.00      0.94        74\n",
      "           2       0.86      0.84      0.85        61\n",
      "           3       0.85      0.87      0.86        53\n",
      "           4       0.84      0.86      0.85        57\n",
      "           5       0.88      0.81      0.84        53\n",
      "           6       0.92      0.99      0.95        67\n",
      "           7       0.80      0.86      0.83        71\n",
      "           8       0.94      0.64      0.76        72\n",
      "           9       0.75      0.81      0.78        69\n",
      "\n",
      "   micro avg       0.86      0.86      0.86       628\n",
      "   macro avg       0.87      0.87      0.86       628\n",
      "weighted avg       0.87      0.86      0.86       628\n",
      "\n"
     ]
    }
   ],
   "source": [
    "TrainSet, TestSet, TrainLabel, TestLabel = SplitData(pd.read_csv('train.csv',header = None) , 0.7)    \n",
    "knn_classifier1 = KNNClassifier()\n",
    "num = knn_classifier1.validate(TestSet,TrainSet,TestLabel)\n",
    "print(classification_report(TestLabel,num))"
   ]
  },
  {
   "cell_type": "code",
   "execution_count": 26,
   "metadata": {},
   "outputs": [
    {
     "name": "stdout",
     "output_type": "stream",
     "text": [
      "(' accuracy : - ', 0.8218135700697526)\n"
     ]
    }
   ],
   "source": [
    "import pandas as pd\n",
    "import numpy as np\n",
    "import math\n",
    "import operator\n",
    "import sys\n",
    "import matplotlib.pyplot as plt\n",
    "import statistics \n",
    "from statistics import mode\n",
    "from sklearn.metrics import confusion_matrix, accuracy_score, f1_score, precision_score, recall_score, r2_score\n",
    "from sklearn.metrics.pairwise import manhattan_distances\n",
    "from sklearn.metrics import classification_report\n",
    "import pandas as pd\n",
    "def SplitData( trainData,  percent ):\n",
    "    trainData = trainData.head(2000)\n",
    "    mask = np.random.rand(len(trainData)) < percent\n",
    "    TrainSet   = trainData[mask]\n",
    "    TestSet    = trainData[~mask]\n",
    "    TrainLabel = TrainSet[0]\n",
    "    TestLabel  = TestSet[0]\n",
    "    return TrainSet.values, TestSet.values, TrainLabel.values, TestLabel.values\n",
    "\n",
    "\n",
    "from sklearn.neighbors import KNeighborsClassifier\n",
    "from sklearn.model_selection import train_test_split \n",
    "TrainSet, TestSet, TrainLabel, TestLabel = SplitData(pd.read_csv('train.csv',header = None),0.2)\n",
    "knn = KNeighborsClassifier(n_neighbors = 3)\n",
    "knn.fit(TrainSet, TrainLabel)\n",
    "#print(TestSet.shape)\n",
    "#print(TrainSet.shape)\n",
    "print(\" accuracy : - \", knn.score(TestSet,TestLabel))\n",
    "\n"
   ]
  },
  {
   "cell_type": "markdown",
   "metadata": {},
   "source": [
    "### Comparison With Inbuilt Sklearn Knn Classifier"
   ]
  },
  {
   "cell_type": "code",
   "execution_count": 28,
   "metadata": {},
   "outputs": [
    {
     "name": "stdout",
     "output_type": "stream",
     "text": [
      "(' Test Score : - ', 0.8218135700697526)\n"
     ]
    }
   ],
   "source": [
    "print(' Test Score : - ',knn.score(TestSet,TestLabel) )"
   ]
  },
  {
   "cell_type": "code",
   "execution_count": 29,
   "metadata": {},
   "outputs": [
    {
     "data": {
      "image/png": "[encoded data removed]",
      "text/plain": [
       "<Figure size 432x288 with 1 Axes>"
      ]
     },
     "metadata": {
      "needs_background": "light"
     },
     "output_type": "display_data"
    }
   ],
   "source": [
    "a=[]\n",
    "ks = [1,2,3,4,5,6]\n",
    "for i in range (1,7):\n",
    "    neigh = KNeighborsClassifier(n_neighbors=i)\n",
    "    neigh.fit(TrainSet, TrainLabel)\n",
    "    a.append(neigh.score(TestSet,TestLabel))\n",
    "    \n",
    "plt.plot(ks,a)\n",
    "plt.xlabel('k') \n",
    "plt.ylabel('accuracy value ') \n",
    "plt.title('accuracy - k value graph') \n",
    "plt.show() \n",
    "    "
   ]
  },
  {
   "cell_type": "code",
   "execution_count": null,
   "metadata": {},
   "outputs": [],
   "source": []
  }
 ],
 "metadata": {
  "kernelspec": {
   "display_name": "Python 3",
   "language": "python",
   "name": "python3"
  },
  "language_info": {
   "codemirror_mode": {
    "name": "ipython",
    "version": 2
   },
   "file_extension": ".py",
   "mimetype": "text/x-python",
   "name": "python",
   "nbconvert_exporter": "python",
   "pygments_lexer": "ipython2",
   "version": "2.7.15+"
  }
 },
 "nbformat": 4,
 "nbformat_minor": 2
}
