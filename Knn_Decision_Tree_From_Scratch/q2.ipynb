{
 "cells": [
  {
   "cell_type": "code",
   "execution_count": 10,
   "metadata": {},
   "outputs": [],
   "source": [
    "import pandas as pd\n",
    "import numpy as np\n",
    "import matplotlib.pyplot as plt\n",
    "from pprint import pprint\n",
    "from sklearn.metrics import confusion_matrix , accuracy_score , f1_score, precision_score , recall_score, r2_score\n",
    "from sklearn.neighbors import KNeighborsClassifier\n",
    "import sys\n",
    "import statistics \n",
    "from statistics import mode\n"
   ]
  },
  {
   "cell_type": "code",
   "execution_count": 11,
   "metadata": {},
   "outputs": [],
   "source": [
    "\n",
    "def FindDistance(test_row, train_row):\n",
    "    dis = np.sqrt(np.sum([(x - y)**2 for x, y in zip(test_row, train_row)]))\n",
    "    return dis\n"
   ]
  },
  {
   "cell_type": "code",
   "execution_count": null,
   "metadata": {},
   "outputs": [],
   "source": [
    "def Read_data():\n",
    "    TrainSet   = pd.read_csv('train.csv',header = None)\n",
    "    TrainSet   = TrainSet.head(100)\n",
    "    TrainLabel = TrainSet[0]\n",
    "    del TrainSet[0]\n",
    "    TestSet    = pd.read_csv('test.csv',header = None)\n",
    "    TestLabel  = pd.read_csv('test_labels.csv',header = None)\n",
    "    #print(TestSet[10])\n",
    "    #print(TrainSet[11])\n",
    "    ColumnsNamesArr = TrainSet.columns.values\n",
    "    #print(ColumnsNamesArr)\n",
    "    ColumnsNames = TestSet.columns.values\n",
    "    #print(ColumnsNames)\n",
    "    return TrainSet, TestSet, TrainLabel, TestLabel\n",
    "#TrainSet, TestSet, TestLabel,TrainLabel = Read_data()\n"
   ]
  },
  {
   "cell_type": "code",
   "execution_count": 20,
   "metadata": {},
   "outputs": [
    {
     "name": "stdout",
     "output_type": "stream",
     "text": [
      "('accuracy_score\\t : ', 1.0)\n"
     ]
    }
   ],
   "source": [
    "def SplitData( trainData,  percent ):\n",
    "    trainData = trainData.head(1000)\n",
    "    mask = np.random.rand(len(trainData)) < percent\n",
    "    TrainSet   = trainData[mask]\n",
    "    TestSet    = trainData[~mask]\n",
    "    #print(TrainSet)\n",
    "    #print(TestSet)\n",
    "    TrainLabel = TrainSet[0]\n",
    "    del TrainSet[0]\n",
    "    TestLabel  = TestSet[0]\n",
    "    del TestSet[0]\n",
    "    return TrainSet, TestSet, TrainLabel, TestLabel\n",
    "\n",
    "TrainSet, TestSet, TrainLabel, TestLabel = SplitData(pd.read_csv('train.csv',header = None) , 0.7)    \n",
    "TrainSet,TestSet = ModifyData(TrainSet, TestSet)\n",
    "Solution = KnnForAll(TrainSet, TestSet, TrainLabel,TestLabel,1)\n",
    "num = []\n",
    "ks = [1,2,3,4,5]\n",
    "num.append(evaluate_result( TestLabel, Solution))\n",
    "\n",
    "    \n",
    "    "
   ]
  },
  {
   "cell_type": "code",
   "execution_count": 21,
   "metadata": {},
   "outputs": [
    {
     "name": "stdout",
     "output_type": "stream",
     "text": [
      "('accuracy_score\\t : ', 1.0)\n",
      "('accuracy_score\\t : ', 1.0)\n",
      "('accuracy_score\\t : ', 1.0)\n",
      "('accuracy_score\\t : ', 1.0)\n"
     ]
    },
    {
     "data": {
      "image/png": "[encoded data removed]",
      "text/plain": [
       "<Figure size 432x288 with 1 Axes>"
      ]
     },
     "metadata": {
      "needs_background": "light"
     },
     "output_type": "display_data"
    }
   ],
   "source": [
    "Solution = KnnForAll(TrainSet, TestSet, TrainLabel,TestLabel,2)\n",
    "num.append(evaluate_result( TestLabel, Solution))\n",
    "Solution = KnnForAll(TrainSet, TestSet, TrainLabel,TestLabel,3)\n",
    "num.append(evaluate_result( TestLabel, Solution))\n",
    "Solution = KnnForAll(TrainSet, TestSet, TrainLabel,TestLabel,4)\n",
    "num.append(evaluate_result( TestLabel, Solution))\n",
    "Solution = KnnForAll(TrainSet, TestSet, TrainLabel,TestLabel,5)\n",
    "num.append(evaluate_result( TestLabel, Solution))\n",
    "plt.plot(ks,num)\n",
    "plt.xlabel('k') \n",
    "plt.ylabel('accuracy value ') \n",
    "plt.title('accuracy - k value graph') \n",
    "plt.show() "
   ]
  },
  {
   "cell_type": "code",
   "execution_count": 22,
   "metadata": {},
   "outputs": [
    {
     "name": "stdout",
     "output_type": "stream",
     "text": [
      "[1.0, 1.0, 1.0, 1.0, 1.0]\n"
     ]
    }
   ],
   "source": [
    "print(num)"
   ]
  },
  {
   "cell_type": "code",
   "execution_count": null,
   "metadata": {},
   "outputs": [],
   "source": [
    "class KNNClassifier:\n",
    "    TrainData = pd.DataFrame()\n",
    "    TrainLabel=pd.DataFrame()\n",
    "    \n",
    "    def evaluate_result( self,y_test, y_pred):\n",
    "        #matrix = confusion_matrix(y_test, y_pred)\n",
    "        #print(y_test)\n",
    "        #print(y_pred)\n",
    "        #df = pd.DataFrame(matrix)\n",
    "        #df = df.transpose()\n",
    "        #print(df.head())\n",
    "        #f1 = f1_score(y_test, y_pred, average=\"macro\")\n",
    "        #ps = precision_score(y_test, y_pred, average=\"macro\")\n",
    "        #rs = recall_score(y_test, y_pred, average=\"macro\")\n",
    "        acs = accuracy_score(y_test, y_pred)\n",
    "        print(\"accuracy_score : \", acs)\n",
    "    #return np.array([acs, ps, rs, f1])\n",
    "    \n",
    "    \n",
    "    \n",
    "    def Encoding(self , Set ):\n",
    "        df=Set\n",
    "        lis = [['b','c','x','f','k','s'],\n",
    "               ['f', 'g' , 'y', 's'],\n",
    "               ['n', 'b', 'c', 'g', 'r', 'p', 'u', 'e', 'w', 'y']\n",
    "                ,['t', 'f'], \n",
    "               ['a', 'l', 'c', 'y', 'f', 'm', 'n', 'p', 's'],\n",
    "                 ['a', 'f', 'd', 'n'],\n",
    "               ['c', 'w' , 'd'],\n",
    "                 ['b', 'n'],\n",
    "               ['k', 'n' , 'b', 'h', 'g', 'r', 'o', 'p', 'u', 'e', 'w', 'y']  \n",
    "                  , ['e', 't'] ,\n",
    "               ['b','c','u','e','z','r'],\n",
    "                  ['f', 'y' , 'k', 's'],\n",
    "                  ['f', 'y' , 'k', 's'],\n",
    "                  ['n', 'b', 'c', 'g', 'o', 'p', 'e', 'w', 'y'],\n",
    "                  ['n', 'b', 'c', 'g', 'o', 'p', 'e', 'w', 'y'],\n",
    "                  ['p', 'u'],\n",
    "                   ['n', 'o', 'w', 'y'],\n",
    "                  ['n', 'o', 't'],\n",
    "                  ['c', 'e', 'f', 'l', 'n', 'p', 's', 'z'],\n",
    "                  ['k', 'n', 'b', 'h', 'r', 'o', 'u', 'w', 'y'],\n",
    "                   ['a', 'c', 'n', 's', 'v', 'y'],\n",
    "                  ['g', 'l', 'm', 'p', 'u', 'w', 'd']\n",
    "              ]\n",
    "        #print(df.shape)\n",
    "        #print(Set.columns)\n",
    "        col = Set.columns.values \n",
    "        i=0\n",
    "        NewDf=pd.DataFrame()\n",
    "        for column in col:\n",
    "            dummies = pd.get_dummies(data=df[column],columns=lis[i])\n",
    "            dummies=dummies.T.reindex(lis[i]).T.fillna(0)\n",
    "            #print(dummies)\n",
    "            NewDf=pd.concat([NewDf,dummies],axis=1,sort=False)\n",
    "            i=i+1\n",
    "        #print(NewDf)\n",
    "\n",
    "        return NewDf\n",
    "\n",
    "    \n",
    "    \n",
    "    def train(self,filename):\n",
    "        TrainSet   = pd.read_csv(filename ,header = None)\n",
    "        #TrainSet   = TrainSet.head(100)\n",
    "        self.TrainData  = TrainSet\n",
    "        self.TrainLabel = TrainSet[0]\n",
    "        del self.TrainData[0]\n",
    "        \n",
    "        #TrainSet, TestSet, self.TrainLabel, TestLabel = SplitData( TrainSet , 0.7)\n",
    "        #TrainSet,TestSet = ModifyData(TrainSet, TestSet)\n",
    "        #Solution = KnnForAll(TrainSet, TestSet, self.TrainLabel,TestLabel,3)\n",
    "        #evaluate_result( TestLabel, Solution)\n",
    "    \n",
    "    \n",
    "    def FindDistance(test_row, train_row):\n",
    "        dis = np.sqrt(np.sum([(x - y)**2 for x, y in zip(test_row, train_row)]))\n",
    "        return dis\n",
    "\n",
    "    \n",
    "    def predict(self,filename):\n",
    "        TestSet = pd.read_csv(filename ,header = None)\n",
    "        #TestSet = TestSet.head(10)\n",
    "        self.TrainData,TestSet = self.ModifyData(self.TrainData, TestSet)\n",
    "        Solution = self.KnnForAll(self.TrainData, TestSet, self.TrainLabel,3)\n",
    "        return Solution\n",
    "    \n",
    "        \n",
    "    def KnnForAll(self,TrainSet,TestSet,TrainLabel,k):\n",
    "        solution=pd.DataFrame()\n",
    "        solution['predicted'] = [\n",
    "            self.KNNForOne(TrainSet, row, TrainLabel,k) for i , row in TestSet.iterrows()\n",
    "        ]\n",
    "        return solution.values\n",
    "    \n",
    "    \n",
    "    \n",
    "    \n",
    "    def KNNForOne(self,TrainSet, TestPoint,TrainLabel,k):\n",
    "        distance=[]\n",
    "\n",
    "        for (index , TrainPoint) in TrainSet.iterrows():\n",
    "            dist=self.FindDistance(TrainPoint , TestPoint)\n",
    "            distance.append(dist)\n",
    "            #print(\" distance : \")    \n",
    "            #print(len(distance))    \n",
    "            #print(TrainLabel)    \n",
    "            #print(\"label : \")\n",
    "        #print(len(TrainLabel))\n",
    "        distanceLabelPair = [list(x) for x in zip(distance, TrainLabel)]\n",
    "            #print(\" pair \")\n",
    "        #print(len(distanceLabelPair))\n",
    "        distanceLabelPair.sort()\n",
    "        labelList = zip(*distanceLabelPair)[1]\n",
    "        labelList = labelList[:k]\n",
    "        most_frequent = max(set(labelList), key=labelList.count)\n",
    "        return most_frequent\n",
    "\n",
    "    def ModifyData(self,TrainSet, TestSet ):\n",
    "        #print(TrainSet['?'])\n",
    "        #print(\" In modifyData \")\n",
    "        #print(TrainSet)\n",
    "        #mTrain   = TrainSet.mode()[11][0]\n",
    "        #mTest    = TestSet.mode()[10][0]\n",
    "        ColumnsNamesArr = TrainSet.columns.values\n",
    "        for col in ColumnsNamesArr:\n",
    "            mTrain = TrainSet[col].mode()[0]\n",
    "            TrainSet.replace(to_replace='?', value = mTrain , inplace = True)\n",
    "        #TestSet.replace(to_replace = '?',value = mTest , inplace  = True)\n",
    "        #print(TrainSet['?'])\n",
    "        #print(TestSet['b.1'])\n",
    "        return self.Encoding(TrainSet), self.Encoding(TestSet)\n",
    "\n",
    "\n",
    "\n",
    "        \n",
    "\n",
    "        \n",
    "    "
   ]
  },
  {
   "cell_type": "code",
   "execution_count": null,
   "metadata": {},
   "outputs": [],
   "source": [
    "knn_classifier = KNNClassifier()\n",
    "k=3\n",
    "knn_classifier.train('train.csv')\n",
    "predictions = knn_classifier.predict('test.csv')\n",
    "#print(predictions)\n",
    "test_labels=[]\n",
    "\n",
    "with open(\"test_labels.csv\") as f:\n",
    "    for line in f:\n",
    "        test_labels.append(line.strip())\n",
    "knn_classifier.evaluate_result(test_labels, predictions)\n",
    "\n",
    "\n",
    "\n",
    "    "
   ]
  },
  {
   "cell_type": "code",
   "execution_count": 6,
   "metadata": {},
   "outputs": [],
   "source": [
    "def Encoding(Set ):\n",
    "    df=Set\n",
    "    lis = [['b','c','x','f','k','s'],\n",
    "           ['f', 'g' , 'y', 's'],\n",
    "           ['n', 'b', 'c', 'g', 'r', 'p', 'u', 'e', 'w', 'y']\n",
    "            ,['t', 'f'], \n",
    "           ['a', 'l', 'c', 'y', 'f', 'm', 'n', 'p', 's'],\n",
    "             ['a', 'f', 'd', 'n'],\n",
    "           ['c', 'w' , 'd'],\n",
    "             ['b', 'n'],\n",
    "           ['k', 'n' , 'b', 'h', 'g', 'r', 'o', 'p', 'u', 'e', 'w', 'y']  \n",
    "              , ['e', 't'] ,\n",
    "           ['b','c','u','e','z','r'],\n",
    "              ['f', 'y' , 'k', 's'],\n",
    "              ['f', 'y' , 'k', 's'],\n",
    "              ['n', 'b', 'c', 'g', 'o', 'p', 'e', 'w', 'y'],\n",
    "              ['n', 'b', 'c', 'g', 'o', 'p', 'e', 'w', 'y'],\n",
    "              ['p', 'u'],\n",
    "               ['n', 'o', 'w', 'y'],\n",
    "              ['n', 'o', 't'],\n",
    "              ['c', 'e', 'f', 'l', 'n', 'p', 's', 'z'],\n",
    "              ['k', 'n', 'b', 'h', 'r', 'o', 'u', 'w', 'y'],\n",
    "               ['a', 'c', 'n', 's', 'v', 'y'],\n",
    "              ['g', 'l', 'm', 'p', 'u', 'w', 'd']\n",
    "          ]\n",
    "    #print(df.shape)\n",
    "    col = Set.columns.values                                 \n",
    "    i=0\n",
    "    NewDf=pd.DataFrame()\n",
    "    for column in col:\n",
    "        dummies = pd.get_dummies(data=df[column],columns=lis[i])\n",
    "        dummies=dummies.T.reindex(lis[i]).T.fillna(0)\n",
    "        #print(dummies)\n",
    "        NewDf=pd.concat([NewDf,dummies],axis=1,sort=False)\n",
    "        i=i+1\n",
    "    #print(NewDf)\n",
    "\n",
    "    return NewDf\n",
    "    #print(Encoded)\n",
    "#Set = pd.read_csv('train.csv')\n",
    "#TrainSet, TestSet, TestLabel,TrainLabel = Read_data()\n",
    "#Encoding(TrainSet)"
   ]
  },
  {
   "cell_type": "code",
   "execution_count": 34,
   "metadata": {},
   "outputs": [],
   "source": [
    "def evaluate_result( y_test, y_pred):\n",
    "    matrix = confusion_matrix(y_test, y_pred)\n",
    "    #print(y_test)\n",
    "    #print(y_pred)\n",
    "    df = pd.DataFrame(matrix)\n",
    "    df = df.transpose()\n",
    "    print(df.head())\n",
    "    f1 = f1_score(y_test, y_pred, average=\"macro\")\n",
    "    ps = precision_score(y_test, y_pred, average=\"macro\")\n",
    "    rs = recall_score(y_test, y_pred, average=\"macro\")\n",
    "    acs = accuracy_score(y_test, y_pred)\n",
    "    print(\"accuracy_score  : \", acs)\n",
    "    print(\"f1_score  : \", acs)\n",
    "    print(\"recall_score  : \", acs)\n",
    "    return acs\n",
    "    #return np.array([acs, ps, rs, f1])"
   ]
  },
  {
   "cell_type": "code",
   "execution_count": 3,
   "metadata": {},
   "outputs": [],
   "source": [
    "def KNNForOne(TrainSet, TestPoint,TrainLabel,k):\n",
    "    distance=[]\n",
    "    \n",
    "    for (index , TrainPoint) in TrainSet.iterrows():\n",
    "        dist=FindDistance(TrainPoint , TestPoint)\n",
    "        distance.append(dist)\n",
    "    #print(\" distance : \")    \n",
    "    #print(len(distance))    \n",
    "    #print(TrainLabel)    \n",
    "    #print(\"label : \")\n",
    "    #print(len(TrainLabel))\n",
    "    distanceLabelPair = [list(x) for x in zip(distance, TrainLabel)]\n",
    "    #print(\" pair \")\n",
    "    #print(len(distanceLabelPair))\n",
    "    distanceLabelPair.sort()\n",
    "    labelList = zip(*distanceLabelPair)[1]\n",
    "    labelList = labelList[:k]\n",
    "    most_frequent = max(set(labelList), key=labelList.count)\n",
    "    return most_frequent\n",
    "        "
   ]
  },
  {
   "cell_type": "code",
   "execution_count": 2,
   "metadata": {},
   "outputs": [],
   "source": [
    "def KnnForAll(TrainSet,TestSet,TrainLabel,TestLabel,k):\n",
    "    solution=pd.DataFrame()\n",
    "    solution['predicted'] = [\n",
    "        KNNForOne(TrainSet, row, TrainLabel,k) for i , row in TestSet.iterrows()\n",
    "    ]\n",
    "    return solution.values"
   ]
  },
  {
   "cell_type": "markdown",
   "metadata": {},
   "source": [
    "Replace The missing value '?' with Mode of that column\n"
   ]
  },
  {
   "cell_type": "code",
   "execution_count": null,
   "metadata": {},
   "outputs": [],
   "source": [
    "def ModifyData(TrainSet, TestSet ):\n",
    "    #print(TrainSet['?'])\n",
    "    mTrain   = TrainSet.mode()[11][0]\n",
    "    mTest    = TestSet.mode()[10][0]\n",
    "    #print(mTrain)\n",
    "    #print(mTest)\n",
    "    #ColumnsNamesArr = TrainSet.columns.values\n",
    "    #print(ColumnsNamesArr)\n",
    "    ColumnsNamesArr = TrainSet.columns.values\n",
    "    for col in ColumnsNamesArr:\n",
    "        mTrain = TrainSet[col].mode()[0]\n",
    "        TrainSet.replace(to_replace='?', value = mTrain , inplace = True)\n",
    "    #TrainSet.replace(to_replace='?', value = mTrain , inplace = True)\n",
    "    #TestSet.replace(to_replace = '?',value = mTest , inplace  = True)\n",
    "    #print(TrainSet['?'])\n",
    "    #print(TestSet['b.1'])\n",
    "    return Encoding(TrainSet), Encoding(TestSet)\n",
    "\n",
    "#ModifyData(TrainSet, TestSet)\n",
    "\n",
    "\n"
   ]
  },
  {
   "cell_type": "code",
   "execution_count": null,
   "metadata": {},
   "outputs": [],
   "source": [
    "def solve():\n",
    "    TrainSet, TestSet, TrainLabel,TestLabel = Read_data()\n",
    "    TrainSet,TestSet = ModifyData(TrainSet, TestSet)\n",
    "    Solution = KnnForAll(TrainSet, TestSet, TrainLabel,TestLabel,3)\n",
    "    evaluate_result( TestLabel, Solution)\n",
    "solve()    \n",
    "    "
   ]
  },
  {
   "cell_type": "markdown",
   "metadata": {},
   "source": [
    "### Accuracy Using Sklearn Knn classifier"
   ]
  },
  {
   "cell_type": "code",
   "execution_count": 38,
   "metadata": {},
   "outputs": [
    {
     "name": "stdout",
     "output_type": "stream",
     "text": [
      "('Accuracy Score for :  k = ', 1, 1.0)\n",
      "('Accuracy Score for :  k = ', 2, 1.0)\n",
      "('Accuracy Score for :  k = ', 3, 1.0)\n",
      "('Accuracy Score for :  k = ', 4, 1.0)\n",
      "('Accuracy Score for :  k = ', 5, 1.0)\n",
      " Graph : \n"
     ]
    },
    {
     "data": {
      "image/png": "[encoded data removed]",
      "text/plain": [
       "<Figure size 432x288 with 1 Axes>"
      ]
     },
     "metadata": {
      "needs_background": "light"
     },
     "output_type": "display_data"
    }
   ],
   "source": [
    "TrainSet, TestSet, TrainLabel,TestLabel = Read_data()\n",
    "TrainSet,TestSet = ModifyData(TrainSet, TestSet)\n",
    "s=[]\n",
    "for i in range (1,6):\n",
    "    knn = KNeighborsClassifier(n_neighbors = i)\n",
    "    knn.fit(TrainSet, TrainLabel)\n",
    "    s.append(knn.score(TestSet,TestLabel))\n",
    "    print(\"Accuracy Score for :  k = \", i , knn.score(TestSet , TestLabel))\n",
    "print(\" Graph : \")\n",
    "ks1 = [1,2,3,4,5]\n",
    "plt.plot(ks,num)\n",
    "plt.xlabel('k') \n",
    "plt.ylabel('accuracy value ') \n",
    "plt.title('accuracy - k value graph') \n",
    "plt.show() "
   ]
  },
  {
   "cell_type": "code",
   "execution_count": null,
   "metadata": {},
   "outputs": [],
   "source": [
    "\n",
    "\n"
   ]
  }
 ],
 "metadata": {
  "kernelspec": {
   "display_name": "Python 3",
   "language": "python",
   "name": "python3"
  },
  "language_info": {
   "codemirror_mode": {
    "name": "ipython",
    "version": 2
   },
   "file_extension": ".py",
   "mimetype": "text/x-python",
   "name": "python",
   "nbconvert_exporter": "python",
   "pygments_lexer": "ipython2",
   "version": "2.7.15+"
  }
 },
 "nbformat": 4,
 "nbformat_minor": 2
}
